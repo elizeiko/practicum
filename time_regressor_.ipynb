{
 "cells": [
  {
   "cell_type": "markdown",
   "metadata": {},
   "source": [
    "#  Прогнозирование заказов такси"
   ]
  },
  {
   "cell_type": "markdown",
   "metadata": {},
   "source": [
    "Компания «Чётенькое такси» собрала исторические данные о заказах такси в аэропортах. Чтобы привлекать больше водителей в период пиковой нагрузки, нужно спрогнозировать количество заказов такси на следующий час. Постройте модель для такого предсказания.\n",
    "\n",
    "Значение метрики *RMSE* на тестовой выборке должно быть не больше 48.\n",
    "\n",
    "Порядок выполнения:\n",
    "\n",
    "1. Загрузить данные и выполнить их ресемплирование по одному часу.\n",
    "2. Проанализировать данные.\n",
    "3. Обучить разные модели с различными гиперпараметрами. Сделать тестовую выборку размером 10% от исходных данных.\n",
    "4. Проверить данные на тестовой выборке и сделать выводы.\n",
    "\n",
    "\n",
    "Количество заказов находится в столбце `num_orders`."
   ]
  },
  {
   "cell_type": "code",
   "execution_count": 2,
   "metadata": {
    "scrolled": true
   },
   "outputs": [
    {
     "data": {
      "text/plain": [
       "'1.1.3'"
      ]
     },
     "execution_count": 2,
     "metadata": {},
     "output_type": "execute_result"
    }
   ],
   "source": [
    "import sklearn\n",
    "sklearn.__version__"
   ]
  },
  {
   "cell_type": "code",
   "execution_count": 3,
   "metadata": {},
   "outputs": [],
   "source": [
    "!pip install phik -q"
   ]
  },
  {
   "cell_type": "code",
   "execution_count": 5,
   "metadata": {},
   "outputs": [],
   "source": [
    "RAND=10"
   ]
  },
  {
   "cell_type": "code",
   "execution_count": 4,
   "metadata": {},
   "outputs": [],
   "source": [
    "import matplotlib.pyplot as plt\n",
    "import numpy as np\n",
    "import os\n",
    "import pandas as pd\n",
    "import phik\n",
    "import seaborn as sb\n",
    "import sklearn\n",
    "from sklearn.compose import ColumnTransformer\n",
    "from sklearn.ensemble import GradientBoostingRegressor\n",
    "from sklearn.impute import SimpleImputer\n",
    "from sklearn.model_selection import train_test_split,RandomizedSearchCV,GridSearchCV,TimeSeriesSplit\n",
    "from sklearn.linear_model import LinearRegression\n",
    "from sklearn.metrics import mean_squared_error\n",
    "from sklearn.pipeline import Pipeline, make_pipeline\n",
    "from sklearn.preprocessing import OneHotEncoder,OrdinalEncoder,RobustScaler,StandardScaler,MinMaxScaler\n",
    "from sklearn.tree import DecisionTreeRegressor\n",
    "\n",
    "from statsmodels.tsa.seasonal import seasonal_decompose as sd"
   ]
  },
  {
   "cell_type": "code",
   "execution_count": 7,
   "metadata": {},
   "outputs": [],
   "source": [
    "plt.rcParams['figure.figsize'] = [25, 8]"
   ]
  },
  {
   "cell_type": "markdown",
   "metadata": {},
   "source": [
    "## Подготовка"
   ]
  },
  {
   "cell_type": "code",
   "execution_count": 8,
   "metadata": {},
   "outputs": [],
   "source": [
    "path=\"C:\\\\Progs\\\\Anaconda3\\\\envs\\\\practicum\\\\df\\\\taxi.csv\"\n",
    "if os.path.exists(path):\n",
    "    df=pd.read_csv(path,parse_dates=[0])\n",
    "else:\n",
    "    print('Файл не существует')"
   ]
  },
  {
   "cell_type": "code",
   "execution_count": 9,
   "metadata": {},
   "outputs": [
    {
     "data": {
      "text/html": [
       "<div>\n",
       "<style scoped>\n",
       "    .dataframe tbody tr th:only-of-type {\n",
       "        vertical-align: middle;\n",
       "    }\n",
       "\n",
       "    .dataframe tbody tr th {\n",
       "        vertical-align: top;\n",
       "    }\n",
       "\n",
       "    .dataframe thead th {\n",
       "        text-align: right;\n",
       "    }\n",
       "</style>\n",
       "<table border=\"1\" class=\"dataframe\">\n",
       "  <thead>\n",
       "    <tr style=\"text-align: right;\">\n",
       "      <th></th>\n",
       "      <th>datetime</th>\n",
       "      <th>num_orders</th>\n",
       "    </tr>\n",
       "  </thead>\n",
       "  <tbody>\n",
       "    <tr>\n",
       "      <th>0</th>\n",
       "      <td>2018-03-01 00:00:00</td>\n",
       "      <td>9</td>\n",
       "    </tr>\n",
       "    <tr>\n",
       "      <th>1</th>\n",
       "      <td>2018-03-01 00:10:00</td>\n",
       "      <td>14</td>\n",
       "    </tr>\n",
       "    <tr>\n",
       "      <th>2</th>\n",
       "      <td>2018-03-01 00:20:00</td>\n",
       "      <td>28</td>\n",
       "    </tr>\n",
       "    <tr>\n",
       "      <th>3</th>\n",
       "      <td>2018-03-01 00:30:00</td>\n",
       "      <td>20</td>\n",
       "    </tr>\n",
       "    <tr>\n",
       "      <th>4</th>\n",
       "      <td>2018-03-01 00:40:00</td>\n",
       "      <td>32</td>\n",
       "    </tr>\n",
       "  </tbody>\n",
       "</table>\n",
       "</div>"
      ],
      "text/plain": [
       "             datetime  num_orders\n",
       "0 2018-03-01 00:00:00           9\n",
       "1 2018-03-01 00:10:00          14\n",
       "2 2018-03-01 00:20:00          28\n",
       "3 2018-03-01 00:30:00          20\n",
       "4 2018-03-01 00:40:00          32"
      ]
     },
     "execution_count": 9,
     "metadata": {},
     "output_type": "execute_result"
    }
   ],
   "source": [
    "df.head()"
   ]
  },
  {
   "cell_type": "code",
   "execution_count": 10,
   "metadata": {},
   "outputs": [
    {
     "data": {
      "text/plain": [
       "0"
      ]
     },
     "execution_count": 10,
     "metadata": {},
     "output_type": "execute_result"
    }
   ],
   "source": [
    "df['datetime'].duplicated().sum()"
   ]
  },
  {
   "cell_type": "markdown",
   "metadata": {},
   "source": [
    "Дубликатов во времени нет."
   ]
  },
  {
   "cell_type": "code",
   "execution_count": 11,
   "metadata": {},
   "outputs": [],
   "source": [
    "df=df.set_index('datetime').sort_index().resample('1H').sum()"
   ]
  },
  {
   "cell_type": "code",
   "execution_count": 12,
   "metadata": {},
   "outputs": [
    {
     "name": "stdout",
     "output_type": "stream",
     "text": [
      "<class 'pandas.core.frame.DataFrame'>\n",
      "DatetimeIndex: 4416 entries, 2018-03-01 00:00:00 to 2018-08-31 23:00:00\n",
      "Freq: H\n",
      "Data columns (total 1 columns):\n",
      " #   Column      Non-Null Count  Dtype\n",
      "---  ------      --------------  -----\n",
      " 0   num_orders  4416 non-null   int64\n",
      "dtypes: int64(1)\n",
      "memory usage: 69.0 KB\n"
     ]
    }
   ],
   "source": [
    "df.info()"
   ]
  },
  {
   "cell_type": "markdown",
   "metadata": {},
   "source": [
    "Пропусков нет."
   ]
  },
  {
   "cell_type": "code",
   "execution_count": 13,
   "metadata": {},
   "outputs": [
    {
     "data": {
      "text/plain": [
       "4416"
      ]
     },
     "execution_count": 13,
     "metadata": {},
     "output_type": "execute_result"
    }
   ],
   "source": [
    "(30*6+4)*24"
   ]
  },
  {
   "cell_type": "markdown",
   "metadata": {},
   "source": [
    "Присутствуют данные за каждый час периода."
   ]
  },
  {
   "cell_type": "markdown",
   "metadata": {},
   "source": [
    "## Анализ"
   ]
  },
  {
   "cell_type": "code",
   "execution_count": 14,
   "metadata": {},
   "outputs": [],
   "source": [
    "decomp=sd(df)"
   ]
  },
  {
   "cell_type": "code",
   "execution_count": 15,
   "metadata": {
    "scrolled": true
   },
   "outputs": [
    {
     "data": {
      "image/png": "[encoded data removed]",
      "text/plain": [
       "<Figure size 1800x576 with 1 Axes>"
      ]
     },
     "metadata": {
      "needs_background": "light"
     },
     "output_type": "display_data"
    }
   ],
   "source": [
    "decomp.seasonal['2018-05-20'].plot(figsize=(25,8),grid=True,ylabel='заказы',\n",
    "                   title='Колебание количества заказов в течение суток относительно тренда');"
   ]
  },
  {
   "cell_type": "markdown",
   "metadata": {},
   "source": [
    "Суточная амплитуда колебания 120, макимально - в полночь, минимально - в 6 утра. В первой половине дня пик в 10 ч, во второй - в 16 ч."
   ]
  },
  {
   "cell_type": "code",
   "execution_count": 16,
   "metadata": {},
   "outputs": [
    {
     "data": {
      "image/png": "[encoded data removed]",
      "text/plain": [
       "<Figure size 1800x576 with 1 Axes>"
      ]
     },
     "metadata": {
      "needs_background": "light"
     },
     "output_type": "display_data"
    }
   ],
   "source": [
    "decomp.trend.plot(figsize=(25,8),grid=True,ylabel='заказы',title='Тренд');"
   ]
  },
  {
   "cell_type": "code",
   "execution_count": 17,
   "metadata": {},
   "outputs": [
    {
     "data": {
      "image/png": "[encoded data removed]",
      "text/plain": [
       "<Figure size 1800x576 with 1 Axes>"
      ]
     },
     "metadata": {
      "needs_background": "light"
     },
     "output_type": "display_data"
    }
   ],
   "source": [
    "decomp.trend.resample('1W').sum().iloc[1:-1].plot(figsize=(25,8),grid=True,ylabel='заказы',\n",
    "                                       title='Понедельное количество заказов');"
   ]
  },
  {
   "cell_type": "markdown",
   "metadata": {},
   "source": [
    "Количество заказов росло в рассматриваемый период. В апреле, мае, июле пики под конец месяца."
   ]
  },
  {
   "cell_type": "code",
   "execution_count": 18,
   "metadata": {},
   "outputs": [],
   "source": [
    "df['dow']=df.index.dayofweek\n",
    "df['day']=df.index.day\n",
    "df['month']=df.index.month"
   ]
  },
  {
   "cell_type": "markdown",
   "metadata": {},
   "source": [
    "В связи с помесячной цикличностью введу также разделение месяца на четверти."
   ]
  },
  {
   "cell_type": "code",
   "execution_count": 19,
   "metadata": {},
   "outputs": [],
   "source": [
    "df['month_record']=(df['day']-1)*24+df.index.hour"
   ]
  },
  {
   "cell_type": "code",
   "execution_count": 20,
   "metadata": {},
   "outputs": [],
   "source": [
    "def quarta(row):\n",
    "    count=df.loc[df['month']==row['month'],'day'].max()*24/4\n",
    "    number=row['month_record']\n",
    "    for i in range(1,5):\n",
    "        if number<i*count:\n",
    "            return i"
   ]
  },
  {
   "cell_type": "code",
   "execution_count": 21,
   "metadata": {},
   "outputs": [],
   "source": [
    "df['qom']=df.apply(quarta,1)"
   ]
  },
  {
   "cell_type": "code",
   "execution_count": 22,
   "metadata": {
    "scrolled": true
   },
   "outputs": [
    {
     "data": {
      "image/png": "[encoded data removed]",
      "text/plain": [
       "<Figure size 1800x576 with 1 Axes>"
      ]
     },
     "metadata": {
      "needs_background": "light"
     },
     "output_type": "display_data"
    }
   ],
   "source": [
    "df.groupby(['month','qom'])['num_orders'].sum().plot(grid=True,figsize=(25,8),xticks=range(24),\n",
    "                    xlabel='четверть месяца',ylabel=\"кол-во заказов\",\n",
    "                    title='Количество заказов по четвертям месяца');"
   ]
  },
  {
   "cell_type": "markdown",
   "metadata": {},
   "source": [
    "Каждую первую четверть месяца, кроме июля, количество заказов проседает."
   ]
  },
  {
   "cell_type": "code",
   "execution_count": 23,
   "metadata": {},
   "outputs": [
    {
     "data": {
      "image/png": "[encoded data removed]",
      "text/plain": [
       "<Figure size 1800x576 with 1 Axes>"
      ]
     },
     "metadata": {
      "needs_background": "light"
     },
     "output_type": "display_data"
    }
   ],
   "source": [
    "df.groupby(['dow'])['num_orders'].median().plot(grid=True,figsize=(25,8),\n",
    "            xlabel='день недели',ylabel=\"кол-во заказов\",\n",
    "                    title='Медианное количество заказов по дням недели');"
   ]
  },
  {
   "cell_type": "markdown",
   "metadata": {},
   "source": [
    "Максимальное количество заказов в пятницу, минимальное - во вторник."
   ]
  },
  {
   "cell_type": "code",
   "execution_count": 24,
   "metadata": {},
   "outputs": [
    {
     "data": {
      "image/png": "[encoded data removed]",
      "text/plain": [
       "<Figure size 1800x576 with 1 Axes>"
      ]
     },
     "metadata": {
      "needs_background": "light"
     },
     "output_type": "display_data"
    }
   ],
   "source": [
    "decomp.resid.resample('1D').sum().plot(figsize=(25,8),grid=True,ylabel='заказы',\n",
    "                title='Колебание отклонений от тренда и сезонности по дням')\n",
    "plt.axhline(color='red',y=0);"
   ]
  },
  {
   "cell_type": "code",
   "execution_count": 25,
   "metadata": {
    "scrolled": true
   },
   "outputs": [
    {
     "data": {
      "image/png": "[encoded data removed]",
      "text/plain": [
       "<Figure size 1800x576 with 1 Axes>"
      ]
     },
     "metadata": {
      "needs_background": "light"
     },
     "output_type": "display_data"
    }
   ],
   "source": [
    "decomp.resid.resample('1M').std().plot(figsize=(25,8),grid=True,\n",
    "                ylabel='заказы', title='Стандартное отклонение выбросов по месяцам');"
   ]
  },
  {
   "cell_type": "markdown",
   "metadata": {},
   "source": [
    "Остатки с нарастающей с июня амплитудой колеблятся вокруг ноля."
   ]
  },
  {
   "cell_type": "code",
   "execution_count": 26,
   "metadata": {
    "scrolled": true
   },
   "outputs": [
    {
     "data": {
      "image/png": "[encoded data removed]",
      "text/plain": [
       "<Figure size 1800x576 with 1 Axes>"
      ]
     },
     "metadata": {
      "needs_background": "light"
     },
     "output_type": "display_data"
    }
   ],
   "source": [
    "(decomp.resid.resample('1M').std()/decomp.trend.resample('1M').mean()).plot(figsize=(25,8),\n",
    "                   title='Величина стандартного отклонения относительного среднего по месяцам',\n",
    "                                                            ylabel='отношение');"
   ]
  },
  {
   "cell_type": "markdown",
   "metadata": {},
   "source": [
    "Чем больше величины, тем больше в абсолютных значениях их отклонение. Но относительного величины количества заказов больше выбросов было в марте.\\\n",
    "Остатки распределены нормально."
   ]
  },
  {
   "cell_type": "code",
   "execution_count": 27,
   "metadata": {},
   "outputs": [
    {
     "data": {
      "image/png": "[encoded data removed]",
      "text/plain": [
       "<Figure size 1800x576 with 1 Axes>"
      ]
     },
     "metadata": {
      "needs_background": "light"
     },
     "output_type": "display_data"
    }
   ],
   "source": [
    "ax=df['num_orders'].resample('1D').sum().plot(figsize=(25,8),\n",
    "                   title='Заказы по дням', ylabel='заказы')\n",
    "df['num_orders'].resample('1D').sum().rolling(15).mean().plot(grid=True);"
   ]
  },
  {
   "cell_type": "markdown",
   "metadata": {},
   "source": [
    "Количество заказов растёт. С марта по август среднее за 15 дней увеличилось в 2.5 раза."
   ]
  },
  {
   "cell_type": "markdown",
   "metadata": {},
   "source": [
    "Ряд ежедневного количества заказов не стационарен: среднее ряда по 15 дням имеет тенденцию роста, увеличивающегося в конце периода."
   ]
  },
  {
   "cell_type": "markdown",
   "metadata": {},
   "source": [
    "### Вывод"
   ]
  },
  {
   "cell_type": "markdown",
   "metadata": {},
   "source": [
    "- Данные с 2018-03-01 00 ч по 2018-08-31 23ч.\n",
    "- Пропусков нет.\n",
    "- Суточная амплитуда колебания 120, макимально - в полночь, минимально - в 6 утра. В первой половине дня пик в 10 ч, во второй - в 16 ч.\n",
    "- Количество заказов росло в рассматриваемый период. \n",
    "- Каждую первую четверть месяца, кроме июля, количество заказов проседает.\n",
    "- Максимальное количество заказов в пятницу, минимальное - во вторник.\n",
    "- Шум имеет нормальное распределение.\n",
    "- Ряд ежедневного количества заказов не стационарен: среднее ряда по 15 дням имеет тенденцию роста, увеличивающегося в конце периода."
   ]
  },
  {
   "cell_type": "markdown",
   "metadata": {},
   "source": [
    "## Обучение"
   ]
  },
  {
   "cell_type": "code",
   "execution_count": 28,
   "metadata": {},
   "outputs": [
    {
     "data": {
      "text/plain": [
       "Index(['num_orders', 'dow', 'day', 'month', 'month_record', 'qom'], dtype='object')"
      ]
     },
     "execution_count": 28,
     "metadata": {},
     "output_type": "execute_result"
    }
   ],
   "source": [
    "df.columns"
   ]
  },
  {
   "cell_type": "markdown",
   "metadata": {},
   "source": [
    "Я уже создала признаки четверти месяца, дня недели и дня. Стоит добавить признак часа, и не понадобится промежуточный признак порядкового номера записи в месяце.\n",
    "    Также удалю из признаков месяц."
   ]
  },
  {
   "cell_type": "code",
   "execution_count": 29,
   "metadata": {},
   "outputs": [],
   "source": [
    "df['hour']=df.index.hour"
   ]
  },
  {
   "cell_type": "code",
   "execution_count": 30,
   "metadata": {},
   "outputs": [],
   "source": [
    "df=df.drop(['month_record','month'],axis=1)"
   ]
  },
  {
   "cell_type": "code",
   "execution_count": 31,
   "metadata": {},
   "outputs": [
    {
     "data": {
      "image/png": "[encoded data removed]",
      "text/plain": [
       "<Figure size 576x432 with 2 Axes>"
      ]
     },
     "metadata": {
      "needs_background": "light"
     },
     "output_type": "display_data"
    }
   ],
   "source": [
    "plt.figure(figsize=(8,6))\n",
    "sb.heatmap((df.phik_matrix(interval_cols=['num_orders']))*100,\n",
    "           annot=True,fmt='.0f')\n",
    "plt.title('Корреляция признаков');"
   ]
  },
  {
   "cell_type": "markdown",
   "metadata": {},
   "source": [
    "Мультиколлинеарность дня и четверти месяца - оставлю четверть месяца."
   ]
  },
  {
   "cell_type": "code",
   "execution_count": 32,
   "metadata": {},
   "outputs": [],
   "source": [
    "df=df.drop('day',1)"
   ]
  },
  {
   "cell_type": "code",
   "execution_count": 33,
   "metadata": {},
   "outputs": [],
   "source": [
    "rang=['dow','qom','hour']"
   ]
  },
  {
   "cell_type": "code",
   "execution_count": 34,
   "metadata": {},
   "outputs": [],
   "source": [
    "categories=[]\n",
    "for cat in rang:\n",
    "    categories.append(df.groupby(cat)['num_orders'].median().sort_values().index.tolist())"
   ]
  },
  {
   "cell_type": "markdown",
   "metadata": {},
   "source": [
    "Упорядочила значения ранговых признаков по их вкладу в целевую переменную."
   ]
  },
  {
   "cell_type": "code",
   "execution_count": 35,
   "metadata": {},
   "outputs": [
    {
     "data": {
      "text/plain": [
       "[[1, 6, 5, 3, 2, 0, 4],\n",
       " [1, 2, 3, 4],\n",
       " [6,\n",
       "  7,\n",
       "  5,\n",
       "  12,\n",
       "  18,\n",
       "  13,\n",
       "  8,\n",
       "  14,\n",
       "  19,\n",
       "  11,\n",
       "  20,\n",
       "  15,\n",
       "  9,\n",
       "  4,\n",
       "  17,\n",
       "  10,\n",
       "  22,\n",
       "  21,\n",
       "  1,\n",
       "  3,\n",
       "  2,\n",
       "  23,\n",
       "  16,\n",
       "  0]]"
      ]
     },
     "execution_count": 35,
     "metadata": {},
     "output_type": "execute_result"
    }
   ],
   "source": [
    "categories"
   ]
  },
  {
   "cell_type": "markdown",
   "metadata": {},
   "source": [
    "Для месяца и четверти вклад пропорционален величине значения, для дня недели и часа - не пропорционален, в их числовом типе нет смысла, а OrdinalEncoder требует отсортированность числовых значений по их величине, переведу час и день в строку."
   ]
  },
  {
   "cell_type": "code",
   "execution_count": 36,
   "metadata": {},
   "outputs": [],
   "source": [
    "nom=['dow','hour']\n",
    "for col in nom:\n",
    "    df[col]=df[col].astype(str)\n",
    "dow=list(map(str,categories[0]))\n",
    "hour=list(map(str,categories[2]))\n",
    "rang=['qom']\n",
    "cats_rang=[categories[1]]\n",
    "cats_nom=[dow,hour]"
   ]
  },
  {
   "cell_type": "code",
   "execution_count": 37,
   "metadata": {},
   "outputs": [
    {
     "data": {
      "text/plain": [
       "[['1', '6', '5', '3', '2', '0', '4'],\n",
       " ['6',\n",
       "  '7',\n",
       "  '5',\n",
       "  '12',\n",
       "  '18',\n",
       "  '13',\n",
       "  '8',\n",
       "  '14',\n",
       "  '19',\n",
       "  '11',\n",
       "  '20',\n",
       "  '15',\n",
       "  '9',\n",
       "  '4',\n",
       "  '17',\n",
       "  '10',\n",
       "  '22',\n",
       "  '21',\n",
       "  '1',\n",
       "  '3',\n",
       "  '2',\n",
       "  '23',\n",
       "  '16',\n",
       "  '0']]"
      ]
     },
     "execution_count": 37,
     "metadata": {},
     "output_type": "execute_result"
    }
   ],
   "source": [
    "cats_nom"
   ]
  },
  {
   "cell_type": "markdown",
   "metadata": {},
   "source": [
    "У меня в цикле копия эта делалась, потому что я перебирала параметры для создания признаков. Сейчас я остановилась на 24ч и убираю функцию."
   ]
  },
  {
   "cell_type": "code",
   "execution_count": 38,
   "metadata": {},
   "outputs": [],
   "source": [
    "table=pd.DataFrame(columns=['mean_test_score','mean_fit_time','mean_score_time','params'])"
   ]
  },
  {
   "cell_type": "code",
   "execution_count": 39,
   "metadata": {},
   "outputs": [],
   "source": [
    "def pipe_():\n",
    "    col_prepair = ColumnTransformer(\n",
    "            [('rang',\n",
    "  OrdinalEncoder(categories=cats_rang,handle_unknown='use_encoded_value',unknown_value=4),\n",
    "              rang),\n",
    "              ('nom',\n",
    "      make_pipeline(\n",
    "  OrdinalEncoder(categories=cats_nom,handle_unknown='use_encoded_value',unknown_value=np.nan),\n",
    "     SimpleImputer(missing_values=np.nan,strategy='most_frequent')             \n",
    "                  ),\n",
    "              nom),  \n",
    "             ('num', RobustScaler(),num)],\n",
    "            remainder='passthrough')\n",
    "    return Pipeline([('col_prepair',col_prepair),\n",
    "                         ('models', LinearRegression())])"
   ]
  },
  {
   "cell_type": "code",
   "execution_count": 40,
   "metadata": {},
   "outputs": [],
   "source": [
    "params_=[{'models': [DecisionTreeRegressor(random_state=RAND)],\n",
    "       'models__max_depth': [None] + [i for i in range(2, 7)],\n",
    "        'models__min_samples_leaf': range(1, 10),\n",
    "        'models__min_samples_split': range(2, 10),\n",
    "        'models__max_leaf_nodes':range(10,300),\n",
    "         'col_prepair__num': [RobustScaler(),StandardScaler(), MinMaxScaler(),'passthrough']\n",
    "         },\n",
    "        {'models':[GradientBoostingRegressor(random_state=RAND)],\n",
    "        'models__max_depth': [None] + [i for i in range(2, 7)],\n",
    "        'models__min_samples_leaf': range(1, 10),\n",
    "        'models__min_samples_split': range(2, 10),\n",
    "        'models__max_leaf_nodes':range(10,300),\n",
    "         'col_prepair__num': [RobustScaler(),StandardScaler(), MinMaxScaler(),'passthrough']\n",
    "        },\n",
    "          {'models':[LinearRegression()],\n",
    "            'col_prepair__num': [RobustScaler(),StandardScaler(), MinMaxScaler(),'passthrough'],\n",
    "           'col_prepair__nom':[OneHotEncoder(drop='first',handle_unknown='ignore')]\n",
    "          }]"
   ]
  },
  {
   "cell_type": "markdown",
   "metadata": {},
   "source": [
    "Данные имеют суточную цикличность - оптимально добавить в обучение именно данные за последние сутки."
   ]
  },
  {
   "cell_type": "code",
   "execution_count": 41,
   "metadata": {},
   "outputs": [
    {
     "name": "stderr",
     "output_type": "stream",
     "text": [
      "/opt/conda/lib/python3.9/site-packages/sklearn/model_selection/_search.py:306: UserWarning: The total space of parameters 4 is smaller than n_iter=10. Running 4 iterations. For exhaustive searches, use GridSearchCV.\n",
      "  warnings.warn(\n"
     ]
    },
    {
     "name": "stdout",
     "output_type": "stream",
     "text": [
      "CPU times: user 1min 28s, sys: 2.93 s, total: 1min 31s\n",
      "Wall time: 1min 32s\n"
     ]
    },
    {
     "data": {
      "text/html": [
       "<div>\n",
       "<style scoped>\n",
       "    .dataframe tbody tr th:only-of-type {\n",
       "        vertical-align: middle;\n",
       "    }\n",
       "\n",
       "    .dataframe tbody tr th {\n",
       "        vertical-align: top;\n",
       "    }\n",
       "\n",
       "    .dataframe thead th {\n",
       "        text-align: right;\n",
       "    }\n",
       "</style>\n",
       "<table border=\"1\" class=\"dataframe\">\n",
       "  <thead>\n",
       "    <tr style=\"text-align: right;\">\n",
       "      <th></th>\n",
       "      <th>mean_test_score</th>\n",
       "      <th>mean_fit_time</th>\n",
       "      <th>mean_score_time</th>\n",
       "      <th>params</th>\n",
       "    </tr>\n",
       "  </thead>\n",
       "  <tbody>\n",
       "    <tr>\n",
       "      <th>2</th>\n",
       "      <td>27.166381</td>\n",
       "      <td>0.028868</td>\n",
       "      <td>0.006151</td>\n",
       "      <td>{'models__min_samples_split': 9, 'models__min_...</td>\n",
       "    </tr>\n",
       "    <tr>\n",
       "      <th>0</th>\n",
       "      <td>27.312671</td>\n",
       "      <td>0.026870</td>\n",
       "      <td>0.006281</td>\n",
       "      <td>{'models__min_samples_split': 3, 'models__min_...</td>\n",
       "    </tr>\n",
       "    <tr>\n",
       "      <th>5</th>\n",
       "      <td>27.340373</td>\n",
       "      <td>0.033293</td>\n",
       "      <td>0.006027</td>\n",
       "      <td>{'models__min_samples_split': 5, 'models__min_...</td>\n",
       "    </tr>\n",
       "    <tr>\n",
       "      <th>5</th>\n",
       "      <td>24.092221</td>\n",
       "      <td>1.773367</td>\n",
       "      <td>0.008330</td>\n",
       "      <td>{'models__min_samples_split': 5, 'models__min_...</td>\n",
       "    </tr>\n",
       "    <tr>\n",
       "      <th>0</th>\n",
       "      <td>24.148627</td>\n",
       "      <td>1.509054</td>\n",
       "      <td>0.008031</td>\n",
       "      <td>{'models__min_samples_split': 3, 'models__min_...</td>\n",
       "    </tr>\n",
       "    <tr>\n",
       "      <th>4</th>\n",
       "      <td>24.163027</td>\n",
       "      <td>1.520822</td>\n",
       "      <td>0.008038</td>\n",
       "      <td>{'models__min_samples_split': 3, 'models__min_...</td>\n",
       "    </tr>\n",
       "    <tr>\n",
       "      <th>2</th>\n",
       "      <td>25.449639</td>\n",
       "      <td>0.160343</td>\n",
       "      <td>0.156625</td>\n",
       "      <td>{'models': LinearRegression(), 'col_prepair__n...</td>\n",
       "    </tr>\n",
       "    <tr>\n",
       "      <th>0</th>\n",
       "      <td>25.492406</td>\n",
       "      <td>0.162560</td>\n",
       "      <td>0.137014</td>\n",
       "      <td>{'models': LinearRegression(), 'col_prepair__n...</td>\n",
       "    </tr>\n",
       "    <tr>\n",
       "      <th>3</th>\n",
       "      <td>25.508663</td>\n",
       "      <td>0.102848</td>\n",
       "      <td>0.157362</td>\n",
       "      <td>{'models': LinearRegression(), 'col_prepair__n...</td>\n",
       "    </tr>\n",
       "  </tbody>\n",
       "</table>\n",
       "</div>"
      ],
      "text/plain": [
       "   mean_test_score  mean_fit_time  mean_score_time  \\\n",
       "2        27.166381       0.028868         0.006151   \n",
       "0        27.312671       0.026870         0.006281   \n",
       "5        27.340373       0.033293         0.006027   \n",
       "5        24.092221       1.773367         0.008330   \n",
       "0        24.148627       1.509054         0.008031   \n",
       "4        24.163027       1.520822         0.008038   \n",
       "2        25.449639       0.160343         0.156625   \n",
       "0        25.492406       0.162560         0.137014   \n",
       "3        25.508663       0.102848         0.157362   \n",
       "\n",
       "                                              params  \n",
       "2  {'models__min_samples_split': 9, 'models__min_...  \n",
       "0  {'models__min_samples_split': 3, 'models__min_...  \n",
       "5  {'models__min_samples_split': 5, 'models__min_...  \n",
       "5  {'models__min_samples_split': 5, 'models__min_...  \n",
       "0  {'models__min_samples_split': 3, 'models__min_...  \n",
       "4  {'models__min_samples_split': 3, 'models__min_...  \n",
       "2  {'models': LinearRegression(), 'col_prepair__n...  \n",
       "0  {'models': LinearRegression(), 'col_prepair__n...  \n",
       "3  {'models': LinearRegression(), 'col_prepair__n...  "
      ]
     },
     "execution_count": 41,
     "metadata": {},
     "output_type": "execute_result"
    }
   ],
   "source": [
    "%%time\n",
    "max_lag=24\n",
    "rolling_mean_size=24\n",
    "data=df.copy()\n",
    "num=['rolling_mean']#количественные признаки\n",
    "for lag in range(1, max_lag + 1):\n",
    "    data['lag_'+str(lag)] = data['num_orders'].shift(lag)\n",
    "    num.append('lag_'+str(lag))\n",
    "data['rolling_mean']=data['num_orders'].shift(1).rolling(rolling_mean_size).mean()\n",
    "train, test = train_test_split(data, shuffle=False, test_size=0.1)\n",
    "train = train.dropna()\n",
    "X_train=train.drop('num_orders',axis=1)\n",
    "y_train=train['num_orders']\n",
    "X_test=test.drop('num_orders',axis=1)\n",
    "y_test=test['num_orders']\n",
    "\n",
    "for i in range(3):\n",
    "    params=params_[i]\n",
    "    \n",
    "    pipe=pipe_()\n",
    "    \n",
    "    split=TimeSeriesSplit()\n",
    "    search=RandomizedSearchCV(pipe,params, scoring='neg_root_mean_squared_error',\n",
    "                               n_jobs=-1,random_state=RAND,n_iter=10,error_score='raise',cv=split)\n",
    "    \n",
    "    search.fit(X_train,y_train)\n",
    "    \n",
    "    best=pd.DataFrame(search.cv_results_)\\\n",
    "    [['mean_fit_time','mean_score_time','params','mean_test_score']]\\\n",
    "    .sort_values('mean_test_score',ascending=False).iloc[:3]\n",
    "    best['mean_test_score']=-best['mean_test_score']\n",
    "    table=pd.concat([table,best])\n",
    "table"
   ]
  },
  {
   "cell_type": "markdown",
   "metadata": {},
   "source": [
    "Все модели выдали хорошую метрику."
   ]
  },
  {
   "cell_type": "markdown",
   "metadata": {},
   "source": [
    "## Тестирование"
   ]
  },
  {
   "cell_type": "code",
   "execution_count": 42,
   "metadata": {
    "scrolled": true
   },
   "outputs": [
    {
     "data": {
      "text/html": [
       "<div>\n",
       "<style scoped>\n",
       "    .dataframe tbody tr th:only-of-type {\n",
       "        vertical-align: middle;\n",
       "    }\n",
       "\n",
       "    .dataframe tbody tr th {\n",
       "        vertical-align: top;\n",
       "    }\n",
       "\n",
       "    .dataframe thead th {\n",
       "        text-align: right;\n",
       "    }\n",
       "</style>\n",
       "<table border=\"1\" class=\"dataframe\">\n",
       "  <thead>\n",
       "    <tr style=\"text-align: right;\">\n",
       "      <th></th>\n",
       "      <th>mean_test_score</th>\n",
       "      <th>mean_fit_time</th>\n",
       "      <th>mean_score_time</th>\n",
       "      <th>params</th>\n",
       "    </tr>\n",
       "  </thead>\n",
       "  <tbody>\n",
       "    <tr>\n",
       "      <th>0</th>\n",
       "      <td>24.092221</td>\n",
       "      <td>1.773367</td>\n",
       "      <td>0.008330</td>\n",
       "      <td>{'models__min_samples_split': 5, 'models__min_...</td>\n",
       "    </tr>\n",
       "    <tr>\n",
       "      <th>1</th>\n",
       "      <td>24.148627</td>\n",
       "      <td>1.509054</td>\n",
       "      <td>0.008031</td>\n",
       "      <td>{'models__min_samples_split': 3, 'models__min_...</td>\n",
       "    </tr>\n",
       "    <tr>\n",
       "      <th>2</th>\n",
       "      <td>24.163027</td>\n",
       "      <td>1.520822</td>\n",
       "      <td>0.008038</td>\n",
       "      <td>{'models__min_samples_split': 3, 'models__min_...</td>\n",
       "    </tr>\n",
       "  </tbody>\n",
       "</table>\n",
       "</div>"
      ],
      "text/plain": [
       "   mean_test_score  mean_fit_time  mean_score_time  \\\n",
       "0        24.092221       1.773367         0.008330   \n",
       "1        24.148627       1.509054         0.008031   \n",
       "2        24.163027       1.520822         0.008038   \n",
       "\n",
       "                                              params  \n",
       "0  {'models__min_samples_split': 5, 'models__min_...  \n",
       "1  {'models__min_samples_split': 3, 'models__min_...  \n",
       "2  {'models__min_samples_split': 3, 'models__min_...  "
      ]
     },
     "execution_count": 42,
     "metadata": {},
     "output_type": "execute_result"
    }
   ],
   "source": [
    "table=table.sort_values('mean_test_score').reset_index(drop=True)\n",
    "table.head(3)"
   ]
  },
  {
   "cell_type": "code",
   "execution_count": 43,
   "metadata": {},
   "outputs": [
    {
     "name": "stdout",
     "output_type": "stream",
     "text": [
      "Минимальное полученное RMSE: 24.1\n"
     ]
    }
   ],
   "source": [
    "print('Минимальное полученное RMSE:', table['mean_test_score'].iloc[0].round(1))"
   ]
  },
  {
   "cell_type": "markdown",
   "metadata": {},
   "source": [
    "### проверка на адекватность"
   ]
  },
  {
   "cell_type": "markdown",
   "metadata": {},
   "source": [
    "#### константой"
   ]
  },
  {
   "cell_type": "code",
   "execution_count": 44,
   "metadata": {},
   "outputs": [],
   "source": [
    "train,test= train_test_split(df['num_orders'],shuffle=False, test_size=0.1)"
   ]
  },
  {
   "cell_type": "code",
   "execution_count": 45,
   "metadata": {},
   "outputs": [
    {
     "data": {
      "text/plain": [
       "87.2"
      ]
     },
     "execution_count": 45,
     "metadata": {},
     "output_type": "execute_result"
    }
   ],
   "source": [
    "mean_squared_error(test,np.ones(test.shape)*train.median(),squared=False).round(1)"
   ]
  },
  {
   "cell_type": "markdown",
   "metadata": {},
   "source": [
    "#### предыдущим значением"
   ]
  },
  {
   "cell_type": "code",
   "execution_count": 46,
   "metadata": {},
   "outputs": [
    {
     "data": {
      "text/plain": [
       "58.9"
      ]
     },
     "execution_count": 46,
     "metadata": {},
     "output_type": "execute_result"
    }
   ],
   "source": [
    "mean_squared_error(test.iloc[1:],test.shift().iloc[1:],squared=False).round(1)"
   ]
  },
  {
   "cell_type": "markdown",
   "metadata": {},
   "source": [
    "Модели предсказывают в 2.5 лучше, чем экстраполирование предыдущего значения."
   ]
  },
  {
   "cell_type": "markdown",
   "metadata": {},
   "source": [
    "### проверка не тесте"
   ]
  },
  {
   "cell_type": "code",
   "execution_count": 47,
   "metadata": {},
   "outputs": [
    {
     "data": {
      "text/plain": [
       "{'models__min_samples_split': 5,\n",
       " 'models__min_samples_leaf': 6,\n",
       " 'models__max_leaf_nodes': 26,\n",
       " 'models__max_depth': 6,\n",
       " 'models': GradientBoostingRegressor(max_depth=6, max_leaf_nodes=26, min_samples_leaf=6,\n",
       "                           min_samples_split=5, random_state=10),\n",
       " 'col_prepair__num': RobustScaler()}"
      ]
     },
     "execution_count": 47,
     "metadata": {},
     "output_type": "execute_result"
    }
   ],
   "source": [
    "table['params'].iloc[0]"
   ]
  },
  {
   "cell_type": "code",
   "execution_count": 48,
   "metadata": {},
   "outputs": [],
   "source": [
    "params={'models__min_samples_split':[5],\n",
    " 'models__min_samples_leaf': [6],\n",
    " 'models__max_leaf_nodes': [26],\n",
    " 'models__max_depth': [6],\n",
    " 'models': [GradientBoostingRegressor(random_state=10)],\n",
    " 'col_prepair__num':[RobustScaler()]}"
   ]
  },
  {
   "cell_type": "code",
   "execution_count": 49,
   "metadata": {},
   "outputs": [],
   "source": [
    "pipe=pipe_()\n",
    "\n",
    "search=GridSearchCV(pipe,params, scoring='neg_root_mean_squared_error',error_score='raise')\n",
    "predict=search.fit(X_train,y_train).predict(X_test)\n",
    "rmse=mean_squared_error(y_test,predict,squared=False).round(1)"
   ]
  },
  {
   "cell_type": "code",
   "execution_count": 50,
   "metadata": {},
   "outputs": [
    {
     "name": "stdout",
     "output_type": "stream",
     "text": [
      "41.6\n"
     ]
    }
   ],
   "source": [
    "print(rmse)"
   ]
  },
  {
   "cell_type": "code",
   "execution_count": 51,
   "metadata": {},
   "outputs": [
    {
     "data": {
      "image/png": "[encoded data removed]",
      "text/plain": [
       "<Figure size 1800x576 with 1 Axes>"
      ]
     },
     "metadata": {
      "needs_background": "light"
     },
     "output_type": "display_data"
    }
   ],
   "source": [
    "ax=y_test.resample('1D').sum().plot(ylabel='заказы')\n",
    "pred=pd.Series(predict)\n",
    "pred.index=y_test.index\n",
    "pred.name='predict'\n",
    "pd.concat([y_test,pred],1)['predict'].resample('1D').sum().plot(ax=ax)\n",
    "plt.legend()\n",
    "plt.title('Предсказанное и реальное количество заказов');"
   ]
  },
  {
   "cell_type": "markdown",
   "metadata": {},
   "source": [
    "Сначала графики совпадают, но потом предсказания не успевают за реальным ростом количества заказов. \n",
    "    В последних датах происходит резкий рост: в данные для обучения, такой рост не вошёл."
   ]
  },
  {
   "cell_type": "code",
   "execution_count": 52,
   "metadata": {},
   "outputs": [
    {
     "data": {
      "image/png": "[encoded data removed]",
      "text/plain": [
       "<Figure size 1800x576 with 1 Axes>"
      ]
     },
     "metadata": {
      "needs_background": "light"
     },
     "output_type": "display_data"
    }
   ],
   "source": [
    "ax=df['num_orders'].resample('1D').sum().plot(figsize=(25,8),ylabel='заказы')\n",
    "df['num_orders'].resample('1D').sum().rolling(15).mean().plot(grid=True)\n",
    "plt.axvline(x='2018-08-13',color='red')\n",
    "plt.title('Тестовые на данные на общем графике');"
   ]
  },
  {
   "cell_type": "markdown",
   "metadata": {},
   "source": [
    "### Вывод"
   ]
  },
  {
   "cell_type": "markdown",
   "metadata": {},
   "source": [
    "Лучший результат показала модель градиентного бустинга."
   ]
  },
  {
   "cell_type": "code",
   "execution_count": 53,
   "metadata": {},
   "outputs": [
    {
     "name": "stdout",
     "output_type": "stream",
     "text": [
      "RMSE: 42.0\n"
     ]
    }
   ],
   "source": [
    "print('RMSE:', rmse.round(0))"
   ]
  }
 ],
 "metadata": {
  "ExecuteTimeLog": [
   {
    "duration": 379,
    "start_time": "2024-04-30T13:04:11.710Z"
   },
   {
    "duration": 3,
    "start_time": "2024-04-30T14:53:10.276Z"
   },
   {
    "duration": 488,
    "start_time": "2024-04-30T14:56:32.327Z"
   },
   {
    "duration": 41,
    "start_time": "2024-04-30T14:57:07.636Z"
   },
   {
    "duration": 20,
    "start_time": "2024-04-30T14:57:25.392Z"
   },
   {
    "duration": 46,
    "start_time": "2024-04-30T14:59:37.208Z"
   },
   {
    "duration": 8,
    "start_time": "2024-04-30T14:59:38.460Z"
   },
   {
    "duration": 7,
    "start_time": "2024-04-30T15:00:34.515Z"
   },
   {
    "duration": 15,
    "start_time": "2024-04-30T15:13:03.681Z"
   },
   {
    "duration": 6,
    "start_time": "2024-04-30T15:13:35.924Z"
   },
   {
    "duration": 10,
    "start_time": "2024-04-30T15:13:52.805Z"
   },
   {
    "duration": 10,
    "start_time": "2024-04-30T15:14:29.290Z"
   },
   {
    "duration": 6,
    "start_time": "2024-04-30T15:15:00.460Z"
   },
   {
    "duration": 12,
    "start_time": "2024-04-30T15:15:22.001Z"
   },
   {
    "duration": 6,
    "start_time": "2024-04-30T15:15:36.745Z"
   },
   {
    "duration": 7,
    "start_time": "2024-04-30T15:15:39.292Z"
   },
   {
    "duration": 11,
    "start_time": "2024-04-30T15:17:09.308Z"
   },
   {
    "duration": 9,
    "start_time": "2024-04-30T15:30:39.076Z"
   },
   {
    "duration": 7,
    "start_time": "2024-04-30T15:31:07.431Z"
   },
   {
    "duration": 3,
    "start_time": "2024-04-30T15:31:29.081Z"
   },
   {
    "duration": 7,
    "start_time": "2024-04-30T15:39:03.272Z"
   },
   {
    "duration": 5,
    "start_time": "2024-04-30T15:39:18.892Z"
   },
   {
    "duration": 288,
    "start_time": "2024-04-30T15:40:30.329Z"
   },
   {
    "duration": 6,
    "start_time": "2024-04-30T15:40:39.947Z"
   },
   {
    "duration": 8,
    "start_time": "2024-04-30T15:42:19.006Z"
   },
   {
    "duration": 9,
    "start_time": "2024-04-30T15:43:01.674Z"
   },
   {
    "duration": 11,
    "start_time": "2024-04-30T15:43:41.507Z"
   },
   {
    "duration": 2,
    "start_time": "2024-04-30T15:45:25.449Z"
   },
   {
    "duration": 4,
    "start_time": "2024-04-30T15:45:25.453Z"
   },
   {
    "duration": 47,
    "start_time": "2024-04-30T15:45:25.458Z"
   },
   {
    "duration": 6,
    "start_time": "2024-04-30T15:45:25.508Z"
   },
   {
    "duration": 9,
    "start_time": "2024-04-30T15:45:25.516Z"
   },
   {
    "duration": 3,
    "start_time": "2024-04-30T15:47:15.273Z"
   },
   {
    "duration": 29,
    "start_time": "2024-04-30T15:47:15.277Z"
   },
   {
    "duration": 86,
    "start_time": "2024-04-30T15:47:15.308Z"
   },
   {
    "duration": 7,
    "start_time": "2024-04-30T15:47:15.396Z"
   },
   {
    "duration": 22,
    "start_time": "2024-04-30T15:47:15.404Z"
   },
   {
    "duration": 4,
    "start_time": "2024-04-30T15:48:23.981Z"
   },
   {
    "duration": 9,
    "start_time": "2024-04-30T15:53:42.805Z"
   },
   {
    "duration": 10,
    "start_time": "2024-04-30T15:53:45.738Z"
   },
   {
    "duration": 612,
    "start_time": "2024-04-30T15:56:08.504Z"
   },
   {
    "duration": 200,
    "start_time": "2024-04-30T15:56:14.411Z"
   },
   {
    "duration": 615,
    "start_time": "2024-04-30T15:58:27.919Z"
   },
   {
    "duration": 88,
    "start_time": "2024-04-30T15:59:08.706Z"
   },
   {
    "duration": 89,
    "start_time": "2024-04-30T15:59:13.621Z"
   },
   {
    "duration": 49,
    "start_time": "2024-04-30T16:18:28.251Z"
   },
   {
    "duration": 9,
    "start_time": "2024-04-30T16:20:09.817Z"
   },
   {
    "duration": 217,
    "start_time": "2024-04-30T16:20:43.630Z"
   },
   {
    "duration": 506,
    "start_time": "2024-04-30T16:21:22.552Z"
   },
   {
    "duration": 146,
    "start_time": "2024-04-30T16:29:23.227Z"
   },
   {
    "duration": 189,
    "start_time": "2024-04-30T16:29:48.828Z"
   },
   {
    "duration": 193,
    "start_time": "2024-04-30T16:35:35.061Z"
   },
   {
    "duration": 48,
    "start_time": "2024-04-30T16:40:59.002Z"
   },
   {
    "duration": 9,
    "start_time": "2024-04-30T16:41:07.386Z"
   },
   {
    "duration": 8,
    "start_time": "2024-04-30T16:41:22.522Z"
   },
   {
    "duration": 987,
    "start_time": "2024-04-30T16:45:21.665Z"
   },
   {
    "duration": 206,
    "start_time": "2024-04-30T17:04:13.399Z"
   },
   {
    "duration": 207,
    "start_time": "2024-04-30T17:07:09.952Z"
   },
   {
    "duration": 13,
    "start_time": "2024-04-30T17:15:07.389Z"
   },
   {
    "duration": 14,
    "start_time": "2024-04-30T17:28:17.460Z"
   },
   {
    "duration": 148,
    "start_time": "2024-04-30T17:31:20.121Z"
   },
   {
    "duration": 156,
    "start_time": "2024-04-30T17:31:30.412Z"
   },
   {
    "duration": 162,
    "start_time": "2024-04-30T17:32:57.458Z"
   },
   {
    "duration": 79,
    "start_time": "2024-04-30T17:33:27.475Z"
   },
   {
    "duration": 196,
    "start_time": "2024-04-30T17:33:32.269Z"
   },
   {
    "duration": 75,
    "start_time": "2024-04-30T17:33:46.254Z"
   },
   {
    "duration": 247,
    "start_time": "2024-04-30T17:33:51.050Z"
   },
   {
    "duration": 84,
    "start_time": "2024-04-30T17:34:51.541Z"
   },
   {
    "duration": 80,
    "start_time": "2024-04-30T17:34:55.613Z"
   },
   {
    "duration": 220,
    "start_time": "2024-04-30T17:35:06.753Z"
   },
   {
    "duration": 208,
    "start_time": "2024-04-30T17:35:15.285Z"
   },
   {
    "duration": 9,
    "start_time": "2024-04-30T17:37:05.803Z"
   },
   {
    "duration": 211,
    "start_time": "2024-04-30T17:43:06.907Z"
   },
   {
    "duration": 229,
    "start_time": "2024-04-30T17:43:38.290Z"
   },
   {
    "duration": 287,
    "start_time": "2024-04-30T17:46:05.029Z"
   },
   {
    "duration": 250,
    "start_time": "2024-04-30T18:00:17.136Z"
   },
   {
    "duration": 192,
    "start_time": "2024-04-30T18:07:36.730Z"
   },
   {
    "duration": 288,
    "start_time": "2024-04-30T18:14:36.295Z"
   },
   {
    "duration": 284,
    "start_time": "2024-04-30T18:44:40.808Z"
   },
   {
    "duration": 263,
    "start_time": "2024-04-30T18:45:58.601Z"
   },
   {
    "duration": 262,
    "start_time": "2024-04-30T18:46:23.180Z"
   },
   {
    "duration": 267,
    "start_time": "2024-04-30T18:47:08.516Z"
   },
   {
    "duration": 615,
    "start_time": "2024-04-30T18:51:32.476Z"
   },
   {
    "duration": 4,
    "start_time": "2024-04-30T19:03:57.291Z"
   },
   {
    "duration": 203,
    "start_time": "2024-04-30T19:04:22.712Z"
   },
   {
    "duration": 197,
    "start_time": "2024-04-30T19:04:27.540Z"
   },
   {
    "duration": 8,
    "start_time": "2024-04-30T19:04:41.474Z"
   },
   {
    "duration": 196,
    "start_time": "2024-04-30T19:05:18.980Z"
   },
   {
    "duration": 254,
    "start_time": "2024-04-30T19:05:55.660Z"
   },
   {
    "duration": 297,
    "start_time": "2024-04-30T19:08:30.542Z"
   },
   {
    "duration": 45,
    "start_time": "2024-04-30T21:27:30.593Z"
   },
   {
    "duration": 3,
    "start_time": "2024-04-30T21:27:45.260Z"
   },
   {
    "duration": 409,
    "start_time": "2024-04-30T21:27:45.265Z"
   },
   {
    "duration": 507,
    "start_time": "2024-04-30T21:27:45.675Z"
   },
   {
    "duration": 171,
    "start_time": "2024-04-30T21:27:46.193Z"
   },
   {
    "duration": 13,
    "start_time": "2024-04-30T21:27:46.365Z"
   },
   {
    "duration": 15,
    "start_time": "2024-04-30T21:27:46.380Z"
   },
   {
    "duration": 12,
    "start_time": "2024-04-30T21:27:46.397Z"
   },
   {
    "duration": 16,
    "start_time": "2024-04-30T21:27:46.411Z"
   },
   {
    "duration": 19,
    "start_time": "2024-04-30T21:27:46.428Z"
   },
   {
    "duration": 690,
    "start_time": "2024-04-30T21:27:46.449Z"
   },
   {
    "duration": 314,
    "start_time": "2024-04-30T21:27:47.142Z"
   },
   {
    "duration": 10,
    "start_time": "2024-04-30T21:27:47.459Z"
   },
   {
    "duration": 320,
    "start_time": "2024-04-30T21:30:01.134Z"
   },
   {
    "duration": 214,
    "start_time": "2024-04-30T21:30:48.452Z"
   },
   {
    "duration": 64,
    "start_time": "2024-04-30T21:42:33.768Z"
   },
   {
    "duration": 9,
    "start_time": "2024-04-30T21:45:59.041Z"
   },
   {
    "duration": 5,
    "start_time": "2024-04-30T22:04:57.637Z"
   },
   {
    "duration": 117,
    "start_time": "2024-04-30T22:09:25.487Z"
   },
   {
    "duration": 4,
    "start_time": "2024-04-30T22:10:39.482Z"
   },
   {
    "duration": 120,
    "start_time": "2024-04-30T22:11:19.582Z"
   },
   {
    "duration": 230,
    "start_time": "2024-04-30T22:13:59.906Z"
   },
   {
    "duration": 263,
    "start_time": "2024-04-30T22:14:26.387Z"
   },
   {
    "duration": 232,
    "start_time": "2024-04-30T22:31:57.233Z"
   },
   {
    "duration": 245,
    "start_time": "2024-04-30T22:34:31.378Z"
   },
   {
    "duration": 4,
    "start_time": "2024-04-30T22:44:47.631Z"
   },
   {
    "duration": 4,
    "start_time": "2024-04-30T22:45:12.545Z"
   },
   {
    "duration": 13,
    "start_time": "2024-04-30T22:55:05.315Z"
   },
   {
    "duration": 11,
    "start_time": "2024-04-30T22:56:17.906Z"
   },
   {
    "duration": 9,
    "start_time": "2024-04-30T22:56:27.063Z"
   },
   {
    "duration": 21,
    "start_time": "2024-04-30T22:56:52.611Z"
   },
   {
    "duration": 18,
    "start_time": "2024-04-30T22:57:32.407Z"
   },
   {
    "duration": 18,
    "start_time": "2024-04-30T23:53:40.021Z"
   },
   {
    "duration": 10,
    "start_time": "2024-04-30T23:55:39.757Z"
   },
   {
    "duration": 3,
    "start_time": "2024-04-30T23:56:48.490Z"
   },
   {
    "duration": 8,
    "start_time": "2024-04-30T23:56:49.907Z"
   },
   {
    "duration": 9,
    "start_time": "2024-04-30T23:57:05.609Z"
   },
   {
    "duration": 2,
    "start_time": "2024-04-30T23:58:09.973Z"
   },
   {
    "duration": 8,
    "start_time": "2024-04-30T23:58:11.611Z"
   },
   {
    "duration": 18,
    "start_time": "2024-04-30T23:59:49.257Z"
   },
   {
    "duration": 2,
    "start_time": "2024-05-01T00:00:27.337Z"
   },
   {
    "duration": 21,
    "start_time": "2024-05-01T00:00:28.464Z"
   },
   {
    "duration": 3,
    "start_time": "2024-05-01T00:02:38.654Z"
   },
   {
    "duration": 36,
    "start_time": "2024-05-01T00:02:39.638Z"
   },
   {
    "duration": 3,
    "start_time": "2024-05-01T00:04:15.834Z"
   },
   {
    "duration": 39,
    "start_time": "2024-05-01T00:04:16.522Z"
   },
   {
    "duration": 6,
    "start_time": "2024-05-01T00:04:50.397Z"
   },
   {
    "duration": 3,
    "start_time": "2024-05-01T00:11:50.704Z"
   },
   {
    "duration": 26,
    "start_time": "2024-05-01T00:11:51.445Z"
   },
   {
    "duration": 3,
    "start_time": "2024-05-01T00:14:23.223Z"
   },
   {
    "duration": 26,
    "start_time": "2024-05-01T00:14:23.854Z"
   },
   {
    "duration": 3,
    "start_time": "2024-05-01T00:15:47.554Z"
   },
   {
    "duration": 1379,
    "start_time": "2024-05-01T00:15:48.229Z"
   },
   {
    "duration": 3,
    "start_time": "2024-05-01T00:17:12.505Z"
   },
   {
    "duration": 1164,
    "start_time": "2024-05-01T00:17:16.433Z"
   },
   {
    "duration": 3,
    "start_time": "2024-05-01T00:21:39.153Z"
   },
   {
    "duration": 26,
    "start_time": "2024-05-01T00:21:40.057Z"
   },
   {
    "duration": 3,
    "start_time": "2024-05-01T00:21:49.558Z"
   },
   {
    "duration": 24,
    "start_time": "2024-05-01T00:21:50.227Z"
   },
   {
    "duration": 3,
    "start_time": "2024-05-01T00:24:39.269Z"
   },
   {
    "duration": 27,
    "start_time": "2024-05-01T00:24:39.966Z"
   },
   {
    "duration": 30,
    "start_time": "2024-05-01T00:27:45.832Z"
   },
   {
    "duration": 17,
    "start_time": "2024-05-01T00:28:30.381Z"
   },
   {
    "duration": 16,
    "start_time": "2024-05-01T00:28:51.420Z"
   },
   {
    "duration": 16,
    "start_time": "2024-05-01T00:29:08.410Z"
   },
   {
    "duration": 17,
    "start_time": "2024-05-01T00:30:13.673Z"
   },
   {
    "duration": 3,
    "start_time": "2024-05-01T00:39:49.049Z"
   },
   {
    "duration": 26,
    "start_time": "2024-05-01T00:39:49.987Z"
   },
   {
    "duration": 3,
    "start_time": "2024-05-01T00:40:56.306Z"
   },
   {
    "duration": 7455,
    "start_time": "2024-05-01T00:40:57.015Z"
   },
   {
    "duration": 6,
    "start_time": "2024-05-01T00:41:21.659Z"
   },
   {
    "duration": 3,
    "start_time": "2024-05-01T00:42:17.318Z"
   },
   {
    "duration": 7481,
    "start_time": "2024-05-01T00:42:19.186Z"
   },
   {
    "duration": 6,
    "start_time": "2024-05-01T00:42:27.546Z"
   },
   {
    "duration": 3,
    "start_time": "2024-05-01T00:43:41.048Z"
   },
   {
    "duration": 7498,
    "start_time": "2024-05-01T00:43:41.763Z"
   },
   {
    "duration": 4,
    "start_time": "2024-05-01T00:43:50.202Z"
   },
   {
    "duration": 2,
    "start_time": "2024-05-01T00:45:59.267Z"
   },
   {
    "duration": 67,
    "start_time": "2024-05-01T00:45:59.986Z"
   },
   {
    "duration": 6,
    "start_time": "2024-05-01T00:46:00.934Z"
   },
   {
    "duration": 2,
    "start_time": "2024-05-01T00:46:52.147Z"
   },
   {
    "duration": 8,
    "start_time": "2024-05-01T00:46:52.921Z"
   },
   {
    "duration": 146,
    "start_time": "2024-05-01T00:50:05.427Z"
   },
   {
    "duration": 13,
    "start_time": "2024-05-01T00:50:26.278Z"
   },
   {
    "duration": 1045,
    "start_time": "2024-05-01T00:51:03.883Z"
   },
   {
    "duration": 15,
    "start_time": "2024-05-01T00:51:33.337Z"
   },
   {
    "duration": 15,
    "start_time": "2024-05-01T00:52:17.182Z"
   },
   {
    "duration": 18,
    "start_time": "2024-05-01T00:54:36.746Z"
   },
   {
    "duration": 14,
    "start_time": "2024-05-01T00:54:58.890Z"
   },
   {
    "duration": 1105,
    "start_time": "2024-05-01T00:55:07.791Z"
   },
   {
    "duration": 15,
    "start_time": "2024-05-01T00:55:30.758Z"
   },
   {
    "duration": 5,
    "start_time": "2024-05-01T01:24:46.795Z"
   },
   {
    "duration": 9,
    "start_time": "2024-05-01T01:25:19.824Z"
   },
   {
    "duration": 14,
    "start_time": "2024-05-01T01:25:40.779Z"
   },
   {
    "duration": 4,
    "start_time": "2024-05-01T01:39:05.172Z"
   },
   {
    "duration": 1670,
    "start_time": "2024-05-01T01:39:07.084Z"
   },
   {
    "duration": 13,
    "start_time": "2024-05-01T01:39:43.816Z"
   },
   {
    "duration": 12,
    "start_time": "2024-05-01T01:40:10.942Z"
   },
   {
    "duration": 4,
    "start_time": "2024-05-01T01:43:20.003Z"
   },
   {
    "duration": 3,
    "start_time": "2024-05-01T01:43:21.283Z"
   },
   {
    "duration": 1674,
    "start_time": "2024-05-01T01:43:22.203Z"
   },
   {
    "duration": 13,
    "start_time": "2024-05-01T01:43:23.878Z"
   },
   {
    "duration": 11,
    "start_time": "2024-05-01T01:44:05.292Z"
   },
   {
    "duration": 699,
    "start_time": "2024-05-01T01:54:26.155Z"
   },
   {
    "duration": 568,
    "start_time": "2024-05-01T01:54:30.924Z"
   },
   {
    "duration": 113,
    "start_time": "2024-05-01T01:54:47.456Z"
   },
   {
    "duration": 118,
    "start_time": "2024-05-01T01:55:11.798Z"
   },
   {
    "duration": 179,
    "start_time": "2024-05-01T01:55:43.942Z"
   },
   {
    "duration": 13,
    "start_time": "2024-05-01T01:56:49.361Z"
   },
   {
    "duration": 209,
    "start_time": "2024-05-01T01:56:54.953Z"
   },
   {
    "duration": 261,
    "start_time": "2024-05-01T01:58:33.696Z"
   },
   {
    "duration": 258,
    "start_time": "2024-05-01T02:00:54.126Z"
   },
   {
    "duration": 7,
    "start_time": "2024-05-01T02:07:46.907Z"
   },
   {
    "duration": 400,
    "start_time": "2024-05-01T02:07:46.915Z"
   },
   {
    "duration": 467,
    "start_time": "2024-05-01T02:07:47.317Z"
   },
   {
    "duration": 48,
    "start_time": "2024-05-01T02:07:47.785Z"
   },
   {
    "duration": 13,
    "start_time": "2024-05-01T02:07:47.835Z"
   },
   {
    "duration": 9,
    "start_time": "2024-05-01T02:07:47.849Z"
   },
   {
    "duration": 10,
    "start_time": "2024-05-01T02:07:47.859Z"
   },
   {
    "duration": 9,
    "start_time": "2024-05-01T02:07:47.870Z"
   },
   {
    "duration": 6,
    "start_time": "2024-05-01T02:07:47.881Z"
   },
   {
    "duration": 30,
    "start_time": "2024-05-01T02:07:47.889Z"
   },
   {
    "duration": 481,
    "start_time": "2024-05-01T02:07:47.920Z"
   },
   {
    "duration": 307,
    "start_time": "2024-05-01T02:07:48.402Z"
   },
   {
    "duration": 258,
    "start_time": "2024-05-01T02:07:48.711Z"
   },
   {
    "duration": 6,
    "start_time": "2024-05-01T02:07:48.972Z"
   },
   {
    "duration": 13,
    "start_time": "2024-05-01T02:07:48.979Z"
   },
   {
    "duration": 4,
    "start_time": "2024-05-01T02:07:48.994Z"
   },
   {
    "duration": 1694,
    "start_time": "2024-05-01T02:07:48.999Z"
   },
   {
    "duration": 275,
    "start_time": "2024-05-01T02:07:50.695Z"
   },
   {
    "duration": 252,
    "start_time": "2024-05-01T02:10:27.844Z"
   },
   {
    "duration": 242,
    "start_time": "2024-05-01T02:14:05.713Z"
   },
   {
    "duration": 230,
    "start_time": "2024-05-01T02:14:26.536Z"
   },
   {
    "duration": 327,
    "start_time": "2024-05-01T02:14:43.954Z"
   },
   {
    "duration": 186,
    "start_time": "2024-05-01T02:17:06.920Z"
   },
   {
    "duration": 173,
    "start_time": "2024-05-01T02:17:10.404Z"
   },
   {
    "duration": 162,
    "start_time": "2024-05-01T02:17:37.866Z"
   },
   {
    "duration": 176,
    "start_time": "2024-05-01T02:17:50.055Z"
   },
   {
    "duration": 93,
    "start_time": "2024-05-01T02:18:55.533Z"
   },
   {
    "duration": 10,
    "start_time": "2024-05-01T02:19:20.430Z"
   },
   {
    "duration": 182,
    "start_time": "2024-05-01T02:20:04.438Z"
   },
   {
    "duration": 294,
    "start_time": "2024-05-01T02:22:33.812Z"
   },
   {
    "duration": 211,
    "start_time": "2024-05-01T02:23:26.444Z"
   },
   {
    "duration": 191,
    "start_time": "2024-05-01T02:24:29.221Z"
   },
   {
    "duration": 105,
    "start_time": "2024-05-01T02:25:13.342Z"
   },
   {
    "duration": 174,
    "start_time": "2024-05-01T02:25:21.224Z"
   },
   {
    "duration": 189,
    "start_time": "2024-05-01T02:25:57.968Z"
   },
   {
    "duration": 185,
    "start_time": "2024-05-01T02:26:24.469Z"
   },
   {
    "duration": 192,
    "start_time": "2024-05-01T02:26:37.270Z"
   },
   {
    "duration": 198,
    "start_time": "2024-05-01T02:28:18.488Z"
   },
   {
    "duration": 283,
    "start_time": "2024-05-01T02:29:16.966Z"
   },
   {
    "duration": 305,
    "start_time": "2024-05-01T02:29:24.880Z"
   },
   {
    "duration": 248,
    "start_time": "2024-05-01T02:29:56.972Z"
   },
   {
    "duration": 213,
    "start_time": "2024-05-01T02:30:04.748Z"
   },
   {
    "duration": 273,
    "start_time": "2024-05-01T02:30:11.179Z"
   },
   {
    "duration": 247,
    "start_time": "2024-05-01T02:30:36.850Z"
   },
   {
    "duration": 256,
    "start_time": "2024-05-01T02:31:15.552Z"
   },
   {
    "duration": 176,
    "start_time": "2024-05-01T02:31:38.112Z"
   },
   {
    "duration": 163,
    "start_time": "2024-05-01T02:32:11.364Z"
   },
   {
    "duration": 167,
    "start_time": "2024-05-01T02:33:05.653Z"
   },
   {
    "duration": 294,
    "start_time": "2024-05-01T02:33:14.856Z"
   },
   {
    "duration": 209,
    "start_time": "2024-05-01T02:42:28.157Z"
   },
   {
    "duration": 204,
    "start_time": "2024-05-01T02:42:36.251Z"
   },
   {
    "duration": 195,
    "start_time": "2024-05-01T02:42:44.269Z"
   },
   {
    "duration": 2,
    "start_time": "2024-05-01T02:49:16.982Z"
   },
   {
    "duration": 211,
    "start_time": "2024-05-01T02:49:32.803Z"
   },
   {
    "duration": 289,
    "start_time": "2024-05-01T02:49:39.812Z"
   },
   {
    "duration": 419,
    "start_time": "2024-05-01T02:52:59.862Z"
   },
   {
    "duration": 359,
    "start_time": "2024-05-01T02:53:19.648Z"
   },
   {
    "duration": 313,
    "start_time": "2024-05-01T02:54:14.043Z"
   },
   {
    "duration": 598,
    "start_time": "2024-05-01T02:54:23.462Z"
   },
   {
    "duration": 325,
    "start_time": "2024-05-01T02:54:32.927Z"
   },
   {
    "duration": 339,
    "start_time": "2024-05-01T02:54:41.318Z"
   },
   {
    "duration": 358,
    "start_time": "2024-05-01T02:57:26.138Z"
   },
   {
    "duration": 178,
    "start_time": "2024-05-01T02:57:50.433Z"
   },
   {
    "duration": 190,
    "start_time": "2024-05-01T02:58:01.791Z"
   },
   {
    "duration": 371,
    "start_time": "2024-05-01T03:28:45.377Z"
   },
   {
    "duration": 244,
    "start_time": "2024-05-01T03:29:07.555Z"
   },
   {
    "duration": 375,
    "start_time": "2024-05-01T03:29:15.257Z"
   },
   {
    "duration": 372,
    "start_time": "2024-05-01T03:33:11.246Z"
   },
   {
    "duration": 17,
    "start_time": "2024-05-01T03:43:22.205Z"
   },
   {
    "duration": 7,
    "start_time": "2024-05-01T03:44:52.858Z"
   },
   {
    "duration": 7,
    "start_time": "2024-05-01T03:45:09.257Z"
   },
   {
    "duration": 201,
    "start_time": "2024-05-01T03:45:30.604Z"
   },
   {
    "duration": 202,
    "start_time": "2024-05-01T03:47:38.532Z"
   },
   {
    "duration": 191,
    "start_time": "2024-05-01T03:48:03.471Z"
   },
   {
    "duration": 193,
    "start_time": "2024-05-01T03:50:15.287Z"
   },
   {
    "duration": 42,
    "start_time": "2024-05-01T07:16:29.061Z"
   },
   {
    "duration": 546,
    "start_time": "2024-05-01T07:16:34.324Z"
   },
   {
    "duration": 2,
    "start_time": "2024-05-01T07:16:34.873Z"
   },
   {
    "duration": 230,
    "start_time": "2024-05-01T07:16:34.877Z"
   },
   {
    "duration": 441,
    "start_time": "2024-05-01T07:16:35.109Z"
   },
   {
    "duration": 161,
    "start_time": "2024-05-01T07:16:35.551Z"
   },
   {
    "duration": 9,
    "start_time": "2024-05-01T07:16:35.713Z"
   },
   {
    "duration": 10,
    "start_time": "2024-05-01T07:16:35.723Z"
   },
   {
    "duration": 27,
    "start_time": "2024-05-01T07:16:35.734Z"
   },
   {
    "duration": 25,
    "start_time": "2024-05-01T07:16:35.762Z"
   },
   {
    "duration": 12,
    "start_time": "2024-05-01T07:16:35.790Z"
   },
   {
    "duration": 7,
    "start_time": "2024-05-01T07:16:35.804Z"
   },
   {
    "duration": 242,
    "start_time": "2024-05-01T07:16:35.813Z"
   },
   {
    "duration": 272,
    "start_time": "2024-05-01T07:16:36.057Z"
   },
   {
    "duration": 272,
    "start_time": "2024-05-01T07:16:36.331Z"
   },
   {
    "duration": 5,
    "start_time": "2024-05-01T07:16:36.605Z"
   },
   {
    "duration": 29,
    "start_time": "2024-05-01T07:16:36.612Z"
   },
   {
    "duration": 6,
    "start_time": "2024-05-01T07:16:36.642Z"
   },
   {
    "duration": 1262,
    "start_time": "2024-05-01T07:16:36.649Z"
   },
   {
    "duration": 256,
    "start_time": "2024-05-01T07:16:37.912Z"
   },
   {
    "duration": 181,
    "start_time": "2024-05-01T07:16:38.170Z"
   },
   {
    "duration": 389,
    "start_time": "2024-05-01T07:16:38.352Z"
   },
   {
    "duration": 183,
    "start_time": "2024-05-01T07:16:38.742Z"
   },
   {
    "duration": 186,
    "start_time": "2024-05-01T07:16:38.927Z"
   },
   {
    "duration": 3,
    "start_time": "2024-05-01T07:16:39.115Z"
   },
   {
    "duration": 3,
    "start_time": "2024-05-01T07:22:11.375Z"
   },
   {
    "duration": 3,
    "start_time": "2024-05-01T07:22:48.373Z"
   },
   {
    "duration": 2,
    "start_time": "2024-05-01T07:26:02.647Z"
   },
   {
    "duration": 64,
    "start_time": "2024-05-01T08:06:20.638Z"
   },
   {
    "duration": 18,
    "start_time": "2024-05-01T08:06:44.653Z"
   },
   {
    "duration": 69,
    "start_time": "2024-05-01T08:12:31.261Z"
   },
   {
    "duration": 3357,
    "start_time": "2024-05-01T08:13:09.552Z"
   },
   {
    "duration": 38,
    "start_time": "2024-05-01T08:13:29.301Z"
   },
   {
    "duration": 477,
    "start_time": "2024-05-01T08:13:52.901Z"
   },
   {
    "duration": 3,
    "start_time": "2024-05-01T08:18:30.511Z"
   },
   {
    "duration": 3,
    "start_time": "2024-05-01T08:18:54.069Z"
   },
   {
    "duration": 3,
    "start_time": "2024-05-01T08:32:41.864Z"
   },
   {
    "duration": 3,
    "start_time": "2024-05-01T08:48:20.732Z"
   },
   {
    "duration": 7,
    "start_time": "2024-05-01T10:05:59.316Z"
   },
   {
    "duration": 4,
    "start_time": "2024-05-01T10:06:12.134Z"
   },
   {
    "duration": 7,
    "start_time": "2024-05-01T10:06:52.063Z"
   },
   {
    "duration": 4,
    "start_time": "2024-05-01T10:06:53.097Z"
   },
   {
    "duration": 3,
    "start_time": "2024-05-01T10:10:08.965Z"
   },
   {
    "duration": 73,
    "start_time": "2024-05-01T10:10:11.677Z"
   },
   {
    "duration": 23,
    "start_time": "2024-05-01T10:12:51.088Z"
   },
   {
    "duration": 5,
    "start_time": "2024-05-01T10:13:06.338Z"
   },
   {
    "duration": 4,
    "start_time": "2024-05-01T10:20:20.433Z"
   },
   {
    "duration": 6,
    "start_time": "2024-05-01T10:20:33.080Z"
   },
   {
    "duration": 24,
    "start_time": "2024-05-01T10:37:05.975Z"
   },
   {
    "duration": 16,
    "start_time": "2024-05-01T10:38:42.735Z"
   },
   {
    "duration": 15,
    "start_time": "2024-05-01T10:38:51.900Z"
   },
   {
    "duration": 3,
    "start_time": "2024-05-01T10:43:35.828Z"
   },
   {
    "duration": 6,
    "start_time": "2024-05-01T10:43:45.052Z"
   },
   {
    "duration": 6,
    "start_time": "2024-05-01T10:44:25.568Z"
   },
   {
    "duration": 6,
    "start_time": "2024-05-01T10:44:28.669Z"
   },
   {
    "duration": 15,
    "start_time": "2024-05-01T10:46:35.906Z"
   },
   {
    "duration": 5,
    "start_time": "2024-05-01T10:48:00.183Z"
   },
   {
    "duration": 3,
    "start_time": "2024-05-01T10:48:34.529Z"
   },
   {
    "duration": 63,
    "start_time": "2024-05-01T10:48:47.869Z"
   },
   {
    "duration": 2405,
    "start_time": "2024-05-01T11:06:48.473Z"
   },
   {
    "duration": 1306,
    "start_time": "2024-05-01T11:06:50.881Z"
   },
   {
    "duration": 5,
    "start_time": "2024-05-01T11:06:52.196Z"
   },
   {
    "duration": 63,
    "start_time": "2024-05-01T11:06:52.203Z"
   },
   {
    "duration": 8,
    "start_time": "2024-05-01T11:06:52.268Z"
   },
   {
    "duration": 15,
    "start_time": "2024-05-01T11:06:52.278Z"
   },
   {
    "duration": 10,
    "start_time": "2024-05-01T11:06:52.294Z"
   },
   {
    "duration": 10,
    "start_time": "2024-05-01T11:06:52.305Z"
   },
   {
    "duration": 6,
    "start_time": "2024-05-01T11:06:52.317Z"
   },
   {
    "duration": 7,
    "start_time": "2024-05-01T11:06:52.326Z"
   },
   {
    "duration": 219,
    "start_time": "2024-05-01T11:06:52.335Z"
   },
   {
    "duration": 280,
    "start_time": "2024-05-01T11:06:52.556Z"
   },
   {
    "duration": 259,
    "start_time": "2024-05-01T11:06:52.837Z"
   },
   {
    "duration": 5,
    "start_time": "2024-05-01T11:06:53.098Z"
   },
   {
    "duration": 5,
    "start_time": "2024-05-01T11:06:53.104Z"
   },
   {
    "duration": 3,
    "start_time": "2024-05-01T11:06:53.110Z"
   },
   {
    "duration": 1290,
    "start_time": "2024-05-01T11:06:53.115Z"
   },
   {
    "duration": 238,
    "start_time": "2024-05-01T11:06:54.406Z"
   },
   {
    "duration": 202,
    "start_time": "2024-05-01T11:06:54.645Z"
   },
   {
    "duration": 378,
    "start_time": "2024-05-01T11:06:54.848Z"
   },
   {
    "duration": 185,
    "start_time": "2024-05-01T11:06:55.227Z"
   },
   {
    "duration": 189,
    "start_time": "2024-05-01T11:06:55.413Z"
   },
   {
    "duration": 3,
    "start_time": "2024-05-01T11:06:55.604Z"
   },
   {
    "duration": 6,
    "start_time": "2024-05-01T11:06:55.608Z"
   },
   {
    "duration": 8,
    "start_time": "2024-05-01T11:06:55.615Z"
   },
   {
    "duration": 458,
    "start_time": "2024-05-01T11:06:55.624Z"
   },
   {
    "duration": 3,
    "start_time": "2024-05-01T11:06:56.083Z"
   },
   {
    "duration": 6,
    "start_time": "2024-05-01T11:06:56.089Z"
   },
   {
    "duration": 9,
    "start_time": "2024-05-01T11:06:56.096Z"
   },
   {
    "duration": 3,
    "start_time": "2024-05-01T11:06:56.106Z"
   },
   {
    "duration": 24,
    "start_time": "2024-05-01T11:06:56.110Z"
   },
   {
    "duration": 4,
    "start_time": "2024-05-01T11:06:56.135Z"
   },
   {
    "duration": 148,
    "start_time": "2024-05-01T11:06:56.140Z"
   },
   {
    "duration": 74,
    "start_time": "2024-05-01T11:15:46.627Z"
   },
   {
    "duration": 55,
    "start_time": "2024-05-01T11:27:01.059Z"
   },
   {
    "duration": 59,
    "start_time": "2024-05-01T11:27:28.770Z"
   },
   {
    "duration": 69,
    "start_time": "2024-05-01T11:28:49.553Z"
   },
   {
    "duration": 9,
    "start_time": "2024-05-01T11:33:45.634Z"
   },
   {
    "duration": 8,
    "start_time": "2024-05-01T11:33:56.999Z"
   },
   {
    "duration": 10,
    "start_time": "2024-05-01T11:34:05.151Z"
   },
   {
    "duration": 4,
    "start_time": "2024-05-01T11:34:20.548Z"
   },
   {
    "duration": 10,
    "start_time": "2024-05-01T11:35:06.791Z"
   },
   {
    "duration": 61,
    "start_time": "2024-05-01T11:40:42.932Z"
   },
   {
    "duration": 8,
    "start_time": "2024-05-01T11:40:51.989Z"
   },
   {
    "duration": 3,
    "start_time": "2024-05-01T11:40:54.204Z"
   },
   {
    "duration": 6,
    "start_time": "2024-05-01T11:40:55.293Z"
   },
   {
    "duration": 3,
    "start_time": "2024-05-01T11:40:56.287Z"
   },
   {
    "duration": 54,
    "start_time": "2024-05-01T11:41:02.504Z"
   },
   {
    "duration": 4,
    "start_time": "2024-05-01T11:44:09.590Z"
   },
   {
    "duration": 4,
    "start_time": "2024-05-01T11:48:02.716Z"
   },
   {
    "duration": 75,
    "start_time": "2024-05-01T12:12:28.984Z"
   },
   {
    "duration": 9,
    "start_time": "2024-05-01T12:13:49.801Z"
   },
   {
    "duration": 3,
    "start_time": "2024-05-01T12:14:02.621Z"
   },
   {
    "duration": 4,
    "start_time": "2024-05-01T12:14:27.697Z"
   },
   {
    "duration": 9,
    "start_time": "2024-05-01T12:14:33.038Z"
   },
   {
    "duration": 4,
    "start_time": "2024-05-01T12:14:40.208Z"
   },
   {
    "duration": 5,
    "start_time": "2024-05-01T12:15:03.938Z"
   },
   {
    "duration": 3,
    "start_time": "2024-05-01T12:15:06.932Z"
   },
   {
    "duration": 3,
    "start_time": "2024-05-01T12:15:25.380Z"
   },
   {
    "duration": 8,
    "start_time": "2024-05-01T12:15:28.045Z"
   },
   {
    "duration": 4,
    "start_time": "2024-05-01T12:15:43.625Z"
   },
   {
    "duration": 6,
    "start_time": "2024-05-01T12:16:19.392Z"
   },
   {
    "duration": 3,
    "start_time": "2024-05-01T12:16:21.475Z"
   },
   {
    "duration": 4,
    "start_time": "2024-05-01T12:16:42.567Z"
   },
   {
    "duration": 4,
    "start_time": "2024-05-01T12:16:52.123Z"
   },
   {
    "duration": 4,
    "start_time": "2024-05-01T12:16:54.383Z"
   },
   {
    "duration": 3,
    "start_time": "2024-05-01T12:16:56.568Z"
   },
   {
    "duration": 246526,
    "start_time": "2024-05-01T12:19:00.320Z"
   },
   {
    "duration": 4,
    "start_time": "2024-05-01T12:27:34.121Z"
   },
   {
    "duration": 3,
    "start_time": "2024-05-01T12:29:15.455Z"
   },
   {
    "duration": 6,
    "start_time": "2024-05-01T13:00:06.882Z"
   },
   {
    "duration": 4,
    "start_time": "2024-05-01T13:00:20.193Z"
   },
   {
    "duration": 4,
    "start_time": "2024-05-01T13:00:47.522Z"
   },
   {
    "duration": 2,
    "start_time": "2024-05-01T13:01:34.653Z"
   },
   {
    "duration": 4,
    "start_time": "2024-05-01T13:01:48.612Z"
   },
   {
    "duration": 3,
    "start_time": "2024-05-01T13:03:37.864Z"
   },
   {
    "duration": 4,
    "start_time": "2024-05-01T13:03:40.733Z"
   },
   {
    "duration": 5,
    "start_time": "2024-05-01T13:04:42.108Z"
   },
   {
    "duration": 4,
    "start_time": "2024-05-01T13:04:49.817Z"
   },
   {
    "duration": 2665,
    "start_time": "2024-05-01T13:06:13.637Z"
   },
   {
    "duration": 1358,
    "start_time": "2024-05-01T13:06:16.304Z"
   },
   {
    "duration": 3,
    "start_time": "2024-05-01T13:06:17.663Z"
   },
   {
    "duration": 67,
    "start_time": "2024-05-01T13:06:17.668Z"
   },
   {
    "duration": 10,
    "start_time": "2024-05-01T13:06:17.737Z"
   },
   {
    "duration": 18,
    "start_time": "2024-05-01T13:06:17.749Z"
   },
   {
    "duration": 29,
    "start_time": "2024-05-01T13:06:17.769Z"
   },
   {
    "duration": 32,
    "start_time": "2024-05-01T13:06:17.799Z"
   },
   {
    "duration": 25,
    "start_time": "2024-05-01T13:06:17.833Z"
   },
   {
    "duration": 22,
    "start_time": "2024-05-01T13:06:17.861Z"
   },
   {
    "duration": 253,
    "start_time": "2024-05-01T13:06:17.885Z"
   },
   {
    "duration": 256,
    "start_time": "2024-05-01T13:06:18.140Z"
   },
   {
    "duration": 285,
    "start_time": "2024-05-01T13:06:18.398Z"
   },
   {
    "duration": 5,
    "start_time": "2024-05-01T13:06:18.685Z"
   },
   {
    "duration": 20,
    "start_time": "2024-05-01T13:06:18.692Z"
   },
   {
    "duration": 10,
    "start_time": "2024-05-01T13:06:18.714Z"
   },
   {
    "duration": 1336,
    "start_time": "2024-05-01T13:06:18.725Z"
   },
   {
    "duration": 260,
    "start_time": "2024-05-01T13:06:20.062Z"
   },
   {
    "duration": 192,
    "start_time": "2024-05-01T13:06:20.323Z"
   },
   {
    "duration": 354,
    "start_time": "2024-05-01T13:06:20.516Z"
   },
   {
    "duration": 192,
    "start_time": "2024-05-01T13:06:20.871Z"
   },
   {
    "duration": 215,
    "start_time": "2024-05-01T13:06:21.065Z"
   },
   {
    "duration": 5,
    "start_time": "2024-05-01T13:06:21.284Z"
   },
   {
    "duration": 37,
    "start_time": "2024-05-01T13:06:21.291Z"
   },
   {
    "duration": 7,
    "start_time": "2024-05-01T13:06:21.329Z"
   },
   {
    "duration": 437,
    "start_time": "2024-05-01T13:06:21.337Z"
   },
   {
    "duration": 3,
    "start_time": "2024-05-01T13:06:21.775Z"
   },
   {
    "duration": 3,
    "start_time": "2024-05-01T13:06:21.785Z"
   },
   {
    "duration": 8,
    "start_time": "2024-05-01T13:06:21.789Z"
   },
   {
    "duration": 4,
    "start_time": "2024-05-01T13:06:21.798Z"
   },
   {
    "duration": 13,
    "start_time": "2024-05-01T13:06:21.803Z"
   },
   {
    "duration": 6,
    "start_time": "2024-05-01T13:06:21.817Z"
   },
   {
    "duration": 5,
    "start_time": "2024-05-01T13:08:00.802Z"
   },
   {
    "duration": 5,
    "start_time": "2024-05-01T13:08:50.452Z"
   },
   {
    "duration": 4,
    "start_time": "2024-05-01T13:08:51.808Z"
   },
   {
    "duration": 5,
    "start_time": "2024-05-01T13:09:00.908Z"
   },
   {
    "duration": 4,
    "start_time": "2024-05-01T13:10:10.251Z"
   },
   {
    "duration": 4,
    "start_time": "2024-05-01T13:10:11.108Z"
   },
   {
    "duration": 5,
    "start_time": "2024-05-01T13:10:27.640Z"
   },
   {
    "duration": 4,
    "start_time": "2024-05-01T13:10:28.444Z"
   },
   {
    "duration": 2481,
    "start_time": "2024-05-01T13:11:05.538Z"
   },
   {
    "duration": 1288,
    "start_time": "2024-05-01T13:11:08.021Z"
   },
   {
    "duration": 2,
    "start_time": "2024-05-01T13:11:09.311Z"
   },
   {
    "duration": 47,
    "start_time": "2024-05-01T13:11:09.315Z"
   },
   {
    "duration": 9,
    "start_time": "2024-05-01T13:11:09.363Z"
   },
   {
    "duration": 6,
    "start_time": "2024-05-01T13:11:09.374Z"
   },
   {
    "duration": 8,
    "start_time": "2024-05-01T13:11:09.381Z"
   },
   {
    "duration": 10,
    "start_time": "2024-05-01T13:11:09.390Z"
   },
   {
    "duration": 3,
    "start_time": "2024-05-01T13:11:09.401Z"
   },
   {
    "duration": 10,
    "start_time": "2024-05-01T13:11:09.406Z"
   },
   {
    "duration": 251,
    "start_time": "2024-05-01T13:11:09.417Z"
   },
   {
    "duration": 267,
    "start_time": "2024-05-01T13:11:09.669Z"
   },
   {
    "duration": 274,
    "start_time": "2024-05-01T13:11:09.937Z"
   },
   {
    "duration": 5,
    "start_time": "2024-05-01T13:11:10.212Z"
   },
   {
    "duration": 6,
    "start_time": "2024-05-01T13:11:10.218Z"
   },
   {
    "duration": 9,
    "start_time": "2024-05-01T13:11:10.226Z"
   },
   {
    "duration": 1292,
    "start_time": "2024-05-01T13:11:10.236Z"
   },
   {
    "duration": 247,
    "start_time": "2024-05-01T13:11:11.529Z"
   },
   {
    "duration": 196,
    "start_time": "2024-05-01T13:11:11.777Z"
   },
   {
    "duration": 361,
    "start_time": "2024-05-01T13:11:11.974Z"
   },
   {
    "duration": 194,
    "start_time": "2024-05-01T13:11:12.337Z"
   },
   {
    "duration": 213,
    "start_time": "2024-05-01T13:11:12.532Z"
   },
   {
    "duration": 4,
    "start_time": "2024-05-01T13:11:12.747Z"
   },
   {
    "duration": 4,
    "start_time": "2024-05-01T13:11:12.753Z"
   },
   {
    "duration": 6,
    "start_time": "2024-05-01T13:11:12.758Z"
   },
   {
    "duration": 485,
    "start_time": "2024-05-01T13:11:12.766Z"
   },
   {
    "duration": 4,
    "start_time": "2024-05-01T13:11:13.252Z"
   },
   {
    "duration": 10,
    "start_time": "2024-05-01T13:11:13.258Z"
   },
   {
    "duration": 18,
    "start_time": "2024-05-01T13:11:13.269Z"
   },
   {
    "duration": 6,
    "start_time": "2024-05-01T13:11:13.288Z"
   },
   {
    "duration": 11,
    "start_time": "2024-05-01T13:11:13.295Z"
   },
   {
    "duration": 5,
    "start_time": "2024-05-01T13:11:13.307Z"
   },
   {
    "duration": 5,
    "start_time": "2024-05-01T13:11:13.313Z"
   },
   {
    "duration": 8,
    "start_time": "2024-05-01T13:11:13.320Z"
   },
   {
    "duration": 14,
    "start_time": "2024-05-01T13:11:13.329Z"
   },
   {
    "duration": 7,
    "start_time": "2024-05-01T13:11:13.344Z"
   },
   {
    "duration": 419237,
    "start_time": "2024-05-01T13:22:53.017Z"
   },
   {
    "duration": 11,
    "start_time": "2024-05-01T13:44:56.330Z"
   },
   {
    "duration": 12,
    "start_time": "2024-05-01T13:45:13.751Z"
   },
   {
    "duration": 11,
    "start_time": "2024-05-01T13:47:38.964Z"
   },
   {
    "duration": 4,
    "start_time": "2024-05-01T13:49:35.800Z"
   },
   {
    "duration": 5,
    "start_time": "2024-05-01T14:04:41.577Z"
   },
   {
    "duration": 3,
    "start_time": "2024-05-01T14:07:29.604Z"
   },
   {
    "duration": 97,
    "start_time": "2024-05-01T14:07:54.997Z"
   },
   {
    "duration": 8,
    "start_time": "2024-05-01T14:08:17.835Z"
   },
   {
    "duration": 12,
    "start_time": "2024-05-01T14:08:32.861Z"
   },
   {
    "duration": 5,
    "start_time": "2024-05-01T14:09:35.335Z"
   },
   {
    "duration": 4,
    "start_time": "2024-05-01T14:10:04.030Z"
   },
   {
    "duration": 3,
    "start_time": "2024-05-01T14:30:39.173Z"
   },
   {
    "duration": 5,
    "start_time": "2024-05-01T14:30:39.778Z"
   },
   {
    "duration": 14,
    "start_time": "2024-05-01T14:33:27.873Z"
   },
   {
    "duration": 9,
    "start_time": "2024-05-01T14:33:53.757Z"
   },
   {
    "duration": 11,
    "start_time": "2024-05-01T14:34:08.237Z"
   },
   {
    "duration": 10,
    "start_time": "2024-05-01T14:34:15.526Z"
   },
   {
    "duration": 66,
    "start_time": "2024-05-01T14:34:43.733Z"
   },
   {
    "duration": 10,
    "start_time": "2024-05-01T14:34:58.172Z"
   },
   {
    "duration": 4,
    "start_time": "2024-05-01T14:35:38.764Z"
   },
   {
    "duration": 5,
    "start_time": "2024-05-01T14:37:10.784Z"
   },
   {
    "duration": 5,
    "start_time": "2024-05-01T14:37:26.696Z"
   },
   {
    "duration": 4,
    "start_time": "2024-05-01T14:37:40.044Z"
   },
   {
    "duration": 1412,
    "start_time": "2024-05-01T14:45:46.143Z"
   },
   {
    "duration": 4,
    "start_time": "2024-05-01T14:45:59.425Z"
   },
   {
    "duration": 5,
    "start_time": "2024-05-01T14:47:27.963Z"
   },
   {
    "duration": 2,
    "start_time": "2024-05-01T14:51:55.236Z"
   },
   {
    "duration": 2,
    "start_time": "2024-05-01T14:53:38.479Z"
   },
   {
    "duration": 4,
    "start_time": "2024-05-01T15:01:46.372Z"
   },
   {
    "duration": 3,
    "start_time": "2024-05-01T15:03:15.096Z"
   },
   {
    "duration": 12,
    "start_time": "2024-05-01T15:06:33.029Z"
   },
   {
    "duration": 8,
    "start_time": "2024-05-01T15:07:11.577Z"
   },
   {
    "duration": 8,
    "start_time": "2024-05-01T15:07:17.477Z"
   },
   {
    "duration": 8,
    "start_time": "2024-05-01T15:07:24.294Z"
   },
   {
    "duration": 4,
    "start_time": "2024-05-01T15:08:13.661Z"
   },
   {
    "duration": 2,
    "start_time": "2024-05-01T15:08:57.559Z"
   },
   {
    "duration": 19,
    "start_time": "2024-05-01T15:08:58.509Z"
   },
   {
    "duration": 7,
    "start_time": "2024-05-01T15:12:16.905Z"
   },
   {
    "duration": 4,
    "start_time": "2024-05-01T15:12:20.767Z"
   },
   {
    "duration": 3,
    "start_time": "2024-05-01T15:40:13.960Z"
   },
   {
    "duration": 3,
    "start_time": "2024-05-01T15:40:15.146Z"
   },
   {
    "duration": 18,
    "start_time": "2024-05-01T15:40:17.407Z"
   },
   {
    "duration": 3,
    "start_time": "2024-05-01T15:40:47.256Z"
   },
   {
    "duration": 3,
    "start_time": "2024-05-01T15:40:48.048Z"
   },
   {
    "duration": 20,
    "start_time": "2024-05-01T15:40:48.854Z"
   },
   {
    "duration": 4,
    "start_time": "2024-05-01T15:41:24.877Z"
   },
   {
    "duration": 4,
    "start_time": "2024-05-01T15:41:47.885Z"
   },
   {
    "duration": 3,
    "start_time": "2024-05-01T15:42:46.621Z"
   },
   {
    "duration": 2,
    "start_time": "2024-05-01T15:42:47.234Z"
   },
   {
    "duration": 8987,
    "start_time": "2024-05-01T15:42:48.020Z"
   },
   {
    "duration": 3,
    "start_time": "2024-05-01T15:43:38.227Z"
   },
   {
    "duration": 8862,
    "start_time": "2024-05-01T15:44:08.451Z"
   },
   {
    "duration": 5,
    "start_time": "2024-05-01T16:04:06.119Z"
   },
   {
    "duration": 4,
    "start_time": "2024-05-01T16:04:06.965Z"
   },
   {
    "duration": 2,
    "start_time": "2024-05-01T16:04:09.002Z"
   },
   {
    "duration": 2,
    "start_time": "2024-05-01T16:04:12.000Z"
   },
   {
    "duration": 1130,
    "start_time": "2024-05-01T16:04:14.944Z"
   },
   {
    "duration": 4,
    "start_time": "2024-05-01T16:04:36.856Z"
   },
   {
    "duration": 3,
    "start_time": "2024-05-01T16:04:37.670Z"
   },
   {
    "duration": 3,
    "start_time": "2024-05-01T16:04:39.326Z"
   },
   {
    "duration": 1079,
    "start_time": "2024-05-01T16:04:42.534Z"
   },
   {
    "duration": 5,
    "start_time": "2024-05-01T16:07:45.007Z"
   },
   {
    "duration": 4,
    "start_time": "2024-05-01T16:07:45.777Z"
   },
   {
    "duration": 2,
    "start_time": "2024-05-01T16:07:46.999Z"
   },
   {
    "duration": 1939,
    "start_time": "2024-05-01T16:07:49.044Z"
   },
   {
    "duration": 4,
    "start_time": "2024-05-01T16:09:02.959Z"
   },
   {
    "duration": 3,
    "start_time": "2024-05-01T16:09:28.733Z"
   },
   {
    "duration": 5,
    "start_time": "2024-05-01T16:11:48.949Z"
   },
   {
    "duration": 4,
    "start_time": "2024-05-01T16:11:50.205Z"
   },
   {
    "duration": 2,
    "start_time": "2024-05-01T16:11:53.437Z"
   },
   {
    "duration": 1082,
    "start_time": "2024-05-01T16:11:54.909Z"
   },
   {
    "duration": 6,
    "start_time": "2024-05-01T16:40:58.010Z"
   },
   {
    "duration": 4,
    "start_time": "2024-05-01T16:40:59.165Z"
   },
   {
    "duration": 3,
    "start_time": "2024-05-01T16:41:02.353Z"
   },
   {
    "duration": 9,
    "start_time": "2024-05-01T16:41:03.117Z"
   },
   {
    "duration": 3,
    "start_time": "2024-05-01T16:41:14.696Z"
   },
   {
    "duration": 4,
    "start_time": "2024-05-01T16:41:15.849Z"
   },
   {
    "duration": 4,
    "start_time": "2024-05-01T16:41:24.099Z"
   },
   {
    "duration": 4,
    "start_time": "2024-05-01T16:41:24.641Z"
   },
   {
    "duration": 2,
    "start_time": "2024-05-01T16:41:25.708Z"
   },
   {
    "duration": 30228,
    "start_time": "2024-05-01T16:41:26.852Z"
   },
   {
    "duration": 5,
    "start_time": "2024-05-01T16:42:10.514Z"
   },
   {
    "duration": 4,
    "start_time": "2024-05-01T16:44:10.739Z"
   },
   {
    "duration": 4,
    "start_time": "2024-05-01T16:46:13.091Z"
   },
   {
    "duration": 4,
    "start_time": "2024-05-01T16:46:13.679Z"
   },
   {
    "duration": 2,
    "start_time": "2024-05-01T16:46:14.878Z"
   },
   {
    "duration": 18,
    "start_time": "2024-05-01T16:46:16.443Z"
   },
   {
    "duration": 2,
    "start_time": "2024-05-01T16:46:46.233Z"
   },
   {
    "duration": 38830,
    "start_time": "2024-05-01T16:46:47.422Z"
   },
   {
    "duration": 2,
    "start_time": "2024-05-01T16:47:45.689Z"
   },
   {
    "duration": 70323,
    "start_time": "2024-05-01T16:47:47.224Z"
   },
   {
    "duration": 5,
    "start_time": "2024-05-01T16:50:22.892Z"
   },
   {
    "duration": 3,
    "start_time": "2024-05-01T16:51:48.655Z"
   },
   {
    "duration": 74774,
    "start_time": "2024-05-01T16:52:01.275Z"
   },
   {
    "duration": 3,
    "start_time": "2024-05-01T16:53:32.352Z"
   },
   {
    "duration": 26,
    "start_time": "2024-05-01T17:17:26.671Z"
   },
   {
    "duration": 10,
    "start_time": "2024-05-01T17:19:15.425Z"
   },
   {
    "duration": 7,
    "start_time": "2024-05-01T17:22:06.801Z"
   },
   {
    "duration": 4,
    "start_time": "2024-05-01T17:22:14.308Z"
   },
   {
    "duration": 4,
    "start_time": "2024-05-01T17:22:16.406Z"
   },
   {
    "duration": 2351,
    "start_time": "2024-05-01T17:27:06.186Z"
   },
   {
    "duration": 1227,
    "start_time": "2024-05-01T17:27:08.539Z"
   },
   {
    "duration": 2,
    "start_time": "2024-05-01T17:27:09.767Z"
   },
   {
    "duration": 44,
    "start_time": "2024-05-01T17:27:09.771Z"
   },
   {
    "duration": 9,
    "start_time": "2024-05-01T17:27:09.816Z"
   },
   {
    "duration": 4,
    "start_time": "2024-05-01T17:27:09.826Z"
   },
   {
    "duration": 8,
    "start_time": "2024-05-01T17:27:09.831Z"
   },
   {
    "duration": 7,
    "start_time": "2024-05-01T17:27:09.840Z"
   },
   {
    "duration": 7,
    "start_time": "2024-05-01T17:27:09.849Z"
   },
   {
    "duration": 6,
    "start_time": "2024-05-01T17:27:09.858Z"
   },
   {
    "duration": 213,
    "start_time": "2024-05-01T17:27:09.865Z"
   },
   {
    "duration": 267,
    "start_time": "2024-05-01T17:27:10.079Z"
   },
   {
    "duration": 256,
    "start_time": "2024-05-01T17:27:10.347Z"
   },
   {
    "duration": 5,
    "start_time": "2024-05-01T17:27:10.604Z"
   },
   {
    "duration": 3,
    "start_time": "2024-05-01T17:27:10.610Z"
   },
   {
    "duration": 7,
    "start_time": "2024-05-01T17:27:10.615Z"
   },
   {
    "duration": 1206,
    "start_time": "2024-05-01T17:27:10.623Z"
   },
   {
    "duration": 236,
    "start_time": "2024-05-01T17:27:11.831Z"
   },
   {
    "duration": 191,
    "start_time": "2024-05-01T17:27:12.068Z"
   },
   {
    "duration": 354,
    "start_time": "2024-05-01T17:27:12.260Z"
   },
   {
    "duration": 202,
    "start_time": "2024-05-01T17:27:12.615Z"
   },
   {
    "duration": 189,
    "start_time": "2024-05-01T17:27:12.818Z"
   },
   {
    "duration": 3,
    "start_time": "2024-05-01T17:27:13.009Z"
   },
   {
    "duration": 6,
    "start_time": "2024-05-01T17:27:13.013Z"
   },
   {
    "duration": 7,
    "start_time": "2024-05-01T17:27:13.021Z"
   },
   {
    "duration": 426,
    "start_time": "2024-05-01T17:27:13.030Z"
   },
   {
    "duration": 3,
    "start_time": "2024-05-01T17:27:13.457Z"
   },
   {
    "duration": 19,
    "start_time": "2024-05-01T17:27:13.462Z"
   },
   {
    "duration": 12,
    "start_time": "2024-05-01T17:27:13.482Z"
   },
   {
    "duration": 5,
    "start_time": "2024-05-01T17:27:13.495Z"
   },
   {
    "duration": 11,
    "start_time": "2024-05-01T17:27:13.501Z"
   },
   {
    "duration": 10,
    "start_time": "2024-05-01T17:27:13.513Z"
   },
   {
    "duration": 8,
    "start_time": "2024-05-01T17:27:13.524Z"
   },
   {
    "duration": 12,
    "start_time": "2024-05-01T17:27:13.533Z"
   },
   {
    "duration": 25,
    "start_time": "2024-05-01T17:27:13.546Z"
   },
   {
    "duration": 7,
    "start_time": "2024-05-01T17:27:13.573Z"
   },
   {
    "duration": 7,
    "start_time": "2024-05-01T17:27:13.581Z"
   },
   {
    "duration": 342466,
    "start_time": "2024-05-01T17:27:55.833Z"
   },
   {
    "duration": 13,
    "start_time": "2024-05-01T17:37:50.372Z"
   },
   {
    "duration": 3,
    "start_time": "2024-05-01T17:38:01.364Z"
   },
   {
    "duration": 4,
    "start_time": "2024-05-01T17:38:09.969Z"
   },
   {
    "duration": 4,
    "start_time": "2024-05-01T17:38:10.964Z"
   },
   {
    "duration": 5,
    "start_time": "2024-05-01T17:38:12.618Z"
   },
   {
    "duration": 5,
    "start_time": "2024-05-01T17:38:27.519Z"
   },
   {
    "duration": 4,
    "start_time": "2024-05-01T17:38:28.835Z"
   },
   {
    "duration": 4,
    "start_time": "2024-05-01T17:38:43.647Z"
   },
   {
    "duration": 3,
    "start_time": "2024-05-01T17:39:40.913Z"
   },
   {
    "duration": 1274,
    "start_time": "2024-05-01T17:39:44.846Z"
   },
   {
    "duration": 5,
    "start_time": "2024-05-01T18:16:01.821Z"
   },
   {
    "duration": 4,
    "start_time": "2024-05-01T18:16:03.401Z"
   },
   {
    "duration": 2,
    "start_time": "2024-05-01T18:16:06.909Z"
   },
   {
    "duration": 1128,
    "start_time": "2024-05-01T18:16:07.948Z"
   },
   {
    "duration": 7,
    "start_time": "2024-05-01T18:20:34.283Z"
   },
   {
    "duration": 3,
    "start_time": "2024-05-01T18:22:12.187Z"
   },
   {
    "duration": 4,
    "start_time": "2024-05-01T18:22:20.673Z"
   },
   {
    "duration": 3,
    "start_time": "2024-05-01T18:22:42.316Z"
   },
   {
    "duration": 8,
    "start_time": "2024-05-01T18:22:55.035Z"
   },
   {
    "duration": 8,
    "start_time": "2024-05-01T18:22:59.944Z"
   },
   {
    "duration": 9,
    "start_time": "2024-05-01T18:23:05.997Z"
   },
   {
    "duration": 4,
    "start_time": "2024-05-01T18:23:15.489Z"
   },
   {
    "duration": 5,
    "start_time": "2024-05-01T18:23:36.942Z"
   },
   {
    "duration": 3,
    "start_time": "2024-05-01T18:24:40.216Z"
   },
   {
    "duration": 68,
    "start_time": "2024-05-01T18:27:22.056Z"
   },
   {
    "duration": 6,
    "start_time": "2024-05-01T18:27:28.163Z"
   },
   {
    "duration": 4,
    "start_time": "2024-05-01T18:27:29.254Z"
   },
   {
    "duration": 3,
    "start_time": "2024-05-01T18:27:31.809Z"
   },
   {
    "duration": 31,
    "start_time": "2024-05-01T18:27:33.144Z"
   },
   {
    "duration": 4,
    "start_time": "2024-05-01T18:29:02.804Z"
   },
   {
    "duration": 4,
    "start_time": "2024-05-01T18:29:03.429Z"
   },
   {
    "duration": 3,
    "start_time": "2024-05-01T18:29:04.870Z"
   },
   {
    "duration": 27,
    "start_time": "2024-05-01T18:29:06.707Z"
   },
   {
    "duration": 3,
    "start_time": "2024-05-01T18:30:43.533Z"
   },
   {
    "duration": 4,
    "start_time": "2024-05-01T18:30:44.223Z"
   },
   {
    "duration": 3,
    "start_time": "2024-05-01T18:30:44.968Z"
   },
   {
    "duration": 33,
    "start_time": "2024-05-01T18:30:46.439Z"
   },
   {
    "duration": 6,
    "start_time": "2024-05-01T18:31:49.430Z"
   },
   {
    "duration": 4,
    "start_time": "2024-05-01T18:31:50.127Z"
   },
   {
    "duration": 2,
    "start_time": "2024-05-01T18:31:50.874Z"
   },
   {
    "duration": 18,
    "start_time": "2024-05-01T18:31:52.015Z"
   },
   {
    "duration": 4,
    "start_time": "2024-05-01T18:33:05.124Z"
   },
   {
    "duration": 4,
    "start_time": "2024-05-01T18:33:06.382Z"
   },
   {
    "duration": 2,
    "start_time": "2024-05-01T18:33:07.207Z"
   },
   {
    "duration": 1083,
    "start_time": "2024-05-01T18:33:09.582Z"
   },
   {
    "duration": 4,
    "start_time": "2024-05-01T18:38:41.541Z"
   },
   {
    "duration": 4,
    "start_time": "2024-05-01T18:38:42.762Z"
   },
   {
    "duration": 2,
    "start_time": "2024-05-01T18:38:45.503Z"
   },
   {
    "duration": 38,
    "start_time": "2024-05-01T18:38:46.895Z"
   },
   {
    "duration": 8,
    "start_time": "2024-05-01T18:39:15.309Z"
   },
   {
    "duration": 8,
    "start_time": "2024-05-01T18:39:24.816Z"
   },
   {
    "duration": 7,
    "start_time": "2024-05-01T18:39:38.388Z"
   },
   {
    "duration": 7,
    "start_time": "2024-05-01T18:39:59.396Z"
   },
   {
    "duration": 11,
    "start_time": "2024-05-01T18:40:05.843Z"
   },
   {
    "duration": 19,
    "start_time": "2024-05-01T18:40:29.981Z"
   },
   {
    "duration": 10,
    "start_time": "2024-05-01T18:40:48.086Z"
   },
   {
    "duration": 7,
    "start_time": "2024-05-01T18:41:03.652Z"
   },
   {
    "duration": 7,
    "start_time": "2024-05-01T18:41:22.886Z"
   },
   {
    "duration": 10,
    "start_time": "2024-05-01T18:41:37.623Z"
   },
   {
    "duration": 7,
    "start_time": "2024-05-01T18:41:52.009Z"
   },
   {
    "duration": 6,
    "start_time": "2024-05-01T18:42:57.925Z"
   },
   {
    "duration": 9,
    "start_time": "2024-05-01T18:43:04.809Z"
   },
   {
    "duration": 8,
    "start_time": "2024-05-01T18:43:17.496Z"
   },
   {
    "duration": 7,
    "start_time": "2024-05-01T18:43:24.923Z"
   },
   {
    "duration": 3,
    "start_time": "2024-05-01T19:10:18.615Z"
   },
   {
    "duration": 2334,
    "start_time": "2024-05-01T19:12:27.974Z"
   },
   {
    "duration": 1271,
    "start_time": "2024-05-01T19:12:30.310Z"
   },
   {
    "duration": 2,
    "start_time": "2024-05-01T19:12:31.583Z"
   },
   {
    "duration": 64,
    "start_time": "2024-05-01T19:12:31.586Z"
   },
   {
    "duration": 8,
    "start_time": "2024-05-01T19:12:31.651Z"
   },
   {
    "duration": 31,
    "start_time": "2024-05-01T19:12:31.660Z"
   },
   {
    "duration": 26,
    "start_time": "2024-05-01T19:12:31.692Z"
   },
   {
    "duration": 15,
    "start_time": "2024-05-01T19:12:31.719Z"
   },
   {
    "duration": 10,
    "start_time": "2024-05-01T19:12:31.735Z"
   },
   {
    "duration": 8,
    "start_time": "2024-05-01T19:12:31.747Z"
   },
   {
    "duration": 217,
    "start_time": "2024-05-01T19:12:31.756Z"
   },
   {
    "duration": 251,
    "start_time": "2024-05-01T19:12:31.974Z"
   },
   {
    "duration": 254,
    "start_time": "2024-05-01T19:12:32.227Z"
   },
   {
    "duration": 5,
    "start_time": "2024-05-01T19:12:32.483Z"
   },
   {
    "duration": 12,
    "start_time": "2024-05-01T19:12:32.489Z"
   },
   {
    "duration": 15,
    "start_time": "2024-05-01T19:12:32.502Z"
   },
   {
    "duration": 1251,
    "start_time": "2024-05-01T19:12:32.518Z"
   },
   {
    "duration": 234,
    "start_time": "2024-05-01T19:12:33.770Z"
   },
   {
    "duration": 181,
    "start_time": "2024-05-01T19:12:34.005Z"
   },
   {
    "duration": 335,
    "start_time": "2024-05-01T19:12:34.187Z"
   },
   {
    "duration": 179,
    "start_time": "2024-05-01T19:12:34.524Z"
   },
   {
    "duration": 191,
    "start_time": "2024-05-01T19:12:34.704Z"
   },
   {
    "duration": 3,
    "start_time": "2024-05-01T19:12:34.896Z"
   },
   {
    "duration": 9,
    "start_time": "2024-05-01T19:12:34.901Z"
   },
   {
    "duration": 8,
    "start_time": "2024-05-01T19:12:34.911Z"
   },
   {
    "duration": 424,
    "start_time": "2024-05-01T19:12:34.920Z"
   },
   {
    "duration": 2,
    "start_time": "2024-05-01T19:12:35.345Z"
   },
   {
    "duration": 16,
    "start_time": "2024-05-01T19:12:35.350Z"
   },
   {
    "duration": 9,
    "start_time": "2024-05-01T19:12:35.367Z"
   },
   {
    "duration": 8,
    "start_time": "2024-05-01T19:12:35.377Z"
   },
   {
    "duration": 10,
    "start_time": "2024-05-01T19:12:35.386Z"
   },
   {
    "duration": 14,
    "start_time": "2024-05-01T19:12:35.397Z"
   },
   {
    "duration": 8,
    "start_time": "2024-05-01T19:12:35.412Z"
   },
   {
    "duration": 22,
    "start_time": "2024-05-01T19:12:35.421Z"
   },
   {
    "duration": 16,
    "start_time": "2024-05-01T19:12:35.444Z"
   },
   {
    "duration": 20,
    "start_time": "2024-05-01T19:12:35.461Z"
   },
   {
    "duration": 46,
    "start_time": "2024-05-01T19:12:35.483Z"
   },
   {
    "duration": 163563,
    "start_time": "2024-05-01T19:12:35.531Z"
   },
   {
    "duration": 12,
    "start_time": "2024-05-01T19:15:19.095Z"
   },
   {
    "duration": 5,
    "start_time": "2024-05-01T19:15:19.108Z"
   },
   {
    "duration": 8,
    "start_time": "2024-05-01T19:15:19.114Z"
   },
   {
    "duration": 62,
    "start_time": "2024-05-01T19:15:19.123Z"
   },
   {
    "duration": 5,
    "start_time": "2024-05-01T19:15:19.186Z"
   },
   {
    "duration": 5,
    "start_time": "2024-05-01T19:15:19.192Z"
   },
   {
    "duration": 9,
    "start_time": "2024-05-01T19:15:19.198Z"
   },
   {
    "duration": 4,
    "start_time": "2024-05-01T19:15:19.208Z"
   },
   {
    "duration": 5824,
    "start_time": "2024-05-01T19:15:19.213Z"
   },
   {
    "duration": 106,
    "start_time": "2024-05-01T19:20:46.357Z"
   },
   {
    "duration": 10,
    "start_time": "2024-05-01T19:27:29.633Z"
   },
   {
    "duration": 9,
    "start_time": "2024-05-01T19:27:39.984Z"
   },
   {
    "duration": 15,
    "start_time": "2024-05-01T19:29:08.125Z"
   },
   {
    "duration": 3,
    "start_time": "2024-05-01T19:30:12.175Z"
   },
   {
    "duration": 4,
    "start_time": "2024-05-01T19:30:12.844Z"
   },
   {
    "duration": 4,
    "start_time": "2024-05-01T19:30:13.551Z"
   },
   {
    "duration": 2,
    "start_time": "2024-05-01T19:30:15.773Z"
   },
   {
    "duration": 4,
    "start_time": "2024-05-01T19:30:17.512Z"
   },
   {
    "duration": 286181,
    "start_time": "2024-05-01T19:30:18.527Z"
   },
   {
    "duration": 16,
    "start_time": "2024-05-01T19:36:18.623Z"
   },
   {
    "duration": 14,
    "start_time": "2024-05-01T19:36:32.954Z"
   },
   {
    "duration": 4,
    "start_time": "2024-05-01T19:37:09.050Z"
   },
   {
    "duration": 3,
    "start_time": "2024-05-01T19:37:18.616Z"
   },
   {
    "duration": 4,
    "start_time": "2024-05-01T19:37:24.594Z"
   },
   {
    "duration": 4,
    "start_time": "2024-05-01T19:37:31.428Z"
   },
   {
    "duration": 3,
    "start_time": "2024-05-01T19:37:46.827Z"
   },
   {
    "duration": 13324,
    "start_time": "2024-05-01T19:37:48.212Z"
   },
   {
    "duration": 860,
    "start_time": "2024-05-01T19:50:50.111Z"
   },
   {
    "duration": 815,
    "start_time": "2024-05-01T19:51:45.166Z"
   },
   {
    "duration": 830,
    "start_time": "2024-05-01T19:52:21.616Z"
   },
   {
    "duration": 4,
    "start_time": "2024-05-01T19:53:16.126Z"
   },
   {
    "duration": 9,
    "start_time": "2024-05-01T19:53:31.194Z"
   },
   {
    "duration": 1144,
    "start_time": "2024-05-01T19:56:37.598Z"
   },
   {
    "duration": 476,
    "start_time": "2024-05-01T19:57:58.984Z"
   },
   {
    "duration": 843,
    "start_time": "2024-05-01T19:58:25.544Z"
   },
   {
    "duration": 865,
    "start_time": "2024-05-01T19:58:45.726Z"
   },
   {
    "duration": 912,
    "start_time": "2024-05-01T19:59:30.433Z"
   },
   {
    "duration": 4,
    "start_time": "2024-05-01T19:59:45.327Z"
   },
   {
    "duration": 1061,
    "start_time": "2024-05-01T20:02:11.003Z"
   },
   {
    "duration": 7,
    "start_time": "2024-05-01T20:02:34.662Z"
   },
   {
    "duration": 7,
    "start_time": "2024-05-01T20:02:40.577Z"
   },
   {
    "duration": 1093,
    "start_time": "2024-05-01T20:02:47.424Z"
   },
   {
    "duration": 1699,
    "start_time": "2024-05-01T20:03:31.249Z"
   },
   {
    "duration": 11,
    "start_time": "2024-05-01T20:06:25.195Z"
   },
   {
    "duration": 10,
    "start_time": "2024-05-01T20:06:41.516Z"
   },
   {
    "duration": 13,
    "start_time": "2024-05-01T20:07:01.373Z"
   },
   {
    "duration": 22,
    "start_time": "2024-05-01T20:07:25.596Z"
   },
   {
    "duration": 1044,
    "start_time": "2024-05-01T20:08:27.753Z"
   },
   {
    "duration": 2334,
    "start_time": "2024-05-01T20:11:27.882Z"
   },
   {
    "duration": 1195,
    "start_time": "2024-05-01T20:11:30.218Z"
   },
   {
    "duration": 2,
    "start_time": "2024-05-01T20:11:31.414Z"
   },
   {
    "duration": 58,
    "start_time": "2024-05-01T20:11:31.418Z"
   },
   {
    "duration": 8,
    "start_time": "2024-05-01T20:11:31.477Z"
   },
   {
    "duration": 29,
    "start_time": "2024-05-01T20:11:31.486Z"
   },
   {
    "duration": 23,
    "start_time": "2024-05-01T20:11:31.516Z"
   },
   {
    "duration": 47,
    "start_time": "2024-05-01T20:11:31.540Z"
   },
   {
    "duration": 29,
    "start_time": "2024-05-01T20:11:31.588Z"
   },
   {
    "duration": 25,
    "start_time": "2024-05-01T20:11:31.619Z"
   },
   {
    "duration": 213,
    "start_time": "2024-05-01T20:11:31.646Z"
   },
   {
    "duration": 251,
    "start_time": "2024-05-01T20:11:31.861Z"
   },
   {
    "duration": 272,
    "start_time": "2024-05-01T20:11:32.114Z"
   },
   {
    "duration": 4,
    "start_time": "2024-05-01T20:11:32.387Z"
   },
   {
    "duration": 29,
    "start_time": "2024-05-01T20:11:32.393Z"
   },
   {
    "duration": 56,
    "start_time": "2024-05-01T20:11:32.423Z"
   },
   {
    "duration": 1230,
    "start_time": "2024-05-01T20:11:32.480Z"
   },
   {
    "duration": 228,
    "start_time": "2024-05-01T20:11:33.711Z"
   },
   {
    "duration": 173,
    "start_time": "2024-05-01T20:11:33.940Z"
   },
   {
    "duration": 316,
    "start_time": "2024-05-01T20:11:34.114Z"
   },
   {
    "duration": 196,
    "start_time": "2024-05-01T20:11:34.431Z"
   },
   {
    "duration": 184,
    "start_time": "2024-05-01T20:11:34.628Z"
   },
   {
    "duration": 3,
    "start_time": "2024-05-01T20:11:34.813Z"
   },
   {
    "duration": 17,
    "start_time": "2024-05-01T20:11:34.817Z"
   },
   {
    "duration": 25,
    "start_time": "2024-05-01T20:11:34.835Z"
   },
   {
    "duration": 452,
    "start_time": "2024-05-01T20:11:34.861Z"
   },
   {
    "duration": 3,
    "start_time": "2024-05-01T20:11:35.314Z"
   },
   {
    "duration": 9,
    "start_time": "2024-05-01T20:11:35.320Z"
   },
   {
    "duration": 13,
    "start_time": "2024-05-01T20:11:35.330Z"
   },
   {
    "duration": 7,
    "start_time": "2024-05-01T20:11:35.344Z"
   },
   {
    "duration": 17,
    "start_time": "2024-05-01T20:11:35.352Z"
   },
   {
    "duration": 21,
    "start_time": "2024-05-01T20:11:35.370Z"
   },
   {
    "duration": 7,
    "start_time": "2024-05-01T20:11:35.392Z"
   },
   {
    "duration": 4,
    "start_time": "2024-05-01T20:11:35.400Z"
   },
   {
    "duration": 24,
    "start_time": "2024-05-01T20:11:35.405Z"
   },
   {
    "duration": 12,
    "start_time": "2024-05-01T20:11:35.430Z"
   },
   {
    "duration": 5,
    "start_time": "2024-05-01T20:11:35.443Z"
   },
   {
    "duration": 430871,
    "start_time": "2024-05-01T20:11:35.449Z"
   },
   {
    "duration": 68,
    "start_time": "2024-05-01T20:18:46.322Z"
   },
   {
    "duration": 3,
    "start_time": "2024-05-01T20:18:46.392Z"
   },
   {
    "duration": 4,
    "start_time": "2024-05-01T20:22:34.343Z"
   },
   {
    "duration": 101,
    "start_time": "2024-05-01T20:23:01.769Z"
   },
   {
    "duration": 15,
    "start_time": "2024-05-01T20:23:07.844Z"
   },
   {
    "duration": 2467,
    "start_time": "2024-05-01T20:26:57.485Z"
   },
   {
    "duration": 5,
    "start_time": "2024-05-01T20:26:59.954Z"
   },
   {
    "duration": 5,
    "start_time": "2024-05-01T20:26:59.960Z"
   },
   {
    "duration": 44,
    "start_time": "2024-05-01T20:26:59.966Z"
   },
   {
    "duration": 7,
    "start_time": "2024-05-01T20:27:00.011Z"
   },
   {
    "duration": 58,
    "start_time": "2024-05-01T20:27:00.019Z"
   },
   {
    "duration": 54,
    "start_time": "2024-05-01T20:27:00.078Z"
   },
   {
    "duration": 52,
    "start_time": "2024-05-01T20:27:00.133Z"
   },
   {
    "duration": 35,
    "start_time": "2024-05-01T20:27:00.186Z"
   },
   {
    "duration": 74,
    "start_time": "2024-05-01T20:27:00.223Z"
   },
   {
    "duration": 239,
    "start_time": "2024-05-01T20:27:00.298Z"
   },
   {
    "duration": 339,
    "start_time": "2024-05-01T20:27:00.539Z"
   },
   {
    "duration": 212,
    "start_time": "2024-05-01T20:27:00.880Z"
   },
   {
    "duration": 4,
    "start_time": "2024-05-01T20:27:01.093Z"
   },
   {
    "duration": 109,
    "start_time": "2024-05-01T20:27:01.099Z"
   },
   {
    "duration": 45,
    "start_time": "2024-05-01T20:27:01.210Z"
   },
   {
    "duration": 1315,
    "start_time": "2024-05-01T20:27:01.256Z"
   },
   {
    "duration": 247,
    "start_time": "2024-05-01T20:27:02.572Z"
   },
   {
    "duration": 181,
    "start_time": "2024-05-01T20:27:02.821Z"
   },
   {
    "duration": 390,
    "start_time": "2024-05-01T20:27:03.003Z"
   },
   {
    "duration": 176,
    "start_time": "2024-05-01T20:27:03.395Z"
   },
   {
    "duration": 182,
    "start_time": "2024-05-01T20:27:03.572Z"
   },
   {
    "duration": 3,
    "start_time": "2024-05-01T20:27:03.755Z"
   },
   {
    "duration": 5,
    "start_time": "2024-05-01T20:27:03.759Z"
   },
   {
    "duration": 7,
    "start_time": "2024-05-01T20:27:03.765Z"
   },
   {
    "duration": 470,
    "start_time": "2024-05-01T20:27:03.773Z"
   },
   {
    "duration": 3,
    "start_time": "2024-05-01T20:27:04.244Z"
   },
   {
    "duration": 4,
    "start_time": "2024-05-01T20:27:04.250Z"
   },
   {
    "duration": 7,
    "start_time": "2024-05-01T20:27:04.255Z"
   },
   {
    "duration": 3,
    "start_time": "2024-05-01T20:27:04.263Z"
   },
   {
    "duration": 21,
    "start_time": "2024-05-01T20:27:04.267Z"
   },
   {
    "duration": 5,
    "start_time": "2024-05-01T20:27:04.289Z"
   },
   {
    "duration": 9,
    "start_time": "2024-05-01T20:27:04.295Z"
   },
   {
    "duration": 6,
    "start_time": "2024-05-01T20:27:04.305Z"
   },
   {
    "duration": 6,
    "start_time": "2024-05-01T20:27:04.313Z"
   },
   {
    "duration": 4,
    "start_time": "2024-05-01T20:27:04.320Z"
   },
   {
    "duration": 10,
    "start_time": "2024-05-01T20:27:04.326Z"
   },
   {
    "duration": 380960,
    "start_time": "2024-05-01T20:27:04.337Z"
   },
   {
    "duration": 87,
    "start_time": "2024-05-01T20:33:25.299Z"
   },
   {
    "duration": 2,
    "start_time": "2024-05-01T20:36:41.278Z"
   },
   {
    "duration": 3,
    "start_time": "2024-05-01T20:36:55.040Z"
   },
   {
    "duration": 16,
    "start_time": "2024-05-01T20:36:56.500Z"
   },
   {
    "duration": 2,
    "start_time": "2024-05-01T20:37:11.524Z"
   },
   {
    "duration": 3,
    "start_time": "2024-05-01T20:37:11.995Z"
   },
   {
    "duration": 15,
    "start_time": "2024-05-01T20:37:12.520Z"
   },
   {
    "duration": 2,
    "start_time": "2024-05-01T20:38:02.362Z"
   },
   {
    "duration": 3,
    "start_time": "2024-05-01T20:38:02.996Z"
   },
   {
    "duration": 14,
    "start_time": "2024-05-01T20:38:03.708Z"
   },
   {
    "duration": 2,
    "start_time": "2024-05-01T20:38:20.522Z"
   },
   {
    "duration": 8,
    "start_time": "2024-05-01T20:38:34.444Z"
   },
   {
    "duration": 4,
    "start_time": "2024-05-01T20:38:47.101Z"
   },
   {
    "duration": 12,
    "start_time": "2024-05-01T20:39:19.841Z"
   },
   {
    "duration": 6,
    "start_time": "2024-05-01T20:39:30.473Z"
   },
   {
    "duration": 15,
    "start_time": "2024-05-01T20:39:31.930Z"
   },
   {
    "duration": 9,
    "start_time": "2024-05-01T20:39:51.239Z"
   },
   {
    "duration": 3,
    "start_time": "2024-05-01T20:39:58.507Z"
   },
   {
    "duration": 15,
    "start_time": "2024-05-01T20:39:59.504Z"
   },
   {
    "duration": 3,
    "start_time": "2024-05-01T20:40:14.055Z"
   },
   {
    "duration": 17,
    "start_time": "2024-05-01T20:40:14.892Z"
   },
   {
    "duration": 3,
    "start_time": "2024-05-01T20:40:57.271Z"
   },
   {
    "duration": 8,
    "start_time": "2024-05-01T20:40:57.830Z"
   },
   {
    "duration": 3,
    "start_time": "2024-05-01T20:41:08.767Z"
   },
   {
    "duration": 15,
    "start_time": "2024-05-01T20:41:09.469Z"
   },
   {
    "duration": 2,
    "start_time": "2024-05-01T20:41:42.915Z"
   },
   {
    "duration": 7,
    "start_time": "2024-05-01T20:41:43.556Z"
   },
   {
    "duration": 3,
    "start_time": "2024-05-01T20:41:44.750Z"
   },
   {
    "duration": 15,
    "start_time": "2024-05-01T20:41:45.591Z"
   },
   {
    "duration": 3,
    "start_time": "2024-05-01T20:42:05.117Z"
   },
   {
    "duration": 13,
    "start_time": "2024-05-01T20:42:05.820Z"
   },
   {
    "duration": 5,
    "start_time": "2024-05-01T20:42:53.691Z"
   },
   {
    "duration": 8,
    "start_time": "2024-05-01T20:42:54.271Z"
   },
   {
    "duration": 3,
    "start_time": "2024-05-01T20:45:08.316Z"
   },
   {
    "duration": 14,
    "start_time": "2024-05-01T20:45:21.924Z"
   },
   {
    "duration": 20,
    "start_time": "2024-05-01T20:46:27.709Z"
   },
   {
    "duration": 4,
    "start_time": "2024-05-01T20:53:10.960Z"
   },
   {
    "duration": 3,
    "start_time": "2024-05-01T20:53:19.152Z"
   },
   {
    "duration": 3,
    "start_time": "2024-05-01T20:53:20.314Z"
   },
   {
    "duration": 512387,
    "start_time": "2024-05-01T20:53:23.101Z"
   },
   {
    "duration": 13,
    "start_time": "2024-05-01T21:02:26.393Z"
   },
   {
    "duration": 5,
    "start_time": "2024-05-01T21:03:46.740Z"
   },
   {
    "duration": 11,
    "start_time": "2024-05-01T21:06:02.513Z"
   },
   {
    "duration": 10,
    "start_time": "2024-05-01T21:06:39.249Z"
   },
   {
    "duration": 15,
    "start_time": "2024-05-01T21:07:43.503Z"
   },
   {
    "duration": 9,
    "start_time": "2024-05-01T21:08:42.681Z"
   },
   {
    "duration": 3,
    "start_time": "2024-05-01T21:08:56.126Z"
   },
   {
    "duration": 5,
    "start_time": "2024-05-01T21:16:08.613Z"
   },
   {
    "duration": 4,
    "start_time": "2024-05-01T21:16:46.903Z"
   },
   {
    "duration": 17,
    "start_time": "2024-05-01T21:18:39.417Z"
   },
   {
    "duration": 5,
    "start_time": "2024-05-01T21:19:19.873Z"
   },
   {
    "duration": 29,
    "start_time": "2024-05-01T21:19:47.927Z"
   },
   {
    "duration": 5,
    "start_time": "2024-05-01T21:21:23.561Z"
   },
   {
    "duration": 3,
    "start_time": "2024-05-01T21:23:00.876Z"
   },
   {
    "duration": 4,
    "start_time": "2024-05-01T21:23:17.775Z"
   },
   {
    "duration": 2,
    "start_time": "2024-05-01T21:24:10.162Z"
   },
   {
    "duration": 8,
    "start_time": "2024-05-01T21:24:10.943Z"
   },
   {
    "duration": 5,
    "start_time": "2024-05-01T21:24:16.722Z"
   },
   {
    "duration": 755,
    "start_time": "2024-05-01T21:24:25.336Z"
   },
   {
    "duration": 3,
    "start_time": "2024-05-01T21:25:43.591Z"
   },
   {
    "duration": 3,
    "start_time": "2024-05-01T21:26:50.786Z"
   },
   {
    "duration": 317,
    "start_time": "2024-05-01T21:26:51.875Z"
   },
   {
    "duration": 7,
    "start_time": "2024-05-01T21:28:30.569Z"
   },
   {
    "duration": 4,
    "start_time": "2024-05-01T21:28:39.407Z"
   },
   {
    "duration": 2,
    "start_time": "2024-05-01T21:28:42.127Z"
   },
   {
    "duration": 18577,
    "start_time": "2024-05-01T21:28:42.757Z"
   },
   {
    "duration": 4,
    "start_time": "2024-05-01T21:29:26.693Z"
   },
   {
    "duration": 4,
    "start_time": "2024-05-01T21:30:33.496Z"
   },
   {
    "duration": 4,
    "start_time": "2024-05-01T21:31:14.756Z"
   },
   {
    "duration": 5,
    "start_time": "2024-05-01T21:32:26.988Z"
   },
   {
    "duration": 2377,
    "start_time": "2024-05-01T21:42:35.097Z"
   },
   {
    "duration": 1223,
    "start_time": "2024-05-01T21:42:37.476Z"
   },
   {
    "duration": 2,
    "start_time": "2024-05-01T21:42:38.700Z"
   },
   {
    "duration": 43,
    "start_time": "2024-05-01T21:42:38.704Z"
   },
   {
    "duration": 7,
    "start_time": "2024-05-01T21:42:38.749Z"
   },
   {
    "duration": 4,
    "start_time": "2024-05-01T21:42:38.758Z"
   },
   {
    "duration": 8,
    "start_time": "2024-05-01T21:42:38.763Z"
   },
   {
    "duration": 7,
    "start_time": "2024-05-01T21:42:38.772Z"
   },
   {
    "duration": 4,
    "start_time": "2024-05-01T21:42:38.780Z"
   },
   {
    "duration": 13,
    "start_time": "2024-05-01T21:42:38.786Z"
   },
   {
    "duration": 207,
    "start_time": "2024-05-01T21:42:38.800Z"
   },
   {
    "duration": 247,
    "start_time": "2024-05-01T21:42:39.009Z"
   },
   {
    "duration": 255,
    "start_time": "2024-05-01T21:42:39.257Z"
   },
   {
    "duration": 5,
    "start_time": "2024-05-01T21:42:39.513Z"
   },
   {
    "duration": 4,
    "start_time": "2024-05-01T21:42:39.519Z"
   },
   {
    "duration": 8,
    "start_time": "2024-05-01T21:42:39.524Z"
   },
   {
    "duration": 1227,
    "start_time": "2024-05-01T21:42:39.533Z"
   },
   {
    "duration": 243,
    "start_time": "2024-05-01T21:42:40.762Z"
   },
   {
    "duration": 184,
    "start_time": "2024-05-01T21:42:41.006Z"
   },
   {
    "duration": 337,
    "start_time": "2024-05-01T21:42:41.191Z"
   },
   {
    "duration": 183,
    "start_time": "2024-05-01T21:42:41.529Z"
   },
   {
    "duration": 189,
    "start_time": "2024-05-01T21:42:41.713Z"
   },
   {
    "duration": 4,
    "start_time": "2024-05-01T21:42:41.904Z"
   },
   {
    "duration": 8,
    "start_time": "2024-05-01T21:42:41.909Z"
   },
   {
    "duration": 13,
    "start_time": "2024-05-01T21:42:41.919Z"
   },
   {
    "duration": 413,
    "start_time": "2024-05-01T21:42:41.933Z"
   },
   {
    "duration": 3,
    "start_time": "2024-05-01T21:42:42.347Z"
   },
   {
    "duration": 2,
    "start_time": "2024-05-01T21:42:42.353Z"
   },
   {
    "duration": 8,
    "start_time": "2024-05-01T21:42:42.356Z"
   },
   {
    "duration": 9,
    "start_time": "2024-05-01T21:42:42.365Z"
   },
   {
    "duration": 8,
    "start_time": "2024-05-01T21:42:42.384Z"
   },
   {
    "duration": 5,
    "start_time": "2024-05-01T21:42:42.393Z"
   },
   {
    "duration": 3,
    "start_time": "2024-05-01T21:42:42.399Z"
   },
   {
    "duration": 5,
    "start_time": "2024-05-01T21:42:42.403Z"
   },
   {
    "duration": 4,
    "start_time": "2024-05-01T21:42:42.409Z"
   },
   {
    "duration": 3,
    "start_time": "2024-05-01T21:42:42.414Z"
   },
   {
    "duration": 4,
    "start_time": "2024-05-01T21:42:42.418Z"
   },
   {
    "duration": 2338,
    "start_time": "2024-05-01T21:44:08.438Z"
   },
   {
    "duration": 1214,
    "start_time": "2024-05-01T21:44:10.778Z"
   },
   {
    "duration": 2,
    "start_time": "2024-05-01T21:44:11.993Z"
   },
   {
    "duration": 60,
    "start_time": "2024-05-01T21:44:11.996Z"
   },
   {
    "duration": 7,
    "start_time": "2024-05-01T21:44:12.058Z"
   },
   {
    "duration": 27,
    "start_time": "2024-05-01T21:44:12.066Z"
   },
   {
    "duration": 10,
    "start_time": "2024-05-01T21:44:12.094Z"
   },
   {
    "duration": 7,
    "start_time": "2024-05-01T21:44:12.105Z"
   },
   {
    "duration": 19,
    "start_time": "2024-05-01T21:44:12.113Z"
   },
   {
    "duration": 9,
    "start_time": "2024-05-01T21:44:12.133Z"
   },
   {
    "duration": 205,
    "start_time": "2024-05-01T21:44:12.143Z"
   },
   {
    "duration": 259,
    "start_time": "2024-05-01T21:44:12.350Z"
   },
   {
    "duration": 266,
    "start_time": "2024-05-01T21:44:12.610Z"
   },
   {
    "duration": 8,
    "start_time": "2024-05-01T21:44:12.878Z"
   },
   {
    "duration": 4,
    "start_time": "2024-05-01T21:44:12.888Z"
   },
   {
    "duration": 4,
    "start_time": "2024-05-01T21:44:12.893Z"
   },
   {
    "duration": 1191,
    "start_time": "2024-05-01T21:44:12.898Z"
   },
   {
    "duration": 235,
    "start_time": "2024-05-01T21:44:14.090Z"
   },
   {
    "duration": 181,
    "start_time": "2024-05-01T21:44:14.326Z"
   },
   {
    "duration": 329,
    "start_time": "2024-05-01T21:44:14.508Z"
   },
   {
    "duration": 181,
    "start_time": "2024-05-01T21:44:14.838Z"
   },
   {
    "duration": 197,
    "start_time": "2024-05-01T21:44:15.021Z"
   },
   {
    "duration": 4,
    "start_time": "2024-05-01T21:44:15.219Z"
   },
   {
    "duration": 20,
    "start_time": "2024-05-01T21:44:15.224Z"
   },
   {
    "duration": 20,
    "start_time": "2024-05-01T21:44:15.245Z"
   },
   {
    "duration": 460,
    "start_time": "2024-05-01T21:44:15.266Z"
   },
   {
    "duration": 3,
    "start_time": "2024-05-01T21:44:15.727Z"
   },
   {
    "duration": 16,
    "start_time": "2024-05-01T21:44:15.731Z"
   },
   {
    "duration": 16,
    "start_time": "2024-05-01T21:44:15.748Z"
   },
   {
    "duration": 7,
    "start_time": "2024-05-01T21:44:15.765Z"
   },
   {
    "duration": 12,
    "start_time": "2024-05-01T21:44:15.773Z"
   },
   {
    "duration": 7,
    "start_time": "2024-05-01T21:44:15.786Z"
   },
   {
    "duration": 22,
    "start_time": "2024-05-01T21:44:15.794Z"
   },
   {
    "duration": 12,
    "start_time": "2024-05-01T21:44:15.817Z"
   },
   {
    "duration": 13,
    "start_time": "2024-05-01T21:44:15.830Z"
   },
   {
    "duration": 4,
    "start_time": "2024-05-01T21:44:15.844Z"
   },
   {
    "duration": 16,
    "start_time": "2024-05-01T21:44:15.849Z"
   },
   {
    "duration": 100907,
    "start_time": "2024-05-01T21:44:15.866Z"
   },
   {
    "duration": 13,
    "start_time": "2024-05-01T21:45:56.774Z"
   },
   {
    "duration": 3,
    "start_time": "2024-05-01T21:45:56.788Z"
   },
   {
    "duration": 4,
    "start_time": "2024-05-01T21:45:56.794Z"
   },
   {
    "duration": 5,
    "start_time": "2024-05-01T21:45:56.800Z"
   },
   {
    "duration": 6,
    "start_time": "2024-05-01T21:45:56.806Z"
   },
   {
    "duration": 5,
    "start_time": "2024-05-01T21:45:56.813Z"
   },
   {
    "duration": 7,
    "start_time": "2024-05-01T21:45:56.819Z"
   },
   {
    "duration": 12,
    "start_time": "2024-05-01T21:45:56.827Z"
   },
   {
    "duration": 9771,
    "start_time": "2024-05-01T21:45:56.840Z"
   },
   {
    "duration": 5,
    "start_time": "2024-05-01T21:46:06.613Z"
   },
   {
    "duration": 17,
    "start_time": "2024-05-01T21:46:06.619Z"
   },
   {
    "duration": 8,
    "start_time": "2024-05-01T21:46:06.637Z"
   },
   {
    "duration": 4,
    "start_time": "2024-05-01T21:46:06.645Z"
   },
   {
    "duration": 935,
    "start_time": "2024-05-01T21:46:06.650Z"
   },
   {
    "duration": 5,
    "start_time": "2024-05-01T21:46:07.586Z"
   },
   {
    "duration": 3,
    "start_time": "2024-05-01T21:46:07.592Z"
   },
   {
    "duration": 310,
    "start_time": "2024-05-01T21:46:07.597Z"
   },
   {
    "duration": 3,
    "start_time": "2024-05-01T21:46:07.909Z"
   },
   {
    "duration": 8,
    "start_time": "2024-05-01T21:46:07.914Z"
   },
   {
    "duration": 5,
    "start_time": "2024-05-01T21:46:07.924Z"
   },
   {
    "duration": 76,
    "start_time": "2024-05-01T21:46:07.930Z"
   },
   {
    "duration": 0,
    "start_time": "2024-05-01T21:46:08.007Z"
   },
   {
    "duration": 2317,
    "start_time": "2024-05-01T21:46:25.951Z"
   },
   {
    "duration": 1224,
    "start_time": "2024-05-01T21:46:28.270Z"
   },
   {
    "duration": 2,
    "start_time": "2024-05-01T21:46:29.495Z"
   },
   {
    "duration": 50,
    "start_time": "2024-05-01T21:46:29.498Z"
   },
   {
    "duration": 8,
    "start_time": "2024-05-01T21:46:29.549Z"
   },
   {
    "duration": 5,
    "start_time": "2024-05-01T21:46:29.558Z"
   },
   {
    "duration": 7,
    "start_time": "2024-05-01T21:46:29.564Z"
   },
   {
    "duration": 9,
    "start_time": "2024-05-01T21:46:29.572Z"
   },
   {
    "duration": 5,
    "start_time": "2024-05-01T21:46:29.582Z"
   },
   {
    "duration": 6,
    "start_time": "2024-05-01T21:46:29.590Z"
   },
   {
    "duration": 213,
    "start_time": "2024-05-01T21:46:29.597Z"
   },
   {
    "duration": 251,
    "start_time": "2024-05-01T21:46:29.811Z"
   },
   {
    "duration": 261,
    "start_time": "2024-05-01T21:46:30.063Z"
   },
   {
    "duration": 6,
    "start_time": "2024-05-01T21:46:30.325Z"
   },
   {
    "duration": 52,
    "start_time": "2024-05-01T21:46:30.332Z"
   },
   {
    "duration": 61,
    "start_time": "2024-05-01T21:46:30.385Z"
   },
   {
    "duration": 1253,
    "start_time": "2024-05-01T21:46:30.447Z"
   },
   {
    "duration": 241,
    "start_time": "2024-05-01T21:46:31.701Z"
   },
   {
    "duration": 186,
    "start_time": "2024-05-01T21:46:31.943Z"
   },
   {
    "duration": 383,
    "start_time": "2024-05-01T21:46:32.130Z"
   },
   {
    "duration": 189,
    "start_time": "2024-05-01T21:46:32.514Z"
   },
   {
    "duration": 187,
    "start_time": "2024-05-01T21:46:32.704Z"
   },
   {
    "duration": 3,
    "start_time": "2024-05-01T21:46:32.892Z"
   },
   {
    "duration": 14,
    "start_time": "2024-05-01T21:46:32.896Z"
   },
   {
    "duration": 5,
    "start_time": "2024-05-01T21:46:32.911Z"
   },
   {
    "duration": 421,
    "start_time": "2024-05-01T21:46:32.917Z"
   },
   {
    "duration": 3,
    "start_time": "2024-05-01T21:46:33.339Z"
   },
   {
    "duration": 2,
    "start_time": "2024-05-01T21:46:33.345Z"
   },
   {
    "duration": 8,
    "start_time": "2024-05-01T21:46:33.348Z"
   },
   {
    "duration": 3,
    "start_time": "2024-05-01T21:46:33.358Z"
   },
   {
    "duration": 27,
    "start_time": "2024-05-01T21:46:33.362Z"
   },
   {
    "duration": 3,
    "start_time": "2024-05-01T21:46:33.390Z"
   },
   {
    "duration": 3,
    "start_time": "2024-05-01T21:46:33.395Z"
   },
   {
    "duration": 4,
    "start_time": "2024-05-01T21:46:33.399Z"
   },
   {
    "duration": 10,
    "start_time": "2024-05-01T21:46:33.404Z"
   },
   {
    "duration": 4,
    "start_time": "2024-05-01T21:46:33.415Z"
   },
   {
    "duration": 4,
    "start_time": "2024-05-01T21:46:33.420Z"
   },
   {
    "duration": 312165,
    "start_time": "2024-05-01T21:46:33.425Z"
   },
   {
    "duration": 12,
    "start_time": "2024-05-01T21:51:45.592Z"
   },
   {
    "duration": 9,
    "start_time": "2024-05-01T21:51:45.605Z"
   },
   {
    "duration": 6,
    "start_time": "2024-05-01T21:51:45.615Z"
   },
   {
    "duration": 15,
    "start_time": "2024-05-01T21:51:45.622Z"
   },
   {
    "duration": 16,
    "start_time": "2024-05-01T21:51:45.638Z"
   },
   {
    "duration": 17,
    "start_time": "2024-05-01T21:51:45.655Z"
   },
   {
    "duration": 14,
    "start_time": "2024-05-01T21:51:45.673Z"
   },
   {
    "duration": 16,
    "start_time": "2024-05-01T21:51:45.688Z"
   },
   {
    "duration": 11611,
    "start_time": "2024-05-01T21:51:45.705Z"
   },
   {
    "duration": 4,
    "start_time": "2024-05-01T21:51:57.318Z"
   },
   {
    "duration": 7,
    "start_time": "2024-05-01T21:51:57.323Z"
   },
   {
    "duration": 8,
    "start_time": "2024-05-01T21:51:57.331Z"
   },
   {
    "duration": 10,
    "start_time": "2024-05-01T21:51:57.340Z"
   },
   {
    "duration": 740,
    "start_time": "2024-05-01T21:51:57.351Z"
   },
   {
    "duration": 92,
    "start_time": "2024-05-01T21:51:58.094Z"
   },
   {
    "duration": 4,
    "start_time": "2024-05-01T21:51:58.187Z"
   },
   {
    "duration": 247,
    "start_time": "2024-05-01T21:51:58.192Z"
   },
   {
    "duration": 2,
    "start_time": "2024-05-01T21:51:58.440Z"
   },
   {
    "duration": 6,
    "start_time": "2024-05-01T21:51:58.443Z"
   },
   {
    "duration": 6,
    "start_time": "2024-05-01T21:51:58.450Z"
   },
   {
    "duration": 64,
    "start_time": "2024-05-01T21:51:58.457Z"
   },
   {
    "duration": 0,
    "start_time": "2024-05-01T21:51:58.522Z"
   },
   {
    "duration": 113,
    "start_time": "2024-05-01T21:57:40.126Z"
   },
   {
    "duration": 3,
    "start_time": "2024-05-01T21:58:35.498Z"
   },
   {
    "duration": 4,
    "start_time": "2024-05-01T21:59:20.238Z"
   },
   {
    "duration": 3,
    "start_time": "2024-05-01T21:59:41.613Z"
   },
   {
    "duration": 3,
    "start_time": "2024-05-01T21:59:47.661Z"
   },
   {
    "duration": 3,
    "start_time": "2024-05-01T22:00:18.426Z"
   },
   {
    "duration": 100,
    "start_time": "2024-05-01T22:00:24.389Z"
   },
   {
    "duration": 3,
    "start_time": "2024-05-01T22:00:36.249Z"
   },
   {
    "duration": 2455,
    "start_time": "2024-05-01T22:01:00.601Z"
   },
   {
    "duration": 1277,
    "start_time": "2024-05-01T22:01:03.058Z"
   },
   {
    "duration": 2,
    "start_time": "2024-05-01T22:01:04.337Z"
   },
   {
    "duration": 44,
    "start_time": "2024-05-01T22:01:04.340Z"
   },
   {
    "duration": 8,
    "start_time": "2024-05-01T22:01:04.386Z"
   },
   {
    "duration": 6,
    "start_time": "2024-05-01T22:01:04.395Z"
   },
   {
    "duration": 7,
    "start_time": "2024-05-01T22:01:04.402Z"
   },
   {
    "duration": 8,
    "start_time": "2024-05-01T22:01:04.410Z"
   },
   {
    "duration": 4,
    "start_time": "2024-05-01T22:01:04.419Z"
   },
   {
    "duration": 5,
    "start_time": "2024-05-01T22:01:04.425Z"
   },
   {
    "duration": 242,
    "start_time": "2024-05-01T22:01:04.431Z"
   },
   {
    "duration": 270,
    "start_time": "2024-05-01T22:01:04.675Z"
   },
   {
    "duration": 264,
    "start_time": "2024-05-01T22:01:04.947Z"
   },
   {
    "duration": 6,
    "start_time": "2024-05-01T22:01:05.213Z"
   },
   {
    "duration": 4,
    "start_time": "2024-05-01T22:01:05.220Z"
   },
   {
    "duration": 4,
    "start_time": "2024-05-01T22:01:05.225Z"
   },
   {
    "duration": 1262,
    "start_time": "2024-05-01T22:01:05.230Z"
   },
   {
    "duration": 241,
    "start_time": "2024-05-01T22:01:06.493Z"
   },
   {
    "duration": 189,
    "start_time": "2024-05-01T22:01:06.736Z"
   },
   {
    "duration": 386,
    "start_time": "2024-05-01T22:01:06.927Z"
   },
   {
    "duration": 184,
    "start_time": "2024-05-01T22:01:07.315Z"
   },
   {
    "duration": 187,
    "start_time": "2024-05-01T22:01:07.500Z"
   },
   {
    "duration": 3,
    "start_time": "2024-05-01T22:01:07.689Z"
   },
   {
    "duration": 6,
    "start_time": "2024-05-01T22:01:07.693Z"
   },
   {
    "duration": 4,
    "start_time": "2024-05-01T22:01:07.700Z"
   },
   {
    "duration": 443,
    "start_time": "2024-05-01T22:01:07.705Z"
   },
   {
    "duration": 4,
    "start_time": "2024-05-01T22:01:08.149Z"
   },
   {
    "duration": 2,
    "start_time": "2024-05-01T22:01:08.156Z"
   },
   {
    "duration": 17,
    "start_time": "2024-05-01T22:01:08.159Z"
   },
   {
    "duration": 10,
    "start_time": "2024-05-01T22:01:08.177Z"
   },
   {
    "duration": 19,
    "start_time": "2024-05-01T22:01:08.188Z"
   },
   {
    "duration": 4,
    "start_time": "2024-05-01T22:01:08.208Z"
   },
   {
    "duration": 3,
    "start_time": "2024-05-01T22:01:08.213Z"
   },
   {
    "duration": 4,
    "start_time": "2024-05-01T22:01:08.218Z"
   },
   {
    "duration": 15,
    "start_time": "2024-05-01T22:01:08.223Z"
   },
   {
    "duration": 4,
    "start_time": "2024-05-01T22:01:08.239Z"
   },
   {
    "duration": 6,
    "start_time": "2024-05-01T22:01:08.244Z"
   },
   {
    "duration": 170549,
    "start_time": "2024-05-01T22:01:08.252Z"
   },
   {
    "duration": 93,
    "start_time": "2024-05-01T22:03:58.803Z"
   },
   {
    "duration": 5,
    "start_time": "2024-05-01T22:03:58.897Z"
   },
   {
    "duration": 3,
    "start_time": "2024-05-01T22:03:58.904Z"
   },
   {
    "duration": 9,
    "start_time": "2024-05-01T22:03:58.908Z"
   },
   {
    "duration": 4,
    "start_time": "2024-05-01T22:03:58.918Z"
   },
   {
    "duration": 5,
    "start_time": "2024-05-01T22:03:58.923Z"
   },
   {
    "duration": 7,
    "start_time": "2024-05-01T22:03:58.929Z"
   },
   {
    "duration": 6,
    "start_time": "2024-05-01T22:03:58.937Z"
   },
   {
    "duration": 6582,
    "start_time": "2024-05-01T22:03:58.944Z"
   },
   {
    "duration": 6,
    "start_time": "2024-05-01T22:04:05.527Z"
   },
   {
    "duration": 17,
    "start_time": "2024-05-01T22:04:05.534Z"
   },
   {
    "duration": 14,
    "start_time": "2024-05-01T22:04:05.552Z"
   },
   {
    "duration": 8,
    "start_time": "2024-05-01T22:04:05.568Z"
   },
   {
    "duration": 608,
    "start_time": "2024-05-01T22:04:05.577Z"
   },
   {
    "duration": 4,
    "start_time": "2024-05-01T22:04:06.186Z"
   },
   {
    "duration": 12,
    "start_time": "2024-05-01T22:04:06.191Z"
   },
   {
    "duration": 257,
    "start_time": "2024-05-01T22:04:06.204Z"
   },
   {
    "duration": 3,
    "start_time": "2024-05-01T22:04:06.463Z"
   },
   {
    "duration": 5,
    "start_time": "2024-05-01T22:04:06.468Z"
   },
   {
    "duration": 14,
    "start_time": "2024-05-01T22:04:06.474Z"
   },
   {
    "duration": 9,
    "start_time": "2024-05-01T22:04:06.489Z"
   },
   {
    "duration": 5,
    "start_time": "2024-05-01T22:04:06.499Z"
   },
   {
    "duration": 3798,
    "start_time": "2024-05-02T22:07:42.627Z"
   },
   {
    "duration": 1771,
    "start_time": "2024-05-02T22:07:46.428Z"
   },
   {
    "duration": 4,
    "start_time": "2024-05-02T22:07:48.201Z"
   },
   {
    "duration": 175,
    "start_time": "2024-05-02T22:07:48.207Z"
   },
   {
    "duration": 11,
    "start_time": "2024-05-02T22:07:48.384Z"
   },
   {
    "duration": 6,
    "start_time": "2024-05-02T22:07:48.396Z"
   },
   {
    "duration": 16,
    "start_time": "2024-05-02T22:07:48.403Z"
   },
   {
    "duration": 10,
    "start_time": "2024-05-02T22:07:48.421Z"
   },
   {
    "duration": 13,
    "start_time": "2024-05-02T22:07:48.432Z"
   },
   {
    "duration": 9,
    "start_time": "2024-05-02T22:07:48.448Z"
   },
   {
    "duration": 278,
    "start_time": "2024-05-02T22:07:48.459Z"
   },
   {
    "duration": 342,
    "start_time": "2024-05-02T22:07:48.739Z"
   },
   {
    "duration": 334,
    "start_time": "2024-05-02T22:07:49.083Z"
   },
   {
    "duration": 7,
    "start_time": "2024-05-02T22:07:49.419Z"
   },
   {
    "duration": 5,
    "start_time": "2024-05-02T22:07:49.428Z"
   },
   {
    "duration": 4,
    "start_time": "2024-05-02T22:07:49.434Z"
   },
   {
    "duration": 1912,
    "start_time": "2024-05-02T22:07:49.440Z"
   },
   {
    "duration": 309,
    "start_time": "2024-05-02T22:07:51.354Z"
   },
   {
    "duration": 240,
    "start_time": "2024-05-02T22:07:51.664Z"
   },
   {
    "duration": 489,
    "start_time": "2024-05-02T22:07:51.906Z"
   },
   {
    "duration": 250,
    "start_time": "2024-05-02T22:07:52.396Z"
   },
   {
    "duration": 233,
    "start_time": "2024-05-02T22:07:52.647Z"
   },
   {
    "duration": 316,
    "start_time": "2024-05-02T22:07:52.882Z"
   },
   {
    "duration": 317,
    "start_time": "2024-05-02T22:08:02.297Z"
   },
   {
    "duration": 298,
    "start_time": "2024-05-02T22:29:07.088Z"
   },
   {
    "duration": 319,
    "start_time": "2024-05-02T22:29:29.374Z"
   },
   {
    "duration": 384,
    "start_time": "2024-05-02T22:29:39.197Z"
   },
   {
    "duration": 311,
    "start_time": "2024-05-02T22:29:46.225Z"
   },
   {
    "duration": 2636,
    "start_time": "2024-05-03T01:22:07.571Z"
   },
   {
    "duration": 7209,
    "start_time": "2024-05-03T01:22:10.209Z"
   },
   {
    "duration": 5,
    "start_time": "2024-05-03T01:22:17.421Z"
   },
   {
    "duration": 30,
    "start_time": "2024-05-03T01:22:17.428Z"
   },
   {
    "duration": 18,
    "start_time": "2024-05-03T01:22:17.460Z"
   },
   {
    "duration": 64,
    "start_time": "2024-05-03T01:22:17.480Z"
   },
   {
    "duration": 9,
    "start_time": "2024-05-03T01:22:17.546Z"
   },
   {
    "duration": 10,
    "start_time": "2024-05-03T01:22:17.556Z"
   },
   {
    "duration": 17,
    "start_time": "2024-05-03T01:22:17.567Z"
   },
   {
    "duration": 10,
    "start_time": "2024-05-03T01:22:17.586Z"
   },
   {
    "duration": 18,
    "start_time": "2024-05-03T01:22:17.598Z"
   },
   {
    "duration": 14,
    "start_time": "2024-05-03T01:22:17.617Z"
   },
   {
    "duration": 248,
    "start_time": "2024-05-03T01:22:17.633Z"
   },
   {
    "duration": 334,
    "start_time": "2024-05-03T01:22:17.884Z"
   },
   {
    "duration": 283,
    "start_time": "2024-05-03T01:22:18.220Z"
   },
   {
    "duration": 6,
    "start_time": "2024-05-03T01:22:18.505Z"
   },
   {
    "duration": 18,
    "start_time": "2024-05-03T01:22:18.512Z"
   },
   {
    "duration": 21,
    "start_time": "2024-05-03T01:22:18.532Z"
   },
   {
    "duration": 1857,
    "start_time": "2024-05-03T01:22:18.555Z"
   },
   {
    "duration": 305,
    "start_time": "2024-05-03T01:22:20.413Z"
   },
   {
    "duration": 231,
    "start_time": "2024-05-03T01:22:20.719Z"
   },
   {
    "duration": 441,
    "start_time": "2024-05-03T01:22:20.951Z"
   },
   {
    "duration": 244,
    "start_time": "2024-05-03T01:22:21.394Z"
   },
   {
    "duration": 353,
    "start_time": "2024-05-03T01:22:21.641Z"
   },
   {
    "duration": 328,
    "start_time": "2024-05-03T01:22:21.996Z"
   },
   {
    "duration": 5,
    "start_time": "2024-05-03T01:22:22.326Z"
   },
   {
    "duration": 15,
    "start_time": "2024-05-03T01:22:22.332Z"
   },
   {
    "duration": 7,
    "start_time": "2024-05-03T01:22:22.349Z"
   },
   {
    "duration": 472,
    "start_time": "2024-05-03T01:22:22.358Z"
   },
   {
    "duration": 5,
    "start_time": "2024-05-03T01:22:22.832Z"
   },
   {
    "duration": 17,
    "start_time": "2024-05-03T01:22:22.839Z"
   },
   {
    "duration": 13,
    "start_time": "2024-05-03T01:22:22.857Z"
   },
   {
    "duration": 11,
    "start_time": "2024-05-03T01:22:22.871Z"
   },
   {
    "duration": 24,
    "start_time": "2024-05-03T01:22:22.883Z"
   },
   {
    "duration": 19,
    "start_time": "2024-05-03T01:22:22.908Z"
   },
   {
    "duration": 19,
    "start_time": "2024-05-03T01:22:22.928Z"
   },
   {
    "duration": 7,
    "start_time": "2024-05-03T01:22:22.949Z"
   },
   {
    "duration": 12,
    "start_time": "2024-05-03T01:22:22.958Z"
   },
   {
    "duration": 198844,
    "start_time": "2024-05-03T01:22:22.971Z"
   },
   {
    "duration": 14,
    "start_time": "2024-05-03T01:25:41.817Z"
   },
   {
    "duration": 5,
    "start_time": "2024-05-03T01:25:41.835Z"
   },
   {
    "duration": 7,
    "start_time": "2024-05-03T01:25:41.842Z"
   },
   {
    "duration": 21,
    "start_time": "2024-05-03T01:25:41.851Z"
   },
   {
    "duration": 20,
    "start_time": "2024-05-03T01:25:41.874Z"
   },
   {
    "duration": 23,
    "start_time": "2024-05-03T01:25:41.896Z"
   },
   {
    "duration": 8,
    "start_time": "2024-05-03T01:25:41.921Z"
   },
   {
    "duration": 20544,
    "start_time": "2024-05-03T01:25:41.930Z"
   },
   {
    "duration": 3,
    "start_time": "2024-05-03T01:26:02.476Z"
   },
   {
    "duration": 1248,
    "start_time": "2024-05-03T01:26:02.480Z"
   },
   {
    "duration": 0,
    "start_time": "2024-05-03T01:26:03.730Z"
   },
   {
    "duration": 4,
    "start_time": "2024-05-03T01:31:01.310Z"
   },
   {
    "duration": 2608,
    "start_time": "2024-05-03T01:31:13.616Z"
   },
   {
    "duration": 5,
    "start_time": "2024-05-03T01:31:34.882Z"
   },
   {
    "duration": 4,
    "start_time": "2024-05-03T01:31:49.528Z"
   },
   {
    "duration": 2699,
    "start_time": "2024-05-03T01:32:38.258Z"
   },
   {
    "duration": 8,
    "start_time": "2024-05-03T01:32:47.010Z"
   },
   {
    "duration": 77,
    "start_time": "2024-05-03T01:33:58.295Z"
   },
   {
    "duration": 2513,
    "start_time": "2024-05-03T01:34:04.200Z"
   },
   {
    "duration": 70,
    "start_time": "2024-05-03T01:34:07.643Z"
   },
   {
    "duration": 5,
    "start_time": "2024-05-03T01:34:15.744Z"
   },
   {
    "duration": 2540,
    "start_time": "2024-05-03T01:34:38.790Z"
   },
   {
    "duration": 5,
    "start_time": "2024-05-03T01:34:41.458Z"
   },
   {
    "duration": 2528,
    "start_time": "2024-05-03T01:35:56.824Z"
   },
   {
    "duration": 713,
    "start_time": "2024-05-03T01:36:00.855Z"
   },
   {
    "duration": 2560,
    "start_time": "2024-05-03T01:36:15.983Z"
   },
   {
    "duration": 2547,
    "start_time": "2024-05-03T01:36:44.951Z"
   },
   {
    "duration": 4,
    "start_time": "2024-05-03T01:36:47.501Z"
   },
   {
    "duration": 2492,
    "start_time": "2024-05-03T01:36:47.507Z"
   },
   {
    "duration": 682,
    "start_time": "2024-05-03T01:36:50.002Z"
   },
   {
    "duration": 3,
    "start_time": "2024-05-03T01:36:50.686Z"
   },
   {
    "duration": 19,
    "start_time": "2024-05-03T01:36:50.690Z"
   },
   {
    "duration": 66,
    "start_time": "2024-05-03T01:36:50.711Z"
   },
   {
    "duration": 10,
    "start_time": "2024-05-03T01:36:50.780Z"
   },
   {
    "duration": 5,
    "start_time": "2024-05-03T01:36:50.792Z"
   },
   {
    "duration": 17,
    "start_time": "2024-05-03T01:36:50.799Z"
   },
   {
    "duration": 11,
    "start_time": "2024-05-03T01:36:50.817Z"
   },
   {
    "duration": 5,
    "start_time": "2024-05-03T01:36:50.829Z"
   },
   {
    "duration": 8,
    "start_time": "2024-05-03T01:36:50.835Z"
   },
   {
    "duration": 281,
    "start_time": "2024-05-03T01:36:50.845Z"
   },
   {
    "duration": 358,
    "start_time": "2024-05-03T01:36:51.127Z"
   },
   {
    "duration": 268,
    "start_time": "2024-05-03T01:36:51.487Z"
   },
   {
    "duration": 16,
    "start_time": "2024-05-03T01:36:51.757Z"
   },
   {
    "duration": 5,
    "start_time": "2024-05-03T01:36:51.774Z"
   },
   {
    "duration": 17,
    "start_time": "2024-05-03T01:36:51.780Z"
   },
   {
    "duration": 1944,
    "start_time": "2024-05-03T01:36:51.798Z"
   },
   {
    "duration": 310,
    "start_time": "2024-05-03T01:36:53.744Z"
   },
   {
    "duration": 223,
    "start_time": "2024-05-03T01:36:54.055Z"
   },
   {
    "duration": 457,
    "start_time": "2024-05-03T01:36:54.279Z"
   },
   {
    "duration": 230,
    "start_time": "2024-05-03T01:36:54.738Z"
   },
   {
    "duration": 237,
    "start_time": "2024-05-03T01:36:54.970Z"
   },
   {
    "duration": 316,
    "start_time": "2024-05-03T01:36:55.208Z"
   },
   {
    "duration": 5,
    "start_time": "2024-05-03T01:36:55.525Z"
   },
   {
    "duration": 9,
    "start_time": "2024-05-03T01:36:55.531Z"
   },
   {
    "duration": 4,
    "start_time": "2024-05-03T01:36:55.541Z"
   },
   {
    "duration": 494,
    "start_time": "2024-05-03T01:36:55.546Z"
   },
   {
    "duration": 5,
    "start_time": "2024-05-03T01:36:56.042Z"
   },
   {
    "duration": 24,
    "start_time": "2024-05-03T01:36:56.048Z"
   },
   {
    "duration": 23,
    "start_time": "2024-05-03T01:36:56.074Z"
   },
   {
    "duration": 10,
    "start_time": "2024-05-03T01:36:56.099Z"
   },
   {
    "duration": 15,
    "start_time": "2024-05-03T01:36:56.111Z"
   },
   {
    "duration": 6,
    "start_time": "2024-05-03T01:36:56.128Z"
   },
   {
    "duration": 5,
    "start_time": "2024-05-03T01:36:56.135Z"
   },
   {
    "duration": 5,
    "start_time": "2024-05-03T01:36:56.141Z"
   },
   {
    "duration": 9,
    "start_time": "2024-05-03T01:36:56.147Z"
   },
   {
    "duration": 210421,
    "start_time": "2024-05-03T01:36:56.157Z"
   },
   {
    "duration": 13,
    "start_time": "2024-05-03T01:40:26.582Z"
   },
   {
    "duration": 21,
    "start_time": "2024-05-03T01:40:26.597Z"
   },
   {
    "duration": 17,
    "start_time": "2024-05-03T01:40:26.619Z"
   },
   {
    "duration": 23,
    "start_time": "2024-05-03T01:40:26.637Z"
   },
   {
    "duration": 13,
    "start_time": "2024-05-03T01:40:26.662Z"
   },
   {
    "duration": 8,
    "start_time": "2024-05-03T01:40:26.677Z"
   },
   {
    "duration": 3,
    "start_time": "2024-05-03T01:45:45.334Z"
   },
   {
    "duration": 21245,
    "start_time": "2024-05-03T01:45:50.044Z"
   },
   {
    "duration": 4,
    "start_time": "2024-05-03T01:46:12.361Z"
   },
   {
    "duration": 4,
    "start_time": "2024-05-03T01:49:25.317Z"
   },
   {
    "duration": 4,
    "start_time": "2024-05-03T01:49:28.687Z"
   },
   {
    "duration": 6,
    "start_time": "2024-05-03T01:49:30.276Z"
   },
   {
    "duration": 91185,
    "start_time": "2024-05-03T01:49:33.592Z"
   },
   {
    "duration": 21,
    "start_time": "2024-05-03T01:52:38.520Z"
   },
   {
    "duration": 4,
    "start_time": "2024-05-03T01:52:45.447Z"
   },
   {
    "duration": 7,
    "start_time": "2024-05-03T01:53:01.005Z"
   },
   {
    "duration": 3,
    "start_time": "2024-05-03T01:53:43.899Z"
   },
   {
    "duration": 17485,
    "start_time": "2024-05-03T01:53:45.442Z"
   },
   {
    "duration": 3,
    "start_time": "2024-05-03T01:54:05.745Z"
   },
   {
    "duration": 118,
    "start_time": "2024-05-03T01:54:45.539Z"
   },
   {
    "duration": 10,
    "start_time": "2024-05-03T01:55:02.346Z"
   },
   {
    "duration": 224,
    "start_time": "2024-05-03T01:55:22.381Z"
   },
   {
    "duration": 310,
    "start_time": "2024-05-03T02:02:31.231Z"
   },
   {
    "duration": 4,
    "start_time": "2024-05-03T02:03:07.340Z"
   },
   {
    "duration": 199,
    "start_time": "2024-05-03T02:04:53.176Z"
   },
   {
    "duration": 203,
    "start_time": "2024-05-03T02:04:58.984Z"
   },
   {
    "duration": 193,
    "start_time": "2024-05-03T02:05:21.239Z"
   },
   {
    "duration": 10,
    "start_time": "2024-05-03T02:05:53.217Z"
   },
   {
    "duration": 153,
    "start_time": "2024-05-03T02:06:43.615Z"
   },
   {
    "duration": 95,
    "start_time": "2024-05-03T02:06:49.345Z"
   },
   {
    "duration": 1368,
    "start_time": "2024-05-03T02:08:28.253Z"
   },
   {
    "duration": 192,
    "start_time": "2024-05-03T02:08:39.293Z"
   },
   {
    "duration": 196,
    "start_time": "2024-05-03T02:10:24.193Z"
   },
   {
    "duration": 211,
    "start_time": "2024-05-03T02:13:21.704Z"
   },
   {
    "duration": 336,
    "start_time": "2024-05-03T02:13:42.800Z"
   },
   {
    "duration": 195,
    "start_time": "2024-05-03T02:14:53.512Z"
   },
   {
    "duration": 187,
    "start_time": "2024-05-03T02:15:09.609Z"
   },
   {
    "duration": 3,
    "start_time": "2024-05-03T02:15:19.529Z"
   },
   {
    "duration": 4,
    "start_time": "2024-05-03T02:15:30.091Z"
   },
   {
    "duration": 206,
    "start_time": "2024-05-03T02:15:53.333Z"
   },
   {
    "duration": 200,
    "start_time": "2024-05-03T02:16:01.413Z"
   },
   {
    "duration": 4,
    "start_time": "2024-05-03T02:56:42.436Z"
   },
   {
    "duration": 302,
    "start_time": "2024-05-03T02:56:48.979Z"
   },
   {
    "duration": 3,
    "start_time": "2024-05-03T02:57:21.962Z"
   },
   {
    "duration": 309,
    "start_time": "2024-05-03T02:57:29.334Z"
   },
   {
    "duration": 3,
    "start_time": "2024-05-03T02:57:42.836Z"
   },
   {
    "duration": 273,
    "start_time": "2024-05-03T02:59:08.845Z"
   },
   {
    "duration": 304,
    "start_time": "2024-05-03T03:01:08.343Z"
   },
   {
    "duration": 312,
    "start_time": "2024-05-03T03:23:14.135Z"
   },
   {
    "duration": 363,
    "start_time": "2024-05-03T03:26:13.203Z"
   },
   {
    "duration": 410,
    "start_time": "2024-05-03T03:27:38.033Z"
   },
   {
    "duration": 449,
    "start_time": "2024-05-03T03:33:57.007Z"
   },
   {
    "duration": 2575,
    "start_time": "2024-05-03T03:37:17.228Z"
   },
   {
    "duration": 698,
    "start_time": "2024-05-03T03:37:19.805Z"
   },
   {
    "duration": 2576,
    "start_time": "2024-05-03T03:37:20.505Z"
   },
   {
    "duration": 695,
    "start_time": "2024-05-03T03:37:23.084Z"
   },
   {
    "duration": 3,
    "start_time": "2024-05-03T03:37:23.780Z"
   },
   {
    "duration": 12,
    "start_time": "2024-05-03T03:37:23.784Z"
   },
   {
    "duration": 8,
    "start_time": "2024-05-03T03:37:23.797Z"
   },
   {
    "duration": 57,
    "start_time": "2024-05-03T03:37:23.806Z"
   },
   {
    "duration": 10,
    "start_time": "2024-05-03T03:37:23.865Z"
   },
   {
    "duration": 7,
    "start_time": "2024-05-03T03:37:23.879Z"
   },
   {
    "duration": 13,
    "start_time": "2024-05-03T03:37:23.887Z"
   },
   {
    "duration": 11,
    "start_time": "2024-05-03T03:37:23.901Z"
   },
   {
    "duration": 5,
    "start_time": "2024-05-03T03:37:23.914Z"
   },
   {
    "duration": 8,
    "start_time": "2024-05-03T03:37:23.921Z"
   },
   {
    "duration": 297,
    "start_time": "2024-05-03T03:37:23.931Z"
   },
   {
    "duration": 339,
    "start_time": "2024-05-03T03:37:24.230Z"
   },
   {
    "duration": 265,
    "start_time": "2024-05-03T03:37:24.572Z"
   },
   {
    "duration": 7,
    "start_time": "2024-05-03T03:37:24.839Z"
   },
   {
    "duration": 10,
    "start_time": "2024-05-03T03:37:24.848Z"
   },
   {
    "duration": 6,
    "start_time": "2024-05-03T03:37:24.872Z"
   },
   {
    "duration": 1946,
    "start_time": "2024-05-03T03:37:24.879Z"
   },
   {
    "duration": 324,
    "start_time": "2024-05-03T03:37:26.826Z"
   },
   {
    "duration": 223,
    "start_time": "2024-05-03T03:37:27.152Z"
   },
   {
    "duration": 405,
    "start_time": "2024-05-03T03:37:27.377Z"
   },
   {
    "duration": 250,
    "start_time": "2024-05-03T03:37:27.784Z"
   },
   {
    "duration": 255,
    "start_time": "2024-05-03T03:37:28.036Z"
   },
   {
    "duration": 346,
    "start_time": "2024-05-03T03:37:28.293Z"
   },
   {
    "duration": 4,
    "start_time": "2024-05-03T03:37:28.642Z"
   },
   {
    "duration": 9,
    "start_time": "2024-05-03T03:37:28.647Z"
   },
   {
    "duration": 17,
    "start_time": "2024-05-03T03:37:28.657Z"
   },
   {
    "duration": 445,
    "start_time": "2024-05-03T03:37:28.675Z"
   },
   {
    "duration": 3,
    "start_time": "2024-05-03T03:37:29.122Z"
   },
   {
    "duration": 4,
    "start_time": "2024-05-03T03:37:29.127Z"
   },
   {
    "duration": 11,
    "start_time": "2024-05-03T03:37:29.133Z"
   },
   {
    "duration": 4,
    "start_time": "2024-05-03T03:37:29.145Z"
   },
   {
    "duration": 30,
    "start_time": "2024-05-03T03:37:29.150Z"
   },
   {
    "duration": 5,
    "start_time": "2024-05-03T03:37:29.181Z"
   },
   {
    "duration": 8,
    "start_time": "2024-05-03T03:37:29.187Z"
   },
   {
    "duration": 21,
    "start_time": "2024-05-03T03:37:29.196Z"
   },
   {
    "duration": 6,
    "start_time": "2024-05-03T03:37:29.219Z"
   },
   {
    "duration": 252,
    "start_time": "2024-05-03T03:37:29.226Z"
   },
   {
    "duration": 7,
    "start_time": "2024-05-03T03:37:29.479Z"
   },
   {
    "duration": 14,
    "start_time": "2024-05-03T03:37:29.488Z"
   },
   {
    "duration": 0,
    "start_time": "2024-05-03T03:37:29.504Z"
   },
   {
    "duration": 0,
    "start_time": "2024-05-03T03:37:29.505Z"
   },
   {
    "duration": 0,
    "start_time": "2024-05-03T03:37:29.506Z"
   },
   {
    "duration": 0,
    "start_time": "2024-05-03T03:37:29.507Z"
   },
   {
    "duration": 0,
    "start_time": "2024-05-03T03:37:29.508Z"
   },
   {
    "duration": 0,
    "start_time": "2024-05-03T03:37:29.509Z"
   },
   {
    "duration": 0,
    "start_time": "2024-05-03T03:37:29.510Z"
   },
   {
    "duration": 0,
    "start_time": "2024-05-03T03:37:29.511Z"
   },
   {
    "duration": 0,
    "start_time": "2024-05-03T03:37:29.512Z"
   },
   {
    "duration": 0,
    "start_time": "2024-05-03T03:37:29.513Z"
   },
   {
    "duration": 2615,
    "start_time": "2024-05-03T03:40:30.277Z"
   },
   {
    "duration": 675,
    "start_time": "2024-05-03T03:40:32.894Z"
   },
   {
    "duration": 2554,
    "start_time": "2024-05-03T03:40:33.573Z"
   },
   {
    "duration": 643,
    "start_time": "2024-05-03T03:40:36.130Z"
   },
   {
    "duration": 2,
    "start_time": "2024-05-03T03:40:36.775Z"
   },
   {
    "duration": 29,
    "start_time": "2024-05-03T03:40:36.779Z"
   },
   {
    "duration": 4,
    "start_time": "2024-05-03T03:40:36.810Z"
   },
   {
    "duration": 60,
    "start_time": "2024-05-03T03:40:36.815Z"
   },
   {
    "duration": 12,
    "start_time": "2024-05-03T03:40:36.877Z"
   },
   {
    "duration": 6,
    "start_time": "2024-05-03T03:40:36.892Z"
   },
   {
    "duration": 10,
    "start_time": "2024-05-03T03:40:36.900Z"
   },
   {
    "duration": 11,
    "start_time": "2024-05-03T03:40:36.912Z"
   },
   {
    "duration": 7,
    "start_time": "2024-05-03T03:40:36.924Z"
   },
   {
    "duration": 42,
    "start_time": "2024-05-03T03:40:36.932Z"
   },
   {
    "duration": 273,
    "start_time": "2024-05-03T03:40:36.976Z"
   },
   {
    "duration": 339,
    "start_time": "2024-05-03T03:40:37.250Z"
   },
   {
    "duration": 257,
    "start_time": "2024-05-03T03:40:37.591Z"
   },
   {
    "duration": 6,
    "start_time": "2024-05-03T03:40:37.849Z"
   },
   {
    "duration": 16,
    "start_time": "2024-05-03T03:40:37.857Z"
   },
   {
    "duration": 3,
    "start_time": "2024-05-03T03:40:37.874Z"
   },
   {
    "duration": 1990,
    "start_time": "2024-05-03T03:40:37.879Z"
   },
   {
    "duration": 330,
    "start_time": "2024-05-03T03:40:39.871Z"
   },
   {
    "duration": 227,
    "start_time": "2024-05-03T03:40:40.203Z"
   },
   {
    "duration": 458,
    "start_time": "2024-05-03T03:40:40.432Z"
   },
   {
    "duration": 230,
    "start_time": "2024-05-03T03:40:40.891Z"
   },
   {
    "duration": 250,
    "start_time": "2024-05-03T03:40:41.123Z"
   },
   {
    "duration": 311,
    "start_time": "2024-05-03T03:40:41.374Z"
   },
   {
    "duration": 4,
    "start_time": "2024-05-03T03:40:41.689Z"
   },
   {
    "duration": 8,
    "start_time": "2024-05-03T03:40:41.695Z"
   },
   {
    "duration": 6,
    "start_time": "2024-05-03T03:40:41.705Z"
   },
   {
    "duration": 461,
    "start_time": "2024-05-03T03:40:41.713Z"
   },
   {
    "duration": 3,
    "start_time": "2024-05-03T03:40:42.176Z"
   },
   {
    "duration": 4,
    "start_time": "2024-05-03T03:40:42.181Z"
   },
   {
    "duration": 11,
    "start_time": "2024-05-03T03:40:42.186Z"
   },
   {
    "duration": 9,
    "start_time": "2024-05-03T03:40:42.198Z"
   },
   {
    "duration": 11,
    "start_time": "2024-05-03T03:40:42.208Z"
   },
   {
    "duration": 6,
    "start_time": "2024-05-03T03:40:42.220Z"
   },
   {
    "duration": 8,
    "start_time": "2024-05-03T03:40:42.227Z"
   },
   {
    "duration": 5,
    "start_time": "2024-05-03T03:40:42.237Z"
   },
   {
    "duration": 46,
    "start_time": "2024-05-03T03:40:42.243Z"
   },
   {
    "duration": 92193,
    "start_time": "2024-05-03T03:40:42.291Z"
   },
   {
    "duration": 14,
    "start_time": "2024-05-03T03:42:14.485Z"
   },
   {
    "duration": 13,
    "start_time": "2024-05-03T03:42:14.500Z"
   },
   {
    "duration": 31,
    "start_time": "2024-05-03T03:42:14.515Z"
   },
   {
    "duration": 22,
    "start_time": "2024-05-03T03:42:14.547Z"
   },
   {
    "duration": 13,
    "start_time": "2024-05-03T03:42:14.571Z"
   },
   {
    "duration": 13,
    "start_time": "2024-05-03T03:42:14.585Z"
   },
   {
    "duration": 12,
    "start_time": "2024-05-03T03:42:14.600Z"
   },
   {
    "duration": 17653,
    "start_time": "2024-05-03T03:42:14.613Z"
   },
   {
    "duration": 6,
    "start_time": "2024-05-03T03:42:32.267Z"
   },
   {
    "duration": 345,
    "start_time": "2024-05-03T03:42:32.274Z"
   },
   {
    "duration": 434,
    "start_time": "2024-05-03T03:42:32.620Z"
   },
   {
    "duration": 3,
    "start_time": "2024-05-03T03:42:33.055Z"
   }
  ],
  "kernelspec": {
   "display_name": "Python 3 (ipykernel)",
   "language": "python",
   "name": "python3"
  },
  "language_info": {
   "codemirror_mode": {
    "name": "ipython",
    "version": 3
   },
   "file_extension": ".py",
   "mimetype": "text/x-python",
   "name": "python",
   "nbconvert_exporter": "python",
   "pygments_lexer": "ipython3",
   "version": "3.9.19"
  },
  "toc": {
   "base_numbering": 1,
   "nav_menu": {
    "height": "211px",
    "width": "217px"
   },
   "number_sections": true,
   "sideBar": true,
   "skip_h1_title": true,
   "title_cell": "Содержание",
   "title_sidebar": "Contents",
   "toc_cell": true,
   "toc_position": {},
   "toc_section_display": true,
   "toc_window_display": false
  }
 },
 "nbformat": 4,
 "nbformat_minor": 4
}
