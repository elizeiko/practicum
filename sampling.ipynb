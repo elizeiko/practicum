{
 "cells": [
  {
   "cell_type": "markdown",
   "metadata": {},
   "source": [
    "# Выбор локации для скважины"
   ]
  },
  {
   "cell_type": "markdown",
   "metadata": {},
   "source": [
    "Добывающей компании «ГлавРосГосНефть» нужно решить, где бурить новую скважину.\n",
    "\n",
    "Предоставлены пробы нефти в трёх регионах: в каждом 10 000 месторождений, где измерили качество нефти и объём её запасов. Нужно построить модель машинного обучения, которая поможет определить регион, где добыча принесёт наибольшую прибыль, проанализировать возможную прибыль и риски техникой *Bootstrap.*\n",
    "\n",
    "Шаги для выбора локации:\n",
    "\n",
    "- В избранном регионе найти месторождения, для каждого определить значения признаков;\n",
    "- построить модель и оценить объём запасов;\n",
    "- выбрать месторождения с самым высокими оценками значений. Количество месторождений зависит от бюджета компании и стоимости разработки одной скважины;\n",
    "- рассчитать прибыль как суммарную прибыль отобранных месторождений."
   ]
  },
  {
   "cell_type": "code",
   "execution_count": 1,
   "metadata": {},
   "outputs": [
    {
     "name": "stdout",
     "output_type": "stream",
     "text": [
      "Note: you may need to restart the kernel to use updated packages.\n"
     ]
    }
   ],
   "source": [
    "pip install phik -q"
   ]
  },
  {
   "cell_type": "code",
   "execution_count": 2,
   "metadata": {},
   "outputs": [],
   "source": [
    "import matplotlib.pyplot as plt\n",
    "\n",
    "import numpy as np\n",
    "\n",
    "from numpy.random import RandomState\n",
    "\n",
    "import pandas as pd\n",
    "\n",
    "import phik\n",
    "\n",
    "import seaborn as sb\n",
    "\n",
    "from sklearn.linear_model import LinearRegression\n",
    "\n",
    "from sklearn.metrics import mean_squared_error\n",
    "\n",
    "from sklearn.model_selection import train_test_split, cross_val_score"
   ]
  },
  {
   "cell_type": "code",
   "execution_count": 3,
   "metadata": {},
   "outputs": [],
   "source": [
    "state = RandomState(12345) "
   ]
  },
  {
   "cell_type": "code",
   "execution_count": 4,
   "metadata": {},
   "outputs": [],
   "source": [
    "def pred(path):\n",
    "    try:\n",
    "        df=pd.read_csv(path)\n",
    "    except:\n",
    "        print('Файл недоступен')\n",
    "    else:\n",
    "        display(df.head())\n",
    "    display(df.info())\n",
    "    print('Количество дубликатов:',df.duplicated().sum())\n",
    "    display(df.query('id.duplicated(keep=False)').sort_values('id'))\n",
    "    return df"
   ]
  },
  {
   "cell_type": "code",
   "execution_count": 5,
   "metadata": {},
   "outputs": [],
   "source": [
    "def suffix(df):\n",
    "    print(\"Одной скважине соответствуют разные значения запасов в скважине - Таких записей \",\n",
    "          df['id'].duplicated(keep=False).sum())\n",
    "    i=df.query('id.duplicated(keep=False)').index\n",
    "    df.loc[df['id'].duplicated(),'id']=df.loc[df['id'].duplicated(),'id']\\\n",
    ".agg(lambda x:x.replace(x,x+'_1'))\n",
    "    display(df.iloc[i].sort_values('id').head())\n",
    "    return df"
   ]
  },
  {
   "cell_type": "code",
   "execution_count": 6,
   "metadata": {},
   "outputs": [],
   "source": [
    "def heatmap(df,num):\n",
    "    df.set_index('id',inplace=True)\n",
    "    plt.figure(figsize=(6,5))\n",
    "    sb.heatmap((df.phik_matrix(interval_cols=num))*100,annot=True,fmt='.0f')\n",
    "    return df"
   ]
  },
  {
   "cell_type": "code",
   "execution_count": 7,
   "metadata": {},
   "outputs": [],
   "source": [
    "def regression(df):\n",
    "    X_train,X_test,y_train,y_test=train_test_split(df.drop('product',axis=1),df['product'],\n",
    "                                               random_state=state)\n",
    "    model=LinearRegression()\n",
    "    y_pred=model.fit(X_train,y_train).predict(X_test)\n",
    "    print('средний запас предсказанного сырья: ',np.median(y_pred).round(0))\n",
    "    print('RMSE: ', mean_squared_error(y_test,y_pred,squared=False).round(0))\n",
    "    return model"
   ]
  },
  {
   "cell_type": "markdown",
   "metadata": {},
   "source": [
    "## Загрузка и подготовка данных"
   ]
  },
  {
   "cell_type": "code",
   "execution_count": 8,
   "metadata": {},
   "outputs": [
    {
     "data": {
      "text/html": [
       "<div>\n",
       "<style scoped>\n",
       "    .dataframe tbody tr th:only-of-type {\n",
       "        vertical-align: middle;\n",
       "    }\n",
       "\n",
       "    .dataframe tbody tr th {\n",
       "        vertical-align: top;\n",
       "    }\n",
       "\n",
       "    .dataframe thead th {\n",
       "        text-align: right;\n",
       "    }\n",
       "</style>\n",
       "<table border=\"1\" class=\"dataframe\">\n",
       "  <thead>\n",
       "    <tr style=\"text-align: right;\">\n",
       "      <th></th>\n",
       "      <th>id</th>\n",
       "      <th>f0</th>\n",
       "      <th>f1</th>\n",
       "      <th>f2</th>\n",
       "      <th>product</th>\n",
       "    </tr>\n",
       "  </thead>\n",
       "  <tbody>\n",
       "    <tr>\n",
       "      <th>0</th>\n",
       "      <td>txEyH</td>\n",
       "      <td>0.705745</td>\n",
       "      <td>-0.497823</td>\n",
       "      <td>1.221170</td>\n",
       "      <td>105.280062</td>\n",
       "    </tr>\n",
       "    <tr>\n",
       "      <th>1</th>\n",
       "      <td>2acmU</td>\n",
       "      <td>1.334711</td>\n",
       "      <td>-0.340164</td>\n",
       "      <td>4.365080</td>\n",
       "      <td>73.037750</td>\n",
       "    </tr>\n",
       "    <tr>\n",
       "      <th>2</th>\n",
       "      <td>409Wp</td>\n",
       "      <td>1.022732</td>\n",
       "      <td>0.151990</td>\n",
       "      <td>1.419926</td>\n",
       "      <td>85.265647</td>\n",
       "    </tr>\n",
       "    <tr>\n",
       "      <th>3</th>\n",
       "      <td>iJLyR</td>\n",
       "      <td>-0.032172</td>\n",
       "      <td>0.139033</td>\n",
       "      <td>2.978566</td>\n",
       "      <td>168.620776</td>\n",
       "    </tr>\n",
       "    <tr>\n",
       "      <th>4</th>\n",
       "      <td>Xdl7t</td>\n",
       "      <td>1.988431</td>\n",
       "      <td>0.155413</td>\n",
       "      <td>4.751769</td>\n",
       "      <td>154.036647</td>\n",
       "    </tr>\n",
       "  </tbody>\n",
       "</table>\n",
       "</div>"
      ],
      "text/plain": [
       "      id        f0        f1        f2     product\n",
       "0  txEyH  0.705745 -0.497823  1.221170  105.280062\n",
       "1  2acmU  1.334711 -0.340164  4.365080   73.037750\n",
       "2  409Wp  1.022732  0.151990  1.419926   85.265647\n",
       "3  iJLyR -0.032172  0.139033  2.978566  168.620776\n",
       "4  Xdl7t  1.988431  0.155413  4.751769  154.036647"
      ]
     },
     "metadata": {},
     "output_type": "display_data"
    },
    {
     "name": "stdout",
     "output_type": "stream",
     "text": [
      "<class 'pandas.core.frame.DataFrame'>\n",
      "RangeIndex: 100000 entries, 0 to 99999\n",
      "Data columns (total 5 columns):\n",
      " #   Column   Non-Null Count   Dtype  \n",
      "---  ------   --------------   -----  \n",
      " 0   id       100000 non-null  object \n",
      " 1   f0       100000 non-null  float64\n",
      " 2   f1       100000 non-null  float64\n",
      " 3   f2       100000 non-null  float64\n",
      " 4   product  100000 non-null  float64\n",
      "dtypes: float64(4), object(1)\n",
      "memory usage: 3.8+ MB\n"
     ]
    },
    {
     "data": {
      "text/plain": [
       "None"
      ]
     },
     "metadata": {},
     "output_type": "display_data"
    },
    {
     "name": "stdout",
     "output_type": "stream",
     "text": [
      "Количество дубликатов: 0\n"
     ]
    },
    {
     "data": {
      "text/html": [
       "<div>\n",
       "<style scoped>\n",
       "    .dataframe tbody tr th:only-of-type {\n",
       "        vertical-align: middle;\n",
       "    }\n",
       "\n",
       "    .dataframe tbody tr th {\n",
       "        vertical-align: top;\n",
       "    }\n",
       "\n",
       "    .dataframe thead th {\n",
       "        text-align: right;\n",
       "    }\n",
       "</style>\n",
       "<table border=\"1\" class=\"dataframe\">\n",
       "  <thead>\n",
       "    <tr style=\"text-align: right;\">\n",
       "      <th></th>\n",
       "      <th>id</th>\n",
       "      <th>f0</th>\n",
       "      <th>f1</th>\n",
       "      <th>f2</th>\n",
       "      <th>product</th>\n",
       "    </tr>\n",
       "  </thead>\n",
       "  <tbody>\n",
       "    <tr>\n",
       "      <th>66136</th>\n",
       "      <td>74z30</td>\n",
       "      <td>1.084962</td>\n",
       "      <td>-0.312358</td>\n",
       "      <td>6.990771</td>\n",
       "      <td>127.643327</td>\n",
       "    </tr>\n",
       "    <tr>\n",
       "      <th>64022</th>\n",
       "      <td>74z30</td>\n",
       "      <td>0.741456</td>\n",
       "      <td>0.459229</td>\n",
       "      <td>5.153109</td>\n",
       "      <td>140.771492</td>\n",
       "    </tr>\n",
       "    <tr>\n",
       "      <th>51970</th>\n",
       "      <td>A5aEY</td>\n",
       "      <td>-0.180335</td>\n",
       "      <td>0.935548</td>\n",
       "      <td>-2.094773</td>\n",
       "      <td>33.020205</td>\n",
       "    </tr>\n",
       "    <tr>\n",
       "      <th>3389</th>\n",
       "      <td>A5aEY</td>\n",
       "      <td>-0.039949</td>\n",
       "      <td>0.156872</td>\n",
       "      <td>0.209861</td>\n",
       "      <td>89.249364</td>\n",
       "    </tr>\n",
       "    <tr>\n",
       "      <th>69163</th>\n",
       "      <td>AGS9W</td>\n",
       "      <td>-0.933795</td>\n",
       "      <td>0.116194</td>\n",
       "      <td>-3.655896</td>\n",
       "      <td>19.230453</td>\n",
       "    </tr>\n",
       "    <tr>\n",
       "      <th>42529</th>\n",
       "      <td>AGS9W</td>\n",
       "      <td>1.454747</td>\n",
       "      <td>-0.479651</td>\n",
       "      <td>0.683380</td>\n",
       "      <td>126.370504</td>\n",
       "    </tr>\n",
       "    <tr>\n",
       "      <th>931</th>\n",
       "      <td>HZww2</td>\n",
       "      <td>0.755284</td>\n",
       "      <td>0.368511</td>\n",
       "      <td>1.863211</td>\n",
       "      <td>30.681774</td>\n",
       "    </tr>\n",
       "    <tr>\n",
       "      <th>7530</th>\n",
       "      <td>HZww2</td>\n",
       "      <td>1.061194</td>\n",
       "      <td>-0.373969</td>\n",
       "      <td>10.430210</td>\n",
       "      <td>158.828695</td>\n",
       "    </tr>\n",
       "    <tr>\n",
       "      <th>63593</th>\n",
       "      <td>QcMuo</td>\n",
       "      <td>0.635635</td>\n",
       "      <td>-0.473422</td>\n",
       "      <td>0.862670</td>\n",
       "      <td>64.578675</td>\n",
       "    </tr>\n",
       "    <tr>\n",
       "      <th>1949</th>\n",
       "      <td>QcMuo</td>\n",
       "      <td>0.506563</td>\n",
       "      <td>-0.323775</td>\n",
       "      <td>-2.215583</td>\n",
       "      <td>75.496502</td>\n",
       "    </tr>\n",
       "    <tr>\n",
       "      <th>75715</th>\n",
       "      <td>Tdehs</td>\n",
       "      <td>0.112079</td>\n",
       "      <td>0.430296</td>\n",
       "      <td>3.218993</td>\n",
       "      <td>60.964018</td>\n",
       "    </tr>\n",
       "    <tr>\n",
       "      <th>21426</th>\n",
       "      <td>Tdehs</td>\n",
       "      <td>0.829407</td>\n",
       "      <td>0.298807</td>\n",
       "      <td>-0.049563</td>\n",
       "      <td>96.035308</td>\n",
       "    </tr>\n",
       "    <tr>\n",
       "      <th>92341</th>\n",
       "      <td>TtcGQ</td>\n",
       "      <td>0.110711</td>\n",
       "      <td>1.022689</td>\n",
       "      <td>0.911381</td>\n",
       "      <td>101.318008</td>\n",
       "    </tr>\n",
       "    <tr>\n",
       "      <th>60140</th>\n",
       "      <td>TtcGQ</td>\n",
       "      <td>0.569276</td>\n",
       "      <td>-0.104876</td>\n",
       "      <td>6.440215</td>\n",
       "      <td>85.350186</td>\n",
       "    </tr>\n",
       "    <tr>\n",
       "      <th>89582</th>\n",
       "      <td>bsk9y</td>\n",
       "      <td>0.398908</td>\n",
       "      <td>-0.400253</td>\n",
       "      <td>10.122376</td>\n",
       "      <td>163.433078</td>\n",
       "    </tr>\n",
       "    <tr>\n",
       "      <th>97785</th>\n",
       "      <td>bsk9y</td>\n",
       "      <td>0.378429</td>\n",
       "      <td>0.005837</td>\n",
       "      <td>0.160827</td>\n",
       "      <td>160.637302</td>\n",
       "    </tr>\n",
       "    <tr>\n",
       "      <th>41724</th>\n",
       "      <td>bxg6G</td>\n",
       "      <td>-0.823752</td>\n",
       "      <td>0.546319</td>\n",
       "      <td>3.630479</td>\n",
       "      <td>93.007798</td>\n",
       "    </tr>\n",
       "    <tr>\n",
       "      <th>1364</th>\n",
       "      <td>bxg6G</td>\n",
       "      <td>0.411645</td>\n",
       "      <td>0.856830</td>\n",
       "      <td>-3.653440</td>\n",
       "      <td>73.604260</td>\n",
       "    </tr>\n",
       "    <tr>\n",
       "      <th>16633</th>\n",
       "      <td>fiKDv</td>\n",
       "      <td>0.157341</td>\n",
       "      <td>1.028359</td>\n",
       "      <td>5.585586</td>\n",
       "      <td>95.817889</td>\n",
       "    </tr>\n",
       "    <tr>\n",
       "      <th>90815</th>\n",
       "      <td>fiKDv</td>\n",
       "      <td>0.049883</td>\n",
       "      <td>0.841313</td>\n",
       "      <td>6.394613</td>\n",
       "      <td>137.346586</td>\n",
       "    </tr>\n",
       "  </tbody>\n",
       "</table>\n",
       "</div>"
      ],
      "text/plain": [
       "          id        f0        f1         f2     product\n",
       "66136  74z30  1.084962 -0.312358   6.990771  127.643327\n",
       "64022  74z30  0.741456  0.459229   5.153109  140.771492\n",
       "51970  A5aEY -0.180335  0.935548  -2.094773   33.020205\n",
       "3389   A5aEY -0.039949  0.156872   0.209861   89.249364\n",
       "69163  AGS9W -0.933795  0.116194  -3.655896   19.230453\n",
       "42529  AGS9W  1.454747 -0.479651   0.683380  126.370504\n",
       "931    HZww2  0.755284  0.368511   1.863211   30.681774\n",
       "7530   HZww2  1.061194 -0.373969  10.430210  158.828695\n",
       "63593  QcMuo  0.635635 -0.473422   0.862670   64.578675\n",
       "1949   QcMuo  0.506563 -0.323775  -2.215583   75.496502\n",
       "75715  Tdehs  0.112079  0.430296   3.218993   60.964018\n",
       "21426  Tdehs  0.829407  0.298807  -0.049563   96.035308\n",
       "92341  TtcGQ  0.110711  1.022689   0.911381  101.318008\n",
       "60140  TtcGQ  0.569276 -0.104876   6.440215   85.350186\n",
       "89582  bsk9y  0.398908 -0.400253  10.122376  163.433078\n",
       "97785  bsk9y  0.378429  0.005837   0.160827  160.637302\n",
       "41724  bxg6G -0.823752  0.546319   3.630479   93.007798\n",
       "1364   bxg6G  0.411645  0.856830  -3.653440   73.604260\n",
       "16633  fiKDv  0.157341  1.028359   5.585586   95.817889\n",
       "90815  fiKDv  0.049883  0.841313   6.394613  137.346586"
      ]
     },
     "metadata": {},
     "output_type": "display_data"
    }
   ],
   "source": [
    "df0=pred('/datasets/geo_data_0.csv')"
   ]
  },
  {
   "cell_type": "markdown",
   "metadata": {},
   "source": [
    "Одной скважине соответствуют разные значения запасов в скважине. Сами скважины в их уникальности нам не понадобятся. Предположим, что это это две разные скважины с ошибками в названиях - добавлю приписки к названиям."
   ]
  },
  {
   "cell_type": "code",
   "execution_count": 9,
   "metadata": {},
   "outputs": [
    {
     "name": "stdout",
     "output_type": "stream",
     "text": [
      "Одной скважине соответствуют разные значения запасов в скважине - Таких записей  20\n"
     ]
    },
    {
     "data": {
      "text/html": [
       "<div>\n",
       "<style scoped>\n",
       "    .dataframe tbody tr th:only-of-type {\n",
       "        vertical-align: middle;\n",
       "    }\n",
       "\n",
       "    .dataframe tbody tr th {\n",
       "        vertical-align: top;\n",
       "    }\n",
       "\n",
       "    .dataframe thead th {\n",
       "        text-align: right;\n",
       "    }\n",
       "</style>\n",
       "<table border=\"1\" class=\"dataframe\">\n",
       "  <thead>\n",
       "    <tr style=\"text-align: right;\">\n",
       "      <th></th>\n",
       "      <th>id</th>\n",
       "      <th>f0</th>\n",
       "      <th>f1</th>\n",
       "      <th>f2</th>\n",
       "      <th>product</th>\n",
       "    </tr>\n",
       "  </thead>\n",
       "  <tbody>\n",
       "    <tr>\n",
       "      <th>64022</th>\n",
       "      <td>74z30</td>\n",
       "      <td>0.741456</td>\n",
       "      <td>0.459229</td>\n",
       "      <td>5.153109</td>\n",
       "      <td>140.771492</td>\n",
       "    </tr>\n",
       "    <tr>\n",
       "      <th>66136</th>\n",
       "      <td>74z30_1</td>\n",
       "      <td>1.084962</td>\n",
       "      <td>-0.312358</td>\n",
       "      <td>6.990771</td>\n",
       "      <td>127.643327</td>\n",
       "    </tr>\n",
       "    <tr>\n",
       "      <th>3389</th>\n",
       "      <td>A5aEY</td>\n",
       "      <td>-0.039949</td>\n",
       "      <td>0.156872</td>\n",
       "      <td>0.209861</td>\n",
       "      <td>89.249364</td>\n",
       "    </tr>\n",
       "    <tr>\n",
       "      <th>51970</th>\n",
       "      <td>A5aEY_1</td>\n",
       "      <td>-0.180335</td>\n",
       "      <td>0.935548</td>\n",
       "      <td>-2.094773</td>\n",
       "      <td>33.020205</td>\n",
       "    </tr>\n",
       "    <tr>\n",
       "      <th>42529</th>\n",
       "      <td>AGS9W</td>\n",
       "      <td>1.454747</td>\n",
       "      <td>-0.479651</td>\n",
       "      <td>0.683380</td>\n",
       "      <td>126.370504</td>\n",
       "    </tr>\n",
       "  </tbody>\n",
       "</table>\n",
       "</div>"
      ],
      "text/plain": [
       "            id        f0        f1        f2     product\n",
       "64022    74z30  0.741456  0.459229  5.153109  140.771492\n",
       "66136  74z30_1  1.084962 -0.312358  6.990771  127.643327\n",
       "3389     A5aEY -0.039949  0.156872  0.209861   89.249364\n",
       "51970  A5aEY_1 -0.180335  0.935548 -2.094773   33.020205\n",
       "42529    AGS9W  1.454747 -0.479651  0.683380  126.370504"
      ]
     },
     "metadata": {},
     "output_type": "display_data"
    }
   ],
   "source": [
    "df0=suffix(df0)"
   ]
  },
  {
   "cell_type": "code",
   "execution_count": 10,
   "metadata": {},
   "outputs": [
    {
     "data": {
      "text/html": [
       "<div>\n",
       "<style scoped>\n",
       "    .dataframe tbody tr th:only-of-type {\n",
       "        vertical-align: middle;\n",
       "    }\n",
       "\n",
       "    .dataframe tbody tr th {\n",
       "        vertical-align: top;\n",
       "    }\n",
       "\n",
       "    .dataframe thead th {\n",
       "        text-align: right;\n",
       "    }\n",
       "</style>\n",
       "<table border=\"1\" class=\"dataframe\">\n",
       "  <thead>\n",
       "    <tr style=\"text-align: right;\">\n",
       "      <th></th>\n",
       "      <th>id</th>\n",
       "      <th>f0</th>\n",
       "      <th>f1</th>\n",
       "      <th>f2</th>\n",
       "      <th>product</th>\n",
       "    </tr>\n",
       "  </thead>\n",
       "  <tbody>\n",
       "    <tr>\n",
       "      <th>0</th>\n",
       "      <td>kBEdx</td>\n",
       "      <td>-15.001348</td>\n",
       "      <td>-8.276000</td>\n",
       "      <td>-0.005876</td>\n",
       "      <td>3.179103</td>\n",
       "    </tr>\n",
       "    <tr>\n",
       "      <th>1</th>\n",
       "      <td>62mP7</td>\n",
       "      <td>14.272088</td>\n",
       "      <td>-3.475083</td>\n",
       "      <td>0.999183</td>\n",
       "      <td>26.953261</td>\n",
       "    </tr>\n",
       "    <tr>\n",
       "      <th>2</th>\n",
       "      <td>vyE1P</td>\n",
       "      <td>6.263187</td>\n",
       "      <td>-5.948386</td>\n",
       "      <td>5.001160</td>\n",
       "      <td>134.766305</td>\n",
       "    </tr>\n",
       "    <tr>\n",
       "      <th>3</th>\n",
       "      <td>KcrkZ</td>\n",
       "      <td>-13.081196</td>\n",
       "      <td>-11.506057</td>\n",
       "      <td>4.999415</td>\n",
       "      <td>137.945408</td>\n",
       "    </tr>\n",
       "    <tr>\n",
       "      <th>4</th>\n",
       "      <td>AHL4O</td>\n",
       "      <td>12.702195</td>\n",
       "      <td>-8.147433</td>\n",
       "      <td>5.004363</td>\n",
       "      <td>134.766305</td>\n",
       "    </tr>\n",
       "  </tbody>\n",
       "</table>\n",
       "</div>"
      ],
      "text/plain": [
       "      id         f0         f1        f2     product\n",
       "0  kBEdx -15.001348  -8.276000 -0.005876    3.179103\n",
       "1  62mP7  14.272088  -3.475083  0.999183   26.953261\n",
       "2  vyE1P   6.263187  -5.948386  5.001160  134.766305\n",
       "3  KcrkZ -13.081196 -11.506057  4.999415  137.945408\n",
       "4  AHL4O  12.702195  -8.147433  5.004363  134.766305"
      ]
     },
     "metadata": {},
     "output_type": "display_data"
    },
    {
     "name": "stdout",
     "output_type": "stream",
     "text": [
      "<class 'pandas.core.frame.DataFrame'>\n",
      "RangeIndex: 100000 entries, 0 to 99999\n",
      "Data columns (total 5 columns):\n",
      " #   Column   Non-Null Count   Dtype  \n",
      "---  ------   --------------   -----  \n",
      " 0   id       100000 non-null  object \n",
      " 1   f0       100000 non-null  float64\n",
      " 2   f1       100000 non-null  float64\n",
      " 3   f2       100000 non-null  float64\n",
      " 4   product  100000 non-null  float64\n",
      "dtypes: float64(4), object(1)\n",
      "memory usage: 3.8+ MB\n"
     ]
    },
    {
     "data": {
      "text/plain": [
       "None"
      ]
     },
     "metadata": {},
     "output_type": "display_data"
    },
    {
     "name": "stdout",
     "output_type": "stream",
     "text": [
      "Количество дубликатов: 0\n"
     ]
    },
    {
     "data": {
      "text/html": [
       "<div>\n",
       "<style scoped>\n",
       "    .dataframe tbody tr th:only-of-type {\n",
       "        vertical-align: middle;\n",
       "    }\n",
       "\n",
       "    .dataframe tbody tr th {\n",
       "        vertical-align: top;\n",
       "    }\n",
       "\n",
       "    .dataframe thead th {\n",
       "        text-align: right;\n",
       "    }\n",
       "</style>\n",
       "<table border=\"1\" class=\"dataframe\">\n",
       "  <thead>\n",
       "    <tr style=\"text-align: right;\">\n",
       "      <th></th>\n",
       "      <th>id</th>\n",
       "      <th>f0</th>\n",
       "      <th>f1</th>\n",
       "      <th>f2</th>\n",
       "      <th>product</th>\n",
       "    </tr>\n",
       "  </thead>\n",
       "  <tbody>\n",
       "    <tr>\n",
       "      <th>5849</th>\n",
       "      <td>5ltQ6</td>\n",
       "      <td>-3.435401</td>\n",
       "      <td>-12.296043</td>\n",
       "      <td>1.999796</td>\n",
       "      <td>57.085625</td>\n",
       "    </tr>\n",
       "    <tr>\n",
       "      <th>84461</th>\n",
       "      <td>5ltQ6</td>\n",
       "      <td>18.213839</td>\n",
       "      <td>2.191999</td>\n",
       "      <td>3.993869</td>\n",
       "      <td>107.813044</td>\n",
       "    </tr>\n",
       "    <tr>\n",
       "      <th>1305</th>\n",
       "      <td>LHZR0</td>\n",
       "      <td>11.170835</td>\n",
       "      <td>-1.945066</td>\n",
       "      <td>3.002872</td>\n",
       "      <td>80.859783</td>\n",
       "    </tr>\n",
       "    <tr>\n",
       "      <th>41906</th>\n",
       "      <td>LHZR0</td>\n",
       "      <td>-8.989672</td>\n",
       "      <td>-4.286607</td>\n",
       "      <td>2.009139</td>\n",
       "      <td>57.085625</td>\n",
       "    </tr>\n",
       "    <tr>\n",
       "      <th>2721</th>\n",
       "      <td>bfPNe</td>\n",
       "      <td>-9.494442</td>\n",
       "      <td>-5.463692</td>\n",
       "      <td>4.006042</td>\n",
       "      <td>110.992147</td>\n",
       "    </tr>\n",
       "    <tr>\n",
       "      <th>82178</th>\n",
       "      <td>bfPNe</td>\n",
       "      <td>-6.202799</td>\n",
       "      <td>-4.820045</td>\n",
       "      <td>2.995107</td>\n",
       "      <td>84.038886</td>\n",
       "    </tr>\n",
       "    <tr>\n",
       "      <th>47591</th>\n",
       "      <td>wt4Uk</td>\n",
       "      <td>-9.091098</td>\n",
       "      <td>-8.109279</td>\n",
       "      <td>-0.002314</td>\n",
       "      <td>3.179103</td>\n",
       "    </tr>\n",
       "    <tr>\n",
       "      <th>82873</th>\n",
       "      <td>wt4Uk</td>\n",
       "      <td>10.259972</td>\n",
       "      <td>-9.376355</td>\n",
       "      <td>4.994297</td>\n",
       "      <td>134.766305</td>\n",
       "    </tr>\n",
       "  </tbody>\n",
       "</table>\n",
       "</div>"
      ],
      "text/plain": [
       "          id         f0         f1        f2     product\n",
       "5849   5ltQ6  -3.435401 -12.296043  1.999796   57.085625\n",
       "84461  5ltQ6  18.213839   2.191999  3.993869  107.813044\n",
       "1305   LHZR0  11.170835  -1.945066  3.002872   80.859783\n",
       "41906  LHZR0  -8.989672  -4.286607  2.009139   57.085625\n",
       "2721   bfPNe  -9.494442  -5.463692  4.006042  110.992147\n",
       "82178  bfPNe  -6.202799  -4.820045  2.995107   84.038886\n",
       "47591  wt4Uk  -9.091098  -8.109279 -0.002314    3.179103\n",
       "82873  wt4Uk  10.259972  -9.376355  4.994297  134.766305"
      ]
     },
     "metadata": {},
     "output_type": "display_data"
    }
   ],
   "source": [
    "df1=pred('/datasets/geo_data_1.csv')"
   ]
  },
  {
   "cell_type": "code",
   "execution_count": 11,
   "metadata": {},
   "outputs": [
    {
     "name": "stdout",
     "output_type": "stream",
     "text": [
      "Одной скважине соответствуют разные значения запасов в скважине - Таких записей  8\n"
     ]
    },
    {
     "data": {
      "text/html": [
       "<div>\n",
       "<style scoped>\n",
       "    .dataframe tbody tr th:only-of-type {\n",
       "        vertical-align: middle;\n",
       "    }\n",
       "\n",
       "    .dataframe tbody tr th {\n",
       "        vertical-align: top;\n",
       "    }\n",
       "\n",
       "    .dataframe thead th {\n",
       "        text-align: right;\n",
       "    }\n",
       "</style>\n",
       "<table border=\"1\" class=\"dataframe\">\n",
       "  <thead>\n",
       "    <tr style=\"text-align: right;\">\n",
       "      <th></th>\n",
       "      <th>id</th>\n",
       "      <th>f0</th>\n",
       "      <th>f1</th>\n",
       "      <th>f2</th>\n",
       "      <th>product</th>\n",
       "    </tr>\n",
       "  </thead>\n",
       "  <tbody>\n",
       "    <tr>\n",
       "      <th>5849</th>\n",
       "      <td>5ltQ6</td>\n",
       "      <td>-3.435401</td>\n",
       "      <td>-12.296043</td>\n",
       "      <td>1.999796</td>\n",
       "      <td>57.085625</td>\n",
       "    </tr>\n",
       "    <tr>\n",
       "      <th>84461</th>\n",
       "      <td>5ltQ6_1</td>\n",
       "      <td>18.213839</td>\n",
       "      <td>2.191999</td>\n",
       "      <td>3.993869</td>\n",
       "      <td>107.813044</td>\n",
       "    </tr>\n",
       "    <tr>\n",
       "      <th>1305</th>\n",
       "      <td>LHZR0</td>\n",
       "      <td>11.170835</td>\n",
       "      <td>-1.945066</td>\n",
       "      <td>3.002872</td>\n",
       "      <td>80.859783</td>\n",
       "    </tr>\n",
       "    <tr>\n",
       "      <th>41906</th>\n",
       "      <td>LHZR0_1</td>\n",
       "      <td>-8.989672</td>\n",
       "      <td>-4.286607</td>\n",
       "      <td>2.009139</td>\n",
       "      <td>57.085625</td>\n",
       "    </tr>\n",
       "    <tr>\n",
       "      <th>2721</th>\n",
       "      <td>bfPNe</td>\n",
       "      <td>-9.494442</td>\n",
       "      <td>-5.463692</td>\n",
       "      <td>4.006042</td>\n",
       "      <td>110.992147</td>\n",
       "    </tr>\n",
       "  </tbody>\n",
       "</table>\n",
       "</div>"
      ],
      "text/plain": [
       "            id         f0         f1        f2     product\n",
       "5849     5ltQ6  -3.435401 -12.296043  1.999796   57.085625\n",
       "84461  5ltQ6_1  18.213839   2.191999  3.993869  107.813044\n",
       "1305     LHZR0  11.170835  -1.945066  3.002872   80.859783\n",
       "41906  LHZR0_1  -8.989672  -4.286607  2.009139   57.085625\n",
       "2721     bfPNe  -9.494442  -5.463692  4.006042  110.992147"
      ]
     },
     "metadata": {},
     "output_type": "display_data"
    }
   ],
   "source": [
    "df1=suffix(df1)"
   ]
  },
  {
   "cell_type": "code",
   "execution_count": 12,
   "metadata": {},
   "outputs": [
    {
     "data": {
      "text/html": [
       "<div>\n",
       "<style scoped>\n",
       "    .dataframe tbody tr th:only-of-type {\n",
       "        vertical-align: middle;\n",
       "    }\n",
       "\n",
       "    .dataframe tbody tr th {\n",
       "        vertical-align: top;\n",
       "    }\n",
       "\n",
       "    .dataframe thead th {\n",
       "        text-align: right;\n",
       "    }\n",
       "</style>\n",
       "<table border=\"1\" class=\"dataframe\">\n",
       "  <thead>\n",
       "    <tr style=\"text-align: right;\">\n",
       "      <th></th>\n",
       "      <th>id</th>\n",
       "      <th>f0</th>\n",
       "      <th>f1</th>\n",
       "      <th>f2</th>\n",
       "      <th>product</th>\n",
       "    </tr>\n",
       "  </thead>\n",
       "  <tbody>\n",
       "    <tr>\n",
       "      <th>0</th>\n",
       "      <td>fwXo0</td>\n",
       "      <td>-1.146987</td>\n",
       "      <td>0.963328</td>\n",
       "      <td>-0.828965</td>\n",
       "      <td>27.758673</td>\n",
       "    </tr>\n",
       "    <tr>\n",
       "      <th>1</th>\n",
       "      <td>WJtFt</td>\n",
       "      <td>0.262778</td>\n",
       "      <td>0.269839</td>\n",
       "      <td>-2.530187</td>\n",
       "      <td>56.069697</td>\n",
       "    </tr>\n",
       "    <tr>\n",
       "      <th>2</th>\n",
       "      <td>ovLUW</td>\n",
       "      <td>0.194587</td>\n",
       "      <td>0.289035</td>\n",
       "      <td>-5.586433</td>\n",
       "      <td>62.871910</td>\n",
       "    </tr>\n",
       "    <tr>\n",
       "      <th>3</th>\n",
       "      <td>q6cA6</td>\n",
       "      <td>2.236060</td>\n",
       "      <td>-0.553760</td>\n",
       "      <td>0.930038</td>\n",
       "      <td>114.572842</td>\n",
       "    </tr>\n",
       "    <tr>\n",
       "      <th>4</th>\n",
       "      <td>WPMUX</td>\n",
       "      <td>-0.515993</td>\n",
       "      <td>1.716266</td>\n",
       "      <td>5.899011</td>\n",
       "      <td>149.600746</td>\n",
       "    </tr>\n",
       "  </tbody>\n",
       "</table>\n",
       "</div>"
      ],
      "text/plain": [
       "      id        f0        f1        f2     product\n",
       "0  fwXo0 -1.146987  0.963328 -0.828965   27.758673\n",
       "1  WJtFt  0.262778  0.269839 -2.530187   56.069697\n",
       "2  ovLUW  0.194587  0.289035 -5.586433   62.871910\n",
       "3  q6cA6  2.236060 -0.553760  0.930038  114.572842\n",
       "4  WPMUX -0.515993  1.716266  5.899011  149.600746"
      ]
     },
     "metadata": {},
     "output_type": "display_data"
    },
    {
     "name": "stdout",
     "output_type": "stream",
     "text": [
      "<class 'pandas.core.frame.DataFrame'>\n",
      "RangeIndex: 100000 entries, 0 to 99999\n",
      "Data columns (total 5 columns):\n",
      " #   Column   Non-Null Count   Dtype  \n",
      "---  ------   --------------   -----  \n",
      " 0   id       100000 non-null  object \n",
      " 1   f0       100000 non-null  float64\n",
      " 2   f1       100000 non-null  float64\n",
      " 3   f2       100000 non-null  float64\n",
      " 4   product  100000 non-null  float64\n",
      "dtypes: float64(4), object(1)\n",
      "memory usage: 3.8+ MB\n"
     ]
    },
    {
     "data": {
      "text/plain": [
       "None"
      ]
     },
     "metadata": {},
     "output_type": "display_data"
    },
    {
     "name": "stdout",
     "output_type": "stream",
     "text": [
      "Количество дубликатов: 0\n"
     ]
    },
    {
     "data": {
      "text/html": [
       "<div>\n",
       "<style scoped>\n",
       "    .dataframe tbody tr th:only-of-type {\n",
       "        vertical-align: middle;\n",
       "    }\n",
       "\n",
       "    .dataframe tbody tr th {\n",
       "        vertical-align: top;\n",
       "    }\n",
       "\n",
       "    .dataframe thead th {\n",
       "        text-align: right;\n",
       "    }\n",
       "</style>\n",
       "<table border=\"1\" class=\"dataframe\">\n",
       "  <thead>\n",
       "    <tr style=\"text-align: right;\">\n",
       "      <th></th>\n",
       "      <th>id</th>\n",
       "      <th>f0</th>\n",
       "      <th>f1</th>\n",
       "      <th>f2</th>\n",
       "      <th>product</th>\n",
       "    </tr>\n",
       "  </thead>\n",
       "  <tbody>\n",
       "    <tr>\n",
       "      <th>45404</th>\n",
       "      <td>KUPhW</td>\n",
       "      <td>0.231846</td>\n",
       "      <td>-1.698941</td>\n",
       "      <td>4.990775</td>\n",
       "      <td>11.716299</td>\n",
       "    </tr>\n",
       "    <tr>\n",
       "      <th>55967</th>\n",
       "      <td>KUPhW</td>\n",
       "      <td>1.211150</td>\n",
       "      <td>3.176408</td>\n",
       "      <td>5.543540</td>\n",
       "      <td>132.831802</td>\n",
       "    </tr>\n",
       "    <tr>\n",
       "      <th>11449</th>\n",
       "      <td>VF7Jo</td>\n",
       "      <td>2.122656</td>\n",
       "      <td>-0.858275</td>\n",
       "      <td>5.746001</td>\n",
       "      <td>181.716817</td>\n",
       "    </tr>\n",
       "    <tr>\n",
       "      <th>49564</th>\n",
       "      <td>VF7Jo</td>\n",
       "      <td>-0.883115</td>\n",
       "      <td>0.560537</td>\n",
       "      <td>0.723601</td>\n",
       "      <td>136.233420</td>\n",
       "    </tr>\n",
       "    <tr>\n",
       "      <th>44378</th>\n",
       "      <td>Vcm5J</td>\n",
       "      <td>-1.229484</td>\n",
       "      <td>-2.439204</td>\n",
       "      <td>1.222909</td>\n",
       "      <td>137.968290</td>\n",
       "    </tr>\n",
       "    <tr>\n",
       "      <th>95090</th>\n",
       "      <td>Vcm5J</td>\n",
       "      <td>2.587702</td>\n",
       "      <td>1.986875</td>\n",
       "      <td>2.482245</td>\n",
       "      <td>92.327572</td>\n",
       "    </tr>\n",
       "    <tr>\n",
       "      <th>28039</th>\n",
       "      <td>xCHr8</td>\n",
       "      <td>1.633027</td>\n",
       "      <td>0.368135</td>\n",
       "      <td>-2.378367</td>\n",
       "      <td>6.120525</td>\n",
       "    </tr>\n",
       "    <tr>\n",
       "      <th>43233</th>\n",
       "      <td>xCHr8</td>\n",
       "      <td>-0.847066</td>\n",
       "      <td>2.101796</td>\n",
       "      <td>5.597130</td>\n",
       "      <td>184.388641</td>\n",
       "    </tr>\n",
       "  </tbody>\n",
       "</table>\n",
       "</div>"
      ],
      "text/plain": [
       "          id        f0        f1        f2     product\n",
       "45404  KUPhW  0.231846 -1.698941  4.990775   11.716299\n",
       "55967  KUPhW  1.211150  3.176408  5.543540  132.831802\n",
       "11449  VF7Jo  2.122656 -0.858275  5.746001  181.716817\n",
       "49564  VF7Jo -0.883115  0.560537  0.723601  136.233420\n",
       "44378  Vcm5J -1.229484 -2.439204  1.222909  137.968290\n",
       "95090  Vcm5J  2.587702  1.986875  2.482245   92.327572\n",
       "28039  xCHr8  1.633027  0.368135 -2.378367    6.120525\n",
       "43233  xCHr8 -0.847066  2.101796  5.597130  184.388641"
      ]
     },
     "metadata": {},
     "output_type": "display_data"
    }
   ],
   "source": [
    "df2=pred('/datasets/geo_data_2.csv')"
   ]
  },
  {
   "cell_type": "code",
   "execution_count": 13,
   "metadata": {},
   "outputs": [
    {
     "name": "stdout",
     "output_type": "stream",
     "text": [
      "Одной скважине соответствуют разные значения запасов в скважине - Таких записей  8\n"
     ]
    },
    {
     "data": {
      "text/html": [
       "<div>\n",
       "<style scoped>\n",
       "    .dataframe tbody tr th:only-of-type {\n",
       "        vertical-align: middle;\n",
       "    }\n",
       "\n",
       "    .dataframe tbody tr th {\n",
       "        vertical-align: top;\n",
       "    }\n",
       "\n",
       "    .dataframe thead th {\n",
       "        text-align: right;\n",
       "    }\n",
       "</style>\n",
       "<table border=\"1\" class=\"dataframe\">\n",
       "  <thead>\n",
       "    <tr style=\"text-align: right;\">\n",
       "      <th></th>\n",
       "      <th>id</th>\n",
       "      <th>f0</th>\n",
       "      <th>f1</th>\n",
       "      <th>f2</th>\n",
       "      <th>product</th>\n",
       "    </tr>\n",
       "  </thead>\n",
       "  <tbody>\n",
       "    <tr>\n",
       "      <th>45404</th>\n",
       "      <td>KUPhW</td>\n",
       "      <td>0.231846</td>\n",
       "      <td>-1.698941</td>\n",
       "      <td>4.990775</td>\n",
       "      <td>11.716299</td>\n",
       "    </tr>\n",
       "    <tr>\n",
       "      <th>55967</th>\n",
       "      <td>KUPhW_1</td>\n",
       "      <td>1.211150</td>\n",
       "      <td>3.176408</td>\n",
       "      <td>5.543540</td>\n",
       "      <td>132.831802</td>\n",
       "    </tr>\n",
       "    <tr>\n",
       "      <th>11449</th>\n",
       "      <td>VF7Jo</td>\n",
       "      <td>2.122656</td>\n",
       "      <td>-0.858275</td>\n",
       "      <td>5.746001</td>\n",
       "      <td>181.716817</td>\n",
       "    </tr>\n",
       "    <tr>\n",
       "      <th>49564</th>\n",
       "      <td>VF7Jo_1</td>\n",
       "      <td>-0.883115</td>\n",
       "      <td>0.560537</td>\n",
       "      <td>0.723601</td>\n",
       "      <td>136.233420</td>\n",
       "    </tr>\n",
       "    <tr>\n",
       "      <th>44378</th>\n",
       "      <td>Vcm5J</td>\n",
       "      <td>-1.229484</td>\n",
       "      <td>-2.439204</td>\n",
       "      <td>1.222909</td>\n",
       "      <td>137.968290</td>\n",
       "    </tr>\n",
       "  </tbody>\n",
       "</table>\n",
       "</div>"
      ],
      "text/plain": [
       "            id        f0        f1        f2     product\n",
       "45404    KUPhW  0.231846 -1.698941  4.990775   11.716299\n",
       "55967  KUPhW_1  1.211150  3.176408  5.543540  132.831802\n",
       "11449    VF7Jo  2.122656 -0.858275  5.746001  181.716817\n",
       "49564  VF7Jo_1 -0.883115  0.560537  0.723601  136.233420\n",
       "44378    Vcm5J -1.229484 -2.439204  1.222909  137.968290"
      ]
     },
     "metadata": {},
     "output_type": "display_data"
    }
   ],
   "source": [
    "df2=suffix(df2)"
   ]
  },
  {
   "cell_type": "code",
   "execution_count": 14,
   "metadata": {},
   "outputs": [
    {
     "data": {
      "text/plain": [
       "31"
      ]
     },
     "execution_count": 14,
     "metadata": {},
     "output_type": "execute_result"
    }
   ],
   "source": [
    "pd.concat([df0['id'],df1['id'],df2['id']]).duplicated().sum()"
   ]
  },
  {
   "cell_type": "markdown",
   "metadata": {},
   "source": [
    "31 название скважины присутствует в разных регионах. Пока не могу сказать, является ли это помехой."
   ]
  },
  {
   "cell_type": "code",
   "execution_count": 15,
   "metadata": {},
   "outputs": [
    {
     "data": {
      "image/png": "[encoded data removed]",
      "text/plain": [
       "<Figure size 1440x720 with 4 Axes>"
      ]
     },
     "metadata": {
      "needs_background": "light"
     },
     "output_type": "display_data"
    }
   ],
   "source": [
    "df0.hist(figsize=(20,10),bins=100)\n",
    "plt.show()"
   ]
  },
  {
   "cell_type": "markdown",
   "metadata": {},
   "source": [
    "f2 - нормальное распределение,\\\n",
    "f0 распределено вокруг значений -1, 0, 1, 2,\\\n",
    "f1 имеет моды на -0.4, 0.25, 0.9,\\\n",
    "объём запасов имеет нормальное распределение с сегментацией по диапазонам в 15 пунктов."
   ]
  },
  {
   "cell_type": "code",
   "execution_count": 16,
   "metadata": {},
   "outputs": [
    {
     "name": "stdout",
     "output_type": "stream",
     "text": [
      "Средний объём запасов по скважинам:  92.0\n"
     ]
    }
   ],
   "source": [
    "print('Средний объём запасов по скважинам: ',df0['product'].median().round(0))"
   ]
  },
  {
   "cell_type": "code",
   "execution_count": 17,
   "metadata": {},
   "outputs": [
    {
     "data": {
      "image/png": "[encoded data removed]",
      "text/plain": [
       "<Figure size 432x360 with 2 Axes>"
      ]
     },
     "metadata": {
      "needs_background": "light"
     },
     "output_type": "display_data"
    }
   ],
   "source": [
    "df0=heatmap(df0,df0.columns)"
   ]
  },
  {
   "cell_type": "markdown",
   "metadata": {},
   "source": [
    "Мультиколлинеарности нет."
   ]
  },
  {
   "cell_type": "code",
   "execution_count": 18,
   "metadata": {},
   "outputs": [
    {
     "data": {
      "image/png": "[encoded data removed]",
      "text/plain": [
       "<Figure size 1440x720 with 4 Axes>"
      ]
     },
     "metadata": {
      "needs_background": "light"
     },
     "output_type": "display_data"
    }
   ],
   "source": [
    "df1.hist(figsize=(20,10),bins=50)\n",
    "plt.show()"
   ]
  },
  {
   "cell_type": "markdown",
   "metadata": {},
   "source": [
    "f1 - нормально распределено,\\\n",
    "f0 - бимодальность на -6 и 10,\\\n",
    "f2 принимает значения вокруг целых чисел от 0 до 5,\\\n",
    "объём запасов распределён равномерно и принимает значения вокруг величин в 0, 30, 55, 80, 110 и 135."
   ]
  },
  {
   "cell_type": "code",
   "execution_count": 19,
   "metadata": {},
   "outputs": [
    {
     "name": "stdout",
     "output_type": "stream",
     "text": [
      "Средний объём запасов по скважинам:  57.0\n"
     ]
    }
   ],
   "source": [
    "print('Средний объём запасов по скважинам: ',df1['product'].median().round(0))"
   ]
  },
  {
   "cell_type": "code",
   "execution_count": 20,
   "metadata": {},
   "outputs": [
    {
     "data": {
      "image/png": "[encoded data removed]",
      "text/plain": [
       "<Figure size 432x360 with 2 Axes>"
      ]
     },
     "metadata": {
      "needs_background": "light"
     },
     "output_type": "display_data"
    }
   ],
   "source": [
    "df1=heatmap(df1,['f0', 'f1', 'f2'])"
   ]
  },
  {
   "cell_type": "code",
   "execution_count": 21,
   "metadata": {},
   "outputs": [
    {
     "data": {
      "image/png": "[encoded data removed]",
      "text/plain": [
       "<Figure size 1440x720 with 4 Axes>"
      ]
     },
     "metadata": {
      "needs_background": "light"
     },
     "output_type": "display_data"
    }
   ],
   "source": [
    "df2.hist(figsize=(20,10),bins=100)\n",
    "plt.show()"
   ]
  },
  {
   "cell_type": "markdown",
   "metadata": {},
   "source": [
    "f0, f1, f2  распределены нормально,\\\n",
    "oбъём запасов имеет распределение схожее с первым регионом."
   ]
  },
  {
   "cell_type": "code",
   "execution_count": 22,
   "metadata": {},
   "outputs": [
    {
     "name": "stdout",
     "output_type": "stream",
     "text": [
      "Средний объём запасов по скважинам:  95.0\n"
     ]
    }
   ],
   "source": [
    "print('Средний объём запасов по скважинам: ',df2['product'].median().round(0))"
   ]
  },
  {
   "cell_type": "code",
   "execution_count": 23,
   "metadata": {},
   "outputs": [
    {
     "data": {
      "image/png": "[encoded data removed]",
      "text/plain": [
       "<Figure size 432x360 with 2 Axes>"
      ]
     },
     "metadata": {
      "needs_background": "light"
     },
     "output_type": "display_data"
    }
   ],
   "source": [
    "df2=heatmap(df2,df2.columns)"
   ]
  },
  {
   "cell_type": "markdown",
   "metadata": {},
   "source": [
    "### Вывод"
   ]
  },
  {
   "cell_type": "markdown",
   "metadata": {},
   "source": [
    "- Одной скважине соответствуют разные значения запасов в скважине - Таких записей 36.\n",
    "- 31 название скважины присутствует в разных регионах.\n",
    "- Полных дубликатов и пропусков нет.\n",
    "- В первом регионе: f2 распределено нормально, f0 распределено вокруг значений -1, 0, 1, 2, f1 имеет моды на -0.4, 0.25, 0.9, объём запасов имеет нормальное распределение с сегментацией по диапазонам в 15 пунктов.\n",
    "- Во втором регионе: f1 - нормально распределено, f0 - бимодальность на -6 и 10, f2 принимает значения вокруг целых чисел от 0 до 5, объём запасов распределён равномерно и принимает значения вокруг величин в 0, 30, 55, 80, 110 и 135.\n",
    "- В третьем регионе: f0, f1, f2 распределены нормально, oбъём запасов имеет распределение схожее с первым регионом.\n",
    "- Средний объём запасов по скважинам в первом регионе - 92, втором - 57, третьем -95."
   ]
  },
  {
   "cell_type": "markdown",
   "metadata": {},
   "source": [
    "## Обучение и проверка модели"
   ]
  },
  {
   "cell_type": "code",
   "execution_count": 24,
   "metadata": {},
   "outputs": [
    {
     "name": "stdout",
     "output_type": "stream",
     "text": [
      "средний запас предсказанного сырья:  93.0\n",
      "RMSE:  38.0\n"
     ]
    }
   ],
   "source": [
    "model0=regression(df0)"
   ]
  },
  {
   "cell_type": "code",
   "execution_count": 25,
   "metadata": {},
   "outputs": [
    {
     "name": "stdout",
     "output_type": "stream",
     "text": [
      "средний запас предсказанного сырья:  58.0\n",
      "RMSE:  1.0\n"
     ]
    }
   ],
   "source": [
    "model1=regression(df1)"
   ]
  },
  {
   "cell_type": "code",
   "execution_count": 26,
   "metadata": {},
   "outputs": [
    {
     "name": "stdout",
     "output_type": "stream",
     "text": [
      "средний запас предсказанного сырья:  95.0\n",
      "RMSE:  40.0\n"
     ]
    }
   ],
   "source": [
    "model2=regression(df2)"
   ]
  },
  {
   "cell_type": "markdown",
   "metadata": {},
   "source": [
    "### Вывод"
   ]
  },
  {
   "cell_type": "markdown",
   "metadata": {},
   "source": [
    "<div class=\"alert alert-info\">\n",
    "Худшие показатели среднего запаса у второго региона, но наименьшая величина ошибки. По такой картине нельзя дать точные предсказания, какой регион лучше. Фактичеки средние величины принимают находятся в таких диапазонах: 1 - 55-131, 2 - 57-59, 3 - 55-135."
   ]
  },
  {
   "cell_type": "markdown",
   "metadata": {},
   "source": [
    "## Подготовка к расчёту прибыли"
   ]
  },
  {
   "cell_type": "code",
   "execution_count": 27,
   "metadata": {},
   "outputs": [],
   "source": [
    "quantity=500\n",
    "best_quantity=200\n",
    "budget_th=10**7\n",
    "unit_price=0.45\n",
    "item_price=450\n",
    "a=0.025"
   ]
  },
  {
   "cell_type": "markdown",
   "metadata": {},
   "source": [
    "достаточный объём сырья для безубыточной разработки новой скважины"
   ]
  },
  {
   "cell_type": "code",
   "execution_count": 28,
   "metadata": {},
   "outputs": [
    {
     "data": {
      "text/plain": [
       "111.11111111111111"
      ]
     },
     "execution_count": 28,
     "metadata": {},
     "output_type": "execute_result"
    }
   ],
   "source": [
    "budget_th/item_price/best_quantity"
   ]
  },
  {
   "cell_type": "markdown",
   "metadata": {},
   "source": [
    "Требуемый объём сырья на скважину больше среднего запаса по скважинам в любом регионе."
   ]
  },
  {
   "cell_type": "code",
   "execution_count": 29,
   "metadata": {},
   "outputs": [
    {
     "data": {
      "text/plain": [
       "0.14414414414414414"
      ]
     },
     "execution_count": 29,
     "metadata": {},
     "output_type": "execute_result"
    }
   ],
   "source": [
    "(111-95)/111"
   ]
  },
  {
   "cell_type": "markdown",
   "metadata": {},
   "source": [
    "Для соразмерности выделяемому бюджету нам требуется 200 скважин с запасами не меньше 111 тыс. баррелей.\\\n",
    "Среднее количество запасов в регионах по 100 тыс. скважин меньше этого значения не менее, чем на 14%."
   ]
  },
  {
   "cell_type": "markdown",
   "metadata": {},
   "source": [
    "## Расчёт прибыли и рисков "
   ]
  },
  {
   "cell_type": "code",
   "execution_count": 30,
   "metadata": {},
   "outputs": [],
   "source": [
    "def income(df,model):\n",
    "    df['predict']=model.predict(df.drop('product',axis=1))\n",
    "    return (df.sort_values('predict',ascending=False).reset_index()\n",
    "            .loc[:best_quantity,'product'].sum()*item_price).round(0)"
   ]
  },
  {
   "cell_type": "code",
   "execution_count": 31,
   "metadata": {},
   "outputs": [
    {
     "name": "stdout",
     "output_type": "stream",
     "text": [
      "13.6  млрд  False\n"
     ]
    }
   ],
   "source": [
    "income_pred=income(df0,model0)\n",
    "print((income_pred/10**6).round(1),' млрд ', income_pred<budget_th)"
   ]
  },
  {
   "cell_type": "code",
   "execution_count": 32,
   "metadata": {},
   "outputs": [
    {
     "name": "stdout",
     "output_type": "stream",
     "text": [
      "12.5  млрд  False\n"
     ]
    }
   ],
   "source": [
    "income_pred=income(df1,model1)\n",
    "print((income_pred/10**6).round(1),' млрд ',  income_pred<budget_th)"
   ]
  },
  {
   "cell_type": "code",
   "execution_count": 33,
   "metadata": {},
   "outputs": [
    {
     "name": "stdout",
     "output_type": "stream",
     "text": [
      "12.7  млрд  False\n"
     ]
    }
   ],
   "source": [
    "income_pred=income(df2,model2)\n",
    "print((income_pred/10**6).round(1),' млрд ',  income_pred<budget_th)"
   ]
  },
  {
   "cell_type": "markdown",
   "metadata": {},
   "source": [
    "Во всех регионах запасы в предсказанных скважинах окупают затраты. Первый регион имеет лучший показатель."
   ]
  },
  {
   "cell_type": "code",
   "execution_count": 34,
   "metadata": {},
   "outputs": [
    {
     "name": "stdout",
     "output_type": "stream",
     "text": [
      "Средняя прибыль по региону 1                    0.46 млрд \n",
      "95%-й доверительный интервал по региону 1:    -0.0 - 0.98 млрд\n",
      "Риск убытков по региону 1                             4.0%\n",
      "\n",
      "Средняя прибыль по региону 2                    0.48 млрд \n",
      "95%-й доверительный интервал по региону 2:    0.0 - 0.88 млрд\n",
      "Риск убытков по региону 2                             0.4%\n",
      "\n",
      "Средняя прибыль по региону 3                    0.41 млрд \n",
      "95%-й доверительный интервал по региону 3:    -0.0 - 0.94 млрд\n",
      "Риск убытков по региону 3                             6.0%\n",
      "\n"
     ]
    }
   ],
   "source": [
    "for df, model,region in [[df0,model0,1],[df1,model1,2],[df2,model2,3]]:\n",
    "    incomes=[]\n",
    "    for i in range(1000):\n",
    "        incomes.append(df.sample(quantity,replace=True,random_state=state)\n",
    "                       .sort_values('predict',ascending=False).reset_index()\n",
    "            .loc[:best_quantity,'product'].sum()*item_price-budget_th)\n",
    "    incomes=pd.Series(incomes)\n",
    "    print(f'Средняя прибыль по региону {region:<20} {(incomes.median()/10**6).round(2)} млрд ')\n",
    "    print(f'95%-й доверительный интервал по региону {region}:\\\n",
    "    {(incomes.quantile(.025)/10**6).round(0)} - {(incomes.quantile(.975)/10**6).round(2)} млрд')\n",
    "    print(f'Риск убытков по региону {region:<20}\\\n",
    "          {(incomes[incomes<0].count()/10).round(1)}%\\n')"
   ]
  },
  {
   "cell_type": "markdown",
   "metadata": {},
   "source": [
    "Меньше 2.5% вероятность убытков только во втором регионе. Расчётная прибыль с регионов одинакова."
   ]
  },
  {
   "cell_type": "markdown",
   "metadata": {},
   "source": [
    "### Вывод"
   ]
  },
  {
   "cell_type": "markdown",
   "metadata": {},
   "source": [
    "Рекомендуется к разарботке второй регион. Ожидаемая прибыль - 10-10.9 млрд, риск меньше 0.4%.\n",
    "    \n",
    "В id скважин присутствует незначительное число дублей."
   ]
  }
 ],
 "metadata": {
  "ExecuteTimeLog": [
   {
    "duration": 47,
    "start_time": "2024-03-30T07:43:14.040Z"
   },
   {
    "duration": 469,
    "start_time": "2024-03-30T07:43:20.354Z"
   },
   {
    "duration": 246,
    "start_time": "2024-03-30T07:43:33.089Z"
   },
   {
    "duration": 15,
    "start_time": "2024-03-30T07:44:20.213Z"
   },
   {
    "duration": 46,
    "start_time": "2024-03-30T07:45:35.211Z"
   },
   {
    "duration": 18,
    "start_time": "2024-03-30T07:46:14.156Z"
   },
   {
    "duration": 15,
    "start_time": "2024-03-30T07:47:32.372Z"
   },
   {
    "duration": 145,
    "start_time": "2024-03-30T07:48:47.947Z"
   },
   {
    "duration": 8,
    "start_time": "2024-03-30T07:58:25.211Z"
   },
   {
    "duration": 4,
    "start_time": "2024-03-30T09:00:58.886Z"
   },
   {
    "duration": 47,
    "start_time": "2024-03-30T09:01:14.193Z"
   },
   {
    "duration": 415,
    "start_time": "2024-03-30T09:01:34.753Z"
   },
   {
    "duration": 167,
    "start_time": "2024-03-30T09:01:36.777Z"
   },
   {
    "duration": 15,
    "start_time": "2024-03-30T09:01:45.108Z"
   },
   {
    "duration": 55,
    "start_time": "2024-03-30T09:01:48.592Z"
   },
   {
    "duration": 18,
    "start_time": "2024-03-30T09:01:53.071Z"
   },
   {
    "duration": 47,
    "start_time": "2024-03-30T09:02:48.629Z"
   },
   {
    "duration": 23,
    "start_time": "2024-03-30T09:03:13.657Z"
   },
   {
    "duration": 20,
    "start_time": "2024-03-30T09:11:47.551Z"
   },
   {
    "duration": 32,
    "start_time": "2024-03-30T09:13:14.591Z"
   },
   {
    "duration": 33,
    "start_time": "2024-03-30T09:13:48.183Z"
   },
   {
    "duration": 5,
    "start_time": "2024-03-30T09:22:24.889Z"
   },
   {
    "duration": 273,
    "start_time": "2024-03-30T09:22:47.096Z"
   },
   {
    "duration": 10,
    "start_time": "2024-03-30T09:34:04.336Z"
   },
   {
    "duration": 24,
    "start_time": "2024-03-30T09:34:10.374Z"
   },
   {
    "duration": 70,
    "start_time": "2024-03-30T11:14:44.790Z"
   },
   {
    "duration": 72,
    "start_time": "2024-03-30T11:14:59.812Z"
   },
   {
    "duration": 76,
    "start_time": "2024-03-30T11:15:23.751Z"
   },
   {
    "duration": 253,
    "start_time": "2024-03-30T11:15:31.395Z"
   },
   {
    "duration": 239,
    "start_time": "2024-03-30T11:16:22.512Z"
   },
   {
    "duration": 26,
    "start_time": "2024-03-30T11:17:15.419Z"
   },
   {
    "duration": 8,
    "start_time": "2024-03-30T11:17:27.330Z"
   },
   {
    "duration": 22,
    "start_time": "2024-03-30T11:17:51.759Z"
   },
   {
    "duration": 287,
    "start_time": "2024-03-30T11:20:01.264Z"
   },
   {
    "duration": 3,
    "start_time": "2024-03-30T11:20:17.485Z"
   },
   {
    "duration": 9,
    "start_time": "2024-03-30T11:20:17.490Z"
   },
   {
    "duration": 265,
    "start_time": "2024-03-30T11:20:17.500Z"
   },
   {
    "duration": 23,
    "start_time": "2024-03-30T11:20:17.766Z"
   },
   {
    "duration": 46,
    "start_time": "2024-03-30T11:20:17.791Z"
   },
   {
    "duration": 35,
    "start_time": "2024-03-30T11:20:17.839Z"
   },
   {
    "duration": 33,
    "start_time": "2024-03-30T11:20:44.092Z"
   },
   {
    "duration": 63,
    "start_time": "2024-03-30T11:21:49.836Z"
   },
   {
    "duration": 31,
    "start_time": "2024-03-30T11:22:13.203Z"
   },
   {
    "duration": 30,
    "start_time": "2024-03-30T11:22:14.502Z"
   },
   {
    "duration": 32,
    "start_time": "2024-03-30T11:22:57.635Z"
   },
   {
    "duration": 30,
    "start_time": "2024-03-30T11:22:58.786Z"
   },
   {
    "duration": 32,
    "start_time": "2024-03-30T11:23:10.634Z"
   },
   {
    "duration": 30,
    "start_time": "2024-03-30T11:23:11.661Z"
   },
   {
    "duration": 72,
    "start_time": "2024-03-30T11:23:19.997Z"
   },
   {
    "duration": 32,
    "start_time": "2024-03-30T11:23:21.584Z"
   },
   {
    "duration": 31,
    "start_time": "2024-03-30T11:23:35.625Z"
   },
   {
    "duration": 31,
    "start_time": "2024-03-30T11:23:36.686Z"
   },
   {
    "duration": 23,
    "start_time": "2024-03-30T11:24:00.969Z"
   },
   {
    "duration": 34,
    "start_time": "2024-03-30T11:24:19.337Z"
   },
   {
    "duration": 30,
    "start_time": "2024-03-30T11:24:20.293Z"
   },
   {
    "duration": 239,
    "start_time": "2024-03-30T11:27:32.033Z"
   },
   {
    "duration": 32,
    "start_time": "2024-03-30T11:28:05.200Z"
   },
   {
    "duration": 26,
    "start_time": "2024-03-30T11:28:07.746Z"
   },
   {
    "duration": 20,
    "start_time": "2024-03-30T11:28:32.397Z"
   },
   {
    "duration": 3,
    "start_time": "2024-03-30T11:34:46.806Z"
   },
   {
    "duration": 13,
    "start_time": "2024-03-30T11:34:46.811Z"
   },
   {
    "duration": 294,
    "start_time": "2024-03-30T11:34:46.825Z"
   },
   {
    "duration": 40,
    "start_time": "2024-03-30T11:34:47.121Z"
   },
   {
    "duration": 44,
    "start_time": "2024-03-30T11:34:47.165Z"
   },
   {
    "duration": 26,
    "start_time": "2024-03-30T11:34:47.211Z"
   },
   {
    "duration": 46,
    "start_time": "2024-03-30T11:34:47.239Z"
   },
   {
    "duration": 35,
    "start_time": "2024-03-30T11:34:47.288Z"
   },
   {
    "duration": 16,
    "start_time": "2024-03-30T11:35:23.190Z"
   },
   {
    "duration": 18,
    "start_time": "2024-03-30T11:35:47.626Z"
   },
   {
    "duration": 24,
    "start_time": "2024-03-30T11:35:48.910Z"
   },
   {
    "duration": 14,
    "start_time": "2024-03-30T11:35:50.190Z"
   },
   {
    "duration": 3,
    "start_time": "2024-03-30T11:35:55.567Z"
   },
   {
    "duration": 10,
    "start_time": "2024-03-30T11:35:55.572Z"
   },
   {
    "duration": 246,
    "start_time": "2024-03-30T11:35:55.584Z"
   },
   {
    "duration": 29,
    "start_time": "2024-03-30T11:35:55.832Z"
   },
   {
    "duration": 30,
    "start_time": "2024-03-30T11:35:55.862Z"
   },
   {
    "duration": 20,
    "start_time": "2024-03-30T11:35:55.893Z"
   },
   {
    "duration": 45,
    "start_time": "2024-03-30T11:35:55.914Z"
   },
   {
    "duration": 15,
    "start_time": "2024-03-30T11:35:55.961Z"
   },
   {
    "duration": 2,
    "start_time": "2024-03-30T11:36:35.266Z"
   },
   {
    "duration": 16,
    "start_time": "2024-03-30T11:36:35.270Z"
   },
   {
    "duration": 248,
    "start_time": "2024-03-30T11:36:35.288Z"
   },
   {
    "duration": 32,
    "start_time": "2024-03-30T11:36:35.537Z"
   },
   {
    "duration": 36,
    "start_time": "2024-03-30T11:36:35.571Z"
   },
   {
    "duration": 33,
    "start_time": "2024-03-30T11:36:35.609Z"
   },
   {
    "duration": 29,
    "start_time": "2024-03-30T11:36:35.644Z"
   },
   {
    "duration": 15,
    "start_time": "2024-03-30T11:36:35.675Z"
   },
   {
    "duration": 3,
    "start_time": "2024-03-30T11:37:13.649Z"
   },
   {
    "duration": 24,
    "start_time": "2024-03-30T11:37:13.654Z"
   },
   {
    "duration": 289,
    "start_time": "2024-03-30T11:37:13.679Z"
   },
   {
    "duration": 21,
    "start_time": "2024-03-30T11:37:13.970Z"
   },
   {
    "duration": 59,
    "start_time": "2024-03-30T11:37:13.994Z"
   },
   {
    "duration": 40,
    "start_time": "2024-03-30T11:37:14.059Z"
   },
   {
    "duration": 47,
    "start_time": "2024-03-30T11:37:14.101Z"
   },
   {
    "duration": 45,
    "start_time": "2024-03-30T11:37:14.150Z"
   },
   {
    "duration": 3,
    "start_time": "2024-03-30T11:37:34.375Z"
   },
   {
    "duration": 5,
    "start_time": "2024-03-30T11:37:34.380Z"
   },
   {
    "duration": 272,
    "start_time": "2024-03-30T11:37:34.387Z"
   },
   {
    "duration": 21,
    "start_time": "2024-03-30T11:37:34.660Z"
   },
   {
    "duration": 32,
    "start_time": "2024-03-30T11:37:34.683Z"
   },
   {
    "duration": 43,
    "start_time": "2024-03-30T11:37:34.717Z"
   },
   {
    "duration": 24,
    "start_time": "2024-03-30T11:37:34.762Z"
   },
   {
    "duration": 27,
    "start_time": "2024-03-30T11:37:34.788Z"
   },
   {
    "duration": 8,
    "start_time": "2024-03-30T11:39:02.005Z"
   },
   {
    "duration": 397,
    "start_time": "2024-03-30T11:39:46.620Z"
   },
   {
    "duration": 4,
    "start_time": "2024-03-30T11:39:47.019Z"
   },
   {
    "duration": 227,
    "start_time": "2024-03-30T11:39:47.025Z"
   },
   {
    "duration": 0,
    "start_time": "2024-03-30T11:39:47.259Z"
   },
   {
    "duration": 0,
    "start_time": "2024-03-30T11:39:47.261Z"
   },
   {
    "duration": 0,
    "start_time": "2024-03-30T11:39:47.263Z"
   },
   {
    "duration": 0,
    "start_time": "2024-03-30T11:39:47.264Z"
   },
   {
    "duration": 0,
    "start_time": "2024-03-30T11:39:47.266Z"
   },
   {
    "duration": 3,
    "start_time": "2024-03-30T11:41:20.937Z"
   },
   {
    "duration": 2,
    "start_time": "2024-03-30T11:41:24.476Z"
   },
   {
    "duration": 14,
    "start_time": "2024-03-30T11:41:24.480Z"
   },
   {
    "duration": 271,
    "start_time": "2024-03-30T11:41:24.495Z"
   },
   {
    "duration": 20,
    "start_time": "2024-03-30T11:41:24.768Z"
   },
   {
    "duration": 29,
    "start_time": "2024-03-30T11:41:24.790Z"
   },
   {
    "duration": 38,
    "start_time": "2024-03-30T11:41:24.821Z"
   },
   {
    "duration": 20,
    "start_time": "2024-03-30T11:41:24.860Z"
   },
   {
    "duration": 15,
    "start_time": "2024-03-30T11:41:24.881Z"
   },
   {
    "duration": 317,
    "start_time": "2024-03-30T11:43:21.517Z"
   },
   {
    "duration": 4,
    "start_time": "2024-03-30T11:52:19.182Z"
   },
   {
    "duration": 429,
    "start_time": "2024-03-30T11:53:05.338Z"
   },
   {
    "duration": 4,
    "start_time": "2024-03-30T11:53:05.769Z"
   },
   {
    "duration": 38,
    "start_time": "2024-03-30T11:53:05.774Z"
   },
   {
    "duration": 255,
    "start_time": "2024-03-30T11:53:05.814Z"
   },
   {
    "duration": 57,
    "start_time": "2024-03-30T11:53:06.071Z"
   },
   {
    "duration": 32,
    "start_time": "2024-03-30T11:53:06.129Z"
   },
   {
    "duration": 4,
    "start_time": "2024-03-30T11:53:43.758Z"
   },
   {
    "duration": 416,
    "start_time": "2024-03-30T11:54:08.523Z"
   },
   {
    "duration": 4,
    "start_time": "2024-03-30T11:54:08.941Z"
   },
   {
    "duration": 5,
    "start_time": "2024-03-30T11:54:08.958Z"
   },
   {
    "duration": 267,
    "start_time": "2024-03-30T11:54:08.965Z"
   },
   {
    "duration": 71,
    "start_time": "2024-03-30T11:54:09.234Z"
   },
   {
    "duration": 17,
    "start_time": "2024-03-30T11:54:09.307Z"
   },
   {
    "duration": 257,
    "start_time": "2024-03-30T11:55:26.888Z"
   },
   {
    "duration": 80,
    "start_time": "2024-03-30T11:56:03.386Z"
   },
   {
    "duration": 323,
    "start_time": "2024-03-30T11:56:38.893Z"
   },
   {
    "duration": 61,
    "start_time": "2024-03-30T11:57:07.507Z"
   },
   {
    "duration": 50,
    "start_time": "2024-03-30T11:59:15.796Z"
   },
   {
    "duration": 41,
    "start_time": "2024-03-30T12:08:17.573Z"
   },
   {
    "duration": 853,
    "start_time": "2024-03-30T12:20:41.731Z"
   },
   {
    "duration": 3,
    "start_time": "2024-03-30T12:21:18.044Z"
   },
   {
    "duration": 355,
    "start_time": "2024-03-30T12:21:34.879Z"
   },
   {
    "duration": 550,
    "start_time": "2024-03-30T12:22:20.978Z"
   },
   {
    "duration": 1265,
    "start_time": "2024-03-30T12:23:25.560Z"
   },
   {
    "duration": 1002,
    "start_time": "2024-03-30T12:33:15.458Z"
   },
   {
    "duration": 1022,
    "start_time": "2024-03-30T12:33:27.525Z"
   },
   {
    "duration": 1009,
    "start_time": "2024-03-30T12:39:59.269Z"
   },
   {
    "duration": 2,
    "start_time": "2024-03-30T12:59:24.225Z"
   },
   {
    "duration": 358,
    "start_time": "2024-03-30T16:55:54.677Z"
   },
   {
    "duration": 363,
    "start_time": "2024-03-30T16:55:55.036Z"
   },
   {
    "duration": 716,
    "start_time": "2024-03-30T16:55:55.401Z"
   },
   {
    "duration": 4,
    "start_time": "2024-03-30T16:55:56.119Z"
   },
   {
    "duration": 5,
    "start_time": "2024-03-30T16:55:56.124Z"
   },
   {
    "duration": 321,
    "start_time": "2024-03-30T16:55:56.131Z"
   },
   {
    "duration": 55,
    "start_time": "2024-03-30T16:55:56.453Z"
   },
   {
    "duration": 274,
    "start_time": "2024-03-30T16:55:56.510Z"
   },
   {
    "duration": 64,
    "start_time": "2024-03-30T16:55:56.786Z"
   },
   {
    "duration": 275,
    "start_time": "2024-03-30T16:55:56.852Z"
   },
   {
    "duration": 67,
    "start_time": "2024-03-30T16:55:57.129Z"
   },
   {
    "duration": 85,
    "start_time": "2024-03-30T16:55:57.198Z"
   },
   {
    "duration": 1039,
    "start_time": "2024-03-30T16:55:57.285Z"
   },
   {
    "duration": 672,
    "start_time": "2024-03-30T16:55:58.325Z"
   },
   {
    "duration": 872,
    "start_time": "2024-03-30T16:55:58.998Z"
   },
   {
    "duration": 3,
    "start_time": "2024-03-30T17:00:55.065Z"
   },
   {
    "duration": 107,
    "start_time": "2024-03-30T17:02:02.807Z"
   },
   {
    "duration": 2,
    "start_time": "2024-03-30T17:04:41.354Z"
   },
   {
    "duration": 22,
    "start_time": "2024-03-30T17:10:26.546Z"
   },
   {
    "duration": 17,
    "start_time": "2024-03-30T17:11:45.819Z"
   },
   {
    "duration": 17,
    "start_time": "2024-03-30T17:15:18.051Z"
   },
   {
    "duration": 9,
    "start_time": "2024-03-30T17:24:04.348Z"
   },
   {
    "duration": 2,
    "start_time": "2024-03-30T17:24:30.396Z"
   },
   {
    "duration": 3,
    "start_time": "2024-03-30T17:24:31.169Z"
   },
   {
    "duration": 3,
    "start_time": "2024-03-30T17:26:30.370Z"
   },
   {
    "duration": 36,
    "start_time": "2024-03-30T17:27:17.812Z"
   },
   {
    "duration": 11,
    "start_time": "2024-03-30T17:29:11.137Z"
   },
   {
    "duration": 23,
    "start_time": "2024-03-30T17:30:03.943Z"
   },
   {
    "duration": 6,
    "start_time": "2024-03-30T17:30:29.908Z"
   },
   {
    "duration": 10,
    "start_time": "2024-03-30T17:30:38.949Z"
   },
   {
    "duration": 4,
    "start_time": "2024-03-30T17:30:47.947Z"
   },
   {
    "duration": 6,
    "start_time": "2024-03-30T17:31:57.236Z"
   },
   {
    "duration": 9,
    "start_time": "2024-03-30T17:32:00.313Z"
   },
   {
    "duration": 2,
    "start_time": "2024-03-30T17:32:39.966Z"
   },
   {
    "duration": 13,
    "start_time": "2024-03-30T17:32:39.970Z"
   },
   {
    "duration": 7,
    "start_time": "2024-03-30T17:32:39.984Z"
   },
   {
    "duration": 6,
    "start_time": "2024-03-30T17:32:39.992Z"
   },
   {
    "duration": 3,
    "start_time": "2024-03-30T17:32:40.000Z"
   },
   {
    "duration": 10,
    "start_time": "2024-03-30T17:32:40.005Z"
   },
   {
    "duration": 21,
    "start_time": "2024-03-30T17:32:40.017Z"
   },
   {
    "duration": 22,
    "start_time": "2024-03-30T17:32:40.039Z"
   },
   {
    "duration": 225,
    "start_time": "2024-03-30T17:32:40.062Z"
   },
   {
    "duration": 66,
    "start_time": "2024-03-30T17:32:40.288Z"
   },
   {
    "duration": 203,
    "start_time": "2024-03-30T17:32:40.357Z"
   },
   {
    "duration": 55,
    "start_time": "2024-03-30T17:32:40.561Z"
   },
   {
    "duration": 203,
    "start_time": "2024-03-30T17:32:40.618Z"
   },
   {
    "duration": 63,
    "start_time": "2024-03-30T17:32:40.822Z"
   },
   {
    "duration": 38,
    "start_time": "2024-03-30T17:32:40.886Z"
   },
   {
    "duration": 1190,
    "start_time": "2024-03-30T17:32:40.926Z"
   },
   {
    "duration": 664,
    "start_time": "2024-03-30T17:32:42.118Z"
   },
   {
    "duration": 901,
    "start_time": "2024-03-30T17:32:42.784Z"
   },
   {
    "duration": 9,
    "start_time": "2024-03-30T17:32:43.688Z"
   },
   {
    "duration": 14,
    "start_time": "2024-03-30T17:32:43.699Z"
   },
   {
    "duration": 0,
    "start_time": "2024-03-30T17:32:43.714Z"
   },
   {
    "duration": 7,
    "start_time": "2024-03-30T17:33:03.642Z"
   },
   {
    "duration": 3,
    "start_time": "2024-03-30T17:33:33.118Z"
   },
   {
    "duration": 19,
    "start_time": "2024-03-30T17:33:33.122Z"
   },
   {
    "duration": 3,
    "start_time": "2024-03-30T17:33:33.143Z"
   },
   {
    "duration": 5,
    "start_time": "2024-03-30T17:33:33.148Z"
   },
   {
    "duration": 3,
    "start_time": "2024-03-30T17:33:33.154Z"
   },
   {
    "duration": 4,
    "start_time": "2024-03-30T17:33:33.159Z"
   },
   {
    "duration": 4,
    "start_time": "2024-03-30T17:33:33.165Z"
   },
   {
    "duration": 4,
    "start_time": "2024-03-30T17:33:33.170Z"
   },
   {
    "duration": 227,
    "start_time": "2024-03-30T17:33:33.176Z"
   },
   {
    "duration": 75,
    "start_time": "2024-03-30T17:33:33.404Z"
   },
   {
    "duration": 219,
    "start_time": "2024-03-30T17:33:33.481Z"
   },
   {
    "duration": 65,
    "start_time": "2024-03-30T17:33:33.705Z"
   },
   {
    "duration": 197,
    "start_time": "2024-03-30T17:33:33.771Z"
   },
   {
    "duration": 49,
    "start_time": "2024-03-30T17:33:33.970Z"
   },
   {
    "duration": 56,
    "start_time": "2024-03-30T17:33:34.020Z"
   },
   {
    "duration": 1171,
    "start_time": "2024-03-30T17:33:34.078Z"
   },
   {
    "duration": 683,
    "start_time": "2024-03-30T17:33:35.251Z"
   },
   {
    "duration": 860,
    "start_time": "2024-03-30T17:33:35.935Z"
   },
   {
    "duration": 8,
    "start_time": "2024-03-30T17:33:38.929Z"
   },
   {
    "duration": 5,
    "start_time": "2024-03-30T17:35:12.822Z"
   },
   {
    "duration": 33,
    "start_time": "2024-03-30T17:35:15.701Z"
   },
   {
    "duration": 71,
    "start_time": "2024-03-30T17:35:18.878Z"
   },
   {
    "duration": 101,
    "start_time": "2024-03-30T17:35:41.246Z"
   },
   {
    "duration": 2,
    "start_time": "2024-03-30T17:36:45.643Z"
   },
   {
    "duration": 39,
    "start_time": "2024-03-30T17:36:58.305Z"
   },
   {
    "duration": 13,
    "start_time": "2024-03-30T17:37:30.855Z"
   },
   {
    "duration": 2,
    "start_time": "2024-03-30T18:02:09.088Z"
   },
   {
    "duration": 753,
    "start_time": "2024-03-30T18:03:00.515Z"
   },
   {
    "duration": 892,
    "start_time": "2024-03-30T18:03:42.455Z"
   },
   {
    "duration": 20,
    "start_time": "2024-03-30T18:19:07.054Z"
   },
   {
    "duration": 5,
    "start_time": "2024-03-30T18:22:26.124Z"
   },
   {
    "duration": 14,
    "start_time": "2024-03-30T18:23:16.051Z"
   },
   {
    "duration": 2,
    "start_time": "2024-03-30T18:23:23.284Z"
   },
   {
    "duration": 28,
    "start_time": "2024-03-30T18:23:23.288Z"
   },
   {
    "duration": 26,
    "start_time": "2024-03-30T18:23:23.317Z"
   },
   {
    "duration": 27,
    "start_time": "2024-03-30T18:23:23.344Z"
   },
   {
    "duration": 19,
    "start_time": "2024-03-30T18:23:23.372Z"
   },
   {
    "duration": 13,
    "start_time": "2024-03-30T18:23:23.393Z"
   },
   {
    "duration": 25,
    "start_time": "2024-03-30T18:23:23.407Z"
   },
   {
    "duration": 41,
    "start_time": "2024-03-30T18:23:23.433Z"
   },
   {
    "duration": 24,
    "start_time": "2024-03-30T18:23:23.477Z"
   },
   {
    "duration": 17,
    "start_time": "2024-03-30T18:23:23.502Z"
   },
   {
    "duration": 252,
    "start_time": "2024-03-30T18:23:23.522Z"
   },
   {
    "duration": 56,
    "start_time": "2024-03-30T18:23:23.776Z"
   },
   {
    "duration": 194,
    "start_time": "2024-03-30T18:23:23.833Z"
   },
   {
    "duration": 65,
    "start_time": "2024-03-30T18:23:24.029Z"
   },
   {
    "duration": 203,
    "start_time": "2024-03-30T18:23:24.095Z"
   },
   {
    "duration": 63,
    "start_time": "2024-03-30T18:23:24.299Z"
   },
   {
    "duration": 41,
    "start_time": "2024-03-30T18:23:24.363Z"
   },
   {
    "duration": 918,
    "start_time": "2024-03-30T18:23:24.406Z"
   },
   {
    "duration": 641,
    "start_time": "2024-03-30T18:23:25.325Z"
   },
   {
    "duration": 1268,
    "start_time": "2024-03-30T18:23:25.967Z"
   },
   {
    "duration": 114,
    "start_time": "2024-03-30T18:23:27.236Z"
   },
   {
    "duration": 83,
    "start_time": "2024-03-30T18:23:37.369Z"
   },
   {
    "duration": 126,
    "start_time": "2024-03-30T18:23:52.919Z"
   },
   {
    "duration": 56,
    "start_time": "2024-03-30T18:32:56.170Z"
   },
   {
    "duration": 12,
    "start_time": "2024-03-30T18:36:52.368Z"
   },
   {
    "duration": 3,
    "start_time": "2024-03-30T18:37:04.163Z"
   },
   {
    "duration": 3,
    "start_time": "2024-03-30T18:37:04.168Z"
   },
   {
    "duration": 4,
    "start_time": "2024-03-30T18:37:04.173Z"
   },
   {
    "duration": 4,
    "start_time": "2024-03-30T18:37:04.179Z"
   },
   {
    "duration": 4,
    "start_time": "2024-03-30T18:37:04.184Z"
   },
   {
    "duration": 12,
    "start_time": "2024-03-30T18:37:04.189Z"
   },
   {
    "duration": 11,
    "start_time": "2024-03-30T18:37:04.202Z"
   },
   {
    "duration": 4,
    "start_time": "2024-03-30T18:37:04.214Z"
   },
   {
    "duration": 4,
    "start_time": "2024-03-30T18:37:04.220Z"
   },
   {
    "duration": 6,
    "start_time": "2024-03-30T18:37:04.225Z"
   },
   {
    "duration": 6,
    "start_time": "2024-03-30T18:37:04.236Z"
   },
   {
    "duration": 5,
    "start_time": "2024-03-30T18:37:04.243Z"
   },
   {
    "duration": 251,
    "start_time": "2024-03-30T18:37:04.249Z"
   },
   {
    "duration": 65,
    "start_time": "2024-03-30T18:37:04.502Z"
   },
   {
    "duration": 202,
    "start_time": "2024-03-30T18:37:04.569Z"
   },
   {
    "duration": 49,
    "start_time": "2024-03-30T18:37:04.772Z"
   },
   {
    "duration": 197,
    "start_time": "2024-03-30T18:37:04.822Z"
   },
   {
    "duration": 71,
    "start_time": "2024-03-30T18:37:05.020Z"
   },
   {
    "duration": 53,
    "start_time": "2024-03-30T18:37:05.092Z"
   },
   {
    "duration": 921,
    "start_time": "2024-03-30T18:37:05.146Z"
   },
   {
    "duration": 16,
    "start_time": "2024-03-30T18:37:06.069Z"
   },
   {
    "duration": 0,
    "start_time": "2024-03-30T18:37:06.087Z"
   },
   {
    "duration": 0,
    "start_time": "2024-03-30T18:37:06.088Z"
   },
   {
    "duration": 0,
    "start_time": "2024-03-30T18:37:06.090Z"
   },
   {
    "duration": 0,
    "start_time": "2024-03-30T18:37:06.091Z"
   },
   {
    "duration": 0,
    "start_time": "2024-03-30T18:37:06.092Z"
   },
   {
    "duration": 1068,
    "start_time": "2024-03-30T18:38:24.766Z"
   },
   {
    "duration": 4976,
    "start_time": "2024-03-30T18:38:44.885Z"
   },
   {
    "duration": 2396,
    "start_time": "2024-03-30T18:39:19.931Z"
   },
   {
    "duration": 3,
    "start_time": "2024-03-30T18:39:22.329Z"
   },
   {
    "duration": 26,
    "start_time": "2024-03-30T18:39:22.334Z"
   },
   {
    "duration": 18,
    "start_time": "2024-03-30T18:39:22.363Z"
   },
   {
    "duration": 40,
    "start_time": "2024-03-30T18:39:22.383Z"
   },
   {
    "duration": 3,
    "start_time": "2024-03-30T18:39:22.425Z"
   },
   {
    "duration": 10,
    "start_time": "2024-03-30T18:39:22.429Z"
   },
   {
    "duration": 18,
    "start_time": "2024-03-30T18:39:22.440Z"
   },
   {
    "duration": 19,
    "start_time": "2024-03-30T18:39:22.460Z"
   },
   {
    "duration": 39,
    "start_time": "2024-03-30T18:39:22.483Z"
   },
   {
    "duration": 31,
    "start_time": "2024-03-30T18:39:22.524Z"
   },
   {
    "duration": 30,
    "start_time": "2024-03-30T18:39:22.557Z"
   },
   {
    "duration": 31,
    "start_time": "2024-03-30T18:39:22.589Z"
   },
   {
    "duration": 24,
    "start_time": "2024-03-30T18:39:22.622Z"
   },
   {
    "duration": 237,
    "start_time": "2024-03-30T18:39:22.648Z"
   },
   {
    "duration": 60,
    "start_time": "2024-03-30T18:39:22.886Z"
   },
   {
    "duration": 205,
    "start_time": "2024-03-30T18:39:22.947Z"
   },
   {
    "duration": 53,
    "start_time": "2024-03-30T18:39:23.154Z"
   },
   {
    "duration": 216,
    "start_time": "2024-03-30T18:39:23.209Z"
   },
   {
    "duration": 67,
    "start_time": "2024-03-30T18:39:23.427Z"
   },
   {
    "duration": 50,
    "start_time": "2024-03-30T18:39:23.496Z"
   },
   {
    "duration": 887,
    "start_time": "2024-03-30T18:39:23.547Z"
   },
   {
    "duration": 617,
    "start_time": "2024-03-30T18:39:24.436Z"
   },
   {
    "duration": 1119,
    "start_time": "2024-03-30T18:39:25.055Z"
   },
   {
    "duration": 925,
    "start_time": "2024-03-30T18:39:26.176Z"
   },
   {
    "duration": 249,
    "start_time": "2024-03-30T18:39:27.103Z"
   },
   {
    "duration": 107,
    "start_time": "2024-03-30T18:39:27.354Z"
   },
   {
    "duration": 0,
    "start_time": "2024-03-30T18:39:27.463Z"
   },
   {
    "duration": 34088,
    "start_time": "2024-03-30T18:41:00.933Z"
   },
   {
    "duration": 14,
    "start_time": "2024-03-30T19:08:16.741Z"
   },
   {
    "duration": 2505,
    "start_time": "2024-03-30T19:08:26.939Z"
   },
   {
    "duration": 4,
    "start_time": "2024-03-30T19:08:29.447Z"
   },
   {
    "duration": 4,
    "start_time": "2024-03-30T19:08:29.453Z"
   },
   {
    "duration": 4,
    "start_time": "2024-03-30T19:08:29.459Z"
   },
   {
    "duration": 5,
    "start_time": "2024-03-30T19:08:29.464Z"
   },
   {
    "duration": 9,
    "start_time": "2024-03-30T19:08:29.470Z"
   },
   {
    "duration": 5,
    "start_time": "2024-03-30T19:08:29.481Z"
   },
   {
    "duration": 4,
    "start_time": "2024-03-30T19:08:29.487Z"
   },
   {
    "duration": 8,
    "start_time": "2024-03-30T19:08:29.493Z"
   },
   {
    "duration": 14,
    "start_time": "2024-03-30T19:08:29.504Z"
   },
   {
    "duration": 31,
    "start_time": "2024-03-30T19:08:29.519Z"
   },
   {
    "duration": 13,
    "start_time": "2024-03-30T19:08:29.552Z"
   },
   {
    "duration": 15,
    "start_time": "2024-03-30T19:08:29.567Z"
   },
   {
    "duration": 9,
    "start_time": "2024-03-30T19:08:29.584Z"
   },
   {
    "duration": 270,
    "start_time": "2024-03-30T19:08:29.594Z"
   },
   {
    "duration": 64,
    "start_time": "2024-03-30T19:08:29.866Z"
   },
   {
    "duration": 218,
    "start_time": "2024-03-30T19:08:29.944Z"
   },
   {
    "duration": 61,
    "start_time": "2024-03-30T19:08:30.164Z"
   },
   {
    "duration": 346,
    "start_time": "2024-03-30T19:08:30.245Z"
   },
   {
    "duration": 82,
    "start_time": "2024-03-30T19:08:30.593Z"
   },
   {
    "duration": 71,
    "start_time": "2024-03-30T19:08:30.677Z"
   },
   {
    "duration": 1112,
    "start_time": "2024-03-30T19:08:30.750Z"
   },
   {
    "duration": 709,
    "start_time": "2024-03-30T19:08:31.864Z"
   },
   {
    "duration": 636,
    "start_time": "2024-03-30T19:08:32.574Z"
   },
   {
    "duration": 518,
    "start_time": "2024-03-30T19:08:33.212Z"
   },
   {
    "duration": 893,
    "start_time": "2024-03-30T19:08:33.731Z"
   },
   {
    "duration": 224,
    "start_time": "2024-03-30T19:08:34.626Z"
   },
   {
    "duration": 94,
    "start_time": "2024-03-30T19:08:34.853Z"
   },
   {
    "duration": 140,
    "start_time": "2024-03-30T19:08:34.950Z"
   },
   {
    "duration": 2257,
    "start_time": "2024-03-30T19:09:20.711Z"
   },
   {
    "duration": 3,
    "start_time": "2024-03-30T19:09:22.970Z"
   },
   {
    "duration": 15,
    "start_time": "2024-03-30T19:09:22.974Z"
   },
   {
    "duration": 5,
    "start_time": "2024-03-30T19:09:22.991Z"
   },
   {
    "duration": 17,
    "start_time": "2024-03-30T19:09:22.998Z"
   },
   {
    "duration": 10,
    "start_time": "2024-03-30T19:09:23.016Z"
   },
   {
    "duration": 9,
    "start_time": "2024-03-30T19:09:23.027Z"
   },
   {
    "duration": 4,
    "start_time": "2024-03-30T19:09:23.037Z"
   },
   {
    "duration": 4,
    "start_time": "2024-03-30T19:09:23.042Z"
   },
   {
    "duration": 2,
    "start_time": "2024-03-30T19:09:23.049Z"
   },
   {
    "duration": 5,
    "start_time": "2024-03-30T19:09:23.052Z"
   },
   {
    "duration": 4,
    "start_time": "2024-03-30T19:09:23.059Z"
   },
   {
    "duration": 5,
    "start_time": "2024-03-30T19:09:23.065Z"
   },
   {
    "duration": 4,
    "start_time": "2024-03-30T19:09:23.071Z"
   },
   {
    "duration": 255,
    "start_time": "2024-03-30T19:09:23.077Z"
   },
   {
    "duration": 70,
    "start_time": "2024-03-30T19:09:23.334Z"
   },
   {
    "duration": 222,
    "start_time": "2024-03-30T19:09:23.406Z"
   },
   {
    "duration": 73,
    "start_time": "2024-03-30T19:09:23.630Z"
   },
   {
    "duration": 205,
    "start_time": "2024-03-30T19:09:23.704Z"
   },
   {
    "duration": 67,
    "start_time": "2024-03-30T19:09:23.911Z"
   },
   {
    "duration": 44,
    "start_time": "2024-03-30T19:09:23.979Z"
   },
   {
    "duration": 1377,
    "start_time": "2024-03-30T19:09:24.024Z"
   },
   {
    "duration": 651,
    "start_time": "2024-03-30T19:09:25.403Z"
   },
   {
    "duration": 677,
    "start_time": "2024-03-30T19:09:26.056Z"
   },
   {
    "duration": 33315,
    "start_time": "2024-03-30T19:09:26.734Z"
   },
   {
    "duration": 897,
    "start_time": "2024-03-30T19:10:00.050Z"
   },
   {
    "duration": 209,
    "start_time": "2024-03-30T19:10:00.949Z"
   },
   {
    "duration": 383,
    "start_time": "2024-03-30T19:10:01.162Z"
   },
   {
    "duration": 99,
    "start_time": "2024-03-30T19:10:01.547Z"
   },
   {
    "duration": 543,
    "start_time": "2024-03-30T19:12:02.374Z"
   },
   {
    "duration": 78,
    "start_time": "2024-03-30T19:13:26.872Z"
   },
   {
    "duration": 65,
    "start_time": "2024-03-30T19:13:54.181Z"
   },
   {
    "duration": 58,
    "start_time": "2024-03-30T19:13:59.288Z"
   },
   {
    "duration": 3,
    "start_time": "2024-03-30T19:40:35.445Z"
   },
   {
    "duration": 4,
    "start_time": "2024-03-30T19:46:57.647Z"
   },
   {
    "duration": 4,
    "start_time": "2024-03-30T19:48:45.698Z"
   },
   {
    "duration": 68,
    "start_time": "2024-03-30T19:59:47.645Z"
   },
   {
    "duration": 4,
    "start_time": "2024-03-30T19:59:56.055Z"
   },
   {
    "duration": 4,
    "start_time": "2024-03-30T20:00:02.842Z"
   },
   {
    "duration": 3,
    "start_time": "2024-03-30T20:00:23.239Z"
   },
   {
    "duration": 6,
    "start_time": "2024-03-30T20:56:03.094Z"
   },
   {
    "duration": 5,
    "start_time": "2024-03-30T20:56:13.756Z"
   },
   {
    "duration": 5,
    "start_time": "2024-03-30T20:56:36.525Z"
   },
   {
    "duration": 5,
    "start_time": "2024-03-30T20:57:44.491Z"
   },
   {
    "duration": 4,
    "start_time": "2024-03-30T21:00:10.877Z"
   },
   {
    "duration": 2307,
    "start_time": "2024-03-30T21:09:44.577Z"
   },
   {
    "duration": 3,
    "start_time": "2024-03-30T21:09:46.886Z"
   },
   {
    "duration": 14,
    "start_time": "2024-03-30T21:09:46.890Z"
   },
   {
    "duration": 9,
    "start_time": "2024-03-30T21:09:46.906Z"
   },
   {
    "duration": 10,
    "start_time": "2024-03-30T21:09:46.916Z"
   },
   {
    "duration": 5,
    "start_time": "2024-03-30T21:09:46.927Z"
   },
   {
    "duration": 6,
    "start_time": "2024-03-30T21:09:46.933Z"
   },
   {
    "duration": 8,
    "start_time": "2024-03-30T21:09:46.940Z"
   },
   {
    "duration": 6,
    "start_time": "2024-03-30T21:09:46.949Z"
   },
   {
    "duration": 9,
    "start_time": "2024-03-30T21:09:46.957Z"
   },
   {
    "duration": 7,
    "start_time": "2024-03-30T21:09:46.969Z"
   },
   {
    "duration": 6,
    "start_time": "2024-03-30T21:09:46.978Z"
   },
   {
    "duration": 5,
    "start_time": "2024-03-30T21:09:46.985Z"
   },
   {
    "duration": 4,
    "start_time": "2024-03-30T21:09:46.991Z"
   },
   {
    "duration": 243,
    "start_time": "2024-03-30T21:09:46.996Z"
   },
   {
    "duration": 67,
    "start_time": "2024-03-30T21:09:47.240Z"
   },
   {
    "duration": 248,
    "start_time": "2024-03-30T21:09:47.309Z"
   },
   {
    "duration": 74,
    "start_time": "2024-03-30T21:09:47.559Z"
   },
   {
    "duration": 229,
    "start_time": "2024-03-30T21:09:47.645Z"
   },
   {
    "duration": 54,
    "start_time": "2024-03-30T21:09:47.875Z"
   },
   {
    "duration": 38,
    "start_time": "2024-03-30T21:09:47.945Z"
   },
   {
    "duration": 942,
    "start_time": "2024-03-30T21:09:47.985Z"
   },
   {
    "duration": 17,
    "start_time": "2024-03-30T21:09:48.928Z"
   },
   {
    "duration": 624,
    "start_time": "2024-03-30T21:09:48.946Z"
   },
   {
    "duration": 668,
    "start_time": "2024-03-30T21:09:49.572Z"
   },
   {
    "duration": 6,
    "start_time": "2024-03-30T21:09:50.245Z"
   },
   {
    "duration": 33220,
    "start_time": "2024-03-30T21:09:50.253Z"
   },
   {
    "duration": 845,
    "start_time": "2024-03-30T21:10:23.477Z"
   },
   {
    "duration": 6,
    "start_time": "2024-03-30T21:10:24.324Z"
   },
   {
    "duration": 567,
    "start_time": "2024-03-30T21:10:24.331Z"
   },
   {
    "duration": 147,
    "start_time": "2024-03-30T21:10:24.899Z"
   },
   {
    "duration": 205,
    "start_time": "2024-03-30T21:10:25.047Z"
   },
   {
    "duration": 201,
    "start_time": "2024-03-30T21:10:25.254Z"
   },
   {
    "duration": 3,
    "start_time": "2024-03-30T21:10:25.545Z"
   },
   {
    "duration": 9,
    "start_time": "2024-03-30T21:10:25.549Z"
   },
   {
    "duration": 4,
    "start_time": "2024-03-30T21:10:25.559Z"
   },
   {
    "duration": 106,
    "start_time": "2024-03-30T21:10:25.564Z"
   },
   {
    "duration": 2,
    "start_time": "2024-03-30T21:18:21.803Z"
   },
   {
    "duration": 2275,
    "start_time": "2024-03-30T21:19:17.153Z"
   },
   {
    "duration": 3,
    "start_time": "2024-03-30T21:19:19.430Z"
   },
   {
    "duration": 9,
    "start_time": "2024-03-30T21:19:19.435Z"
   },
   {
    "duration": 9,
    "start_time": "2024-03-30T21:19:19.445Z"
   },
   {
    "duration": 5,
    "start_time": "2024-03-30T21:19:19.456Z"
   },
   {
    "duration": 4,
    "start_time": "2024-03-30T21:19:19.462Z"
   },
   {
    "duration": 5,
    "start_time": "2024-03-30T21:19:19.467Z"
   },
   {
    "duration": 6,
    "start_time": "2024-03-30T21:19:19.473Z"
   },
   {
    "duration": 6,
    "start_time": "2024-03-30T21:19:19.480Z"
   },
   {
    "duration": 10,
    "start_time": "2024-03-30T21:19:19.487Z"
   },
   {
    "duration": 5,
    "start_time": "2024-03-30T21:19:19.498Z"
   },
   {
    "duration": 4,
    "start_time": "2024-03-30T21:19:19.504Z"
   },
   {
    "duration": 4,
    "start_time": "2024-03-30T21:19:19.509Z"
   },
   {
    "duration": 4,
    "start_time": "2024-03-30T21:19:19.515Z"
   },
   {
    "duration": 212,
    "start_time": "2024-03-30T21:19:19.520Z"
   },
   {
    "duration": 53,
    "start_time": "2024-03-30T21:19:19.733Z"
   },
   {
    "duration": 190,
    "start_time": "2024-03-30T21:19:19.788Z"
   },
   {
    "duration": 71,
    "start_time": "2024-03-30T21:19:19.979Z"
   },
   {
    "duration": 204,
    "start_time": "2024-03-30T21:19:20.052Z"
   },
   {
    "duration": 53,
    "start_time": "2024-03-30T21:19:20.257Z"
   },
   {
    "duration": 59,
    "start_time": "2024-03-30T21:19:20.312Z"
   },
   {
    "duration": 853,
    "start_time": "2024-03-30T21:19:20.373Z"
   },
   {
    "duration": 6,
    "start_time": "2024-03-30T21:19:21.227Z"
   },
   {
    "duration": 612,
    "start_time": "2024-03-30T21:19:21.244Z"
   },
   {
    "duration": 625,
    "start_time": "2024-03-30T21:19:21.857Z"
   },
   {
    "duration": 6,
    "start_time": "2024-03-30T21:19:22.483Z"
   },
   {
    "duration": 33270,
    "start_time": "2024-03-30T21:19:22.490Z"
   },
   {
    "duration": 842,
    "start_time": "2024-03-30T21:19:55.762Z"
   },
   {
    "duration": 6,
    "start_time": "2024-03-30T21:19:56.605Z"
   },
   {
    "duration": 520,
    "start_time": "2024-03-30T21:19:56.612Z"
   },
   {
    "duration": 313,
    "start_time": "2024-03-30T21:19:57.133Z"
   },
   {
    "duration": 111,
    "start_time": "2024-03-30T21:19:57.447Z"
   },
   {
    "duration": 288,
    "start_time": "2024-03-30T21:19:57.559Z"
   },
   {
    "duration": 3,
    "start_time": "2024-03-30T21:19:57.849Z"
   },
   {
    "duration": 16,
    "start_time": "2024-03-30T21:19:57.854Z"
   },
   {
    "duration": 13,
    "start_time": "2024-03-30T21:19:57.871Z"
   },
   {
    "duration": 15,
    "start_time": "2024-03-30T21:19:57.885Z"
   },
   {
    "duration": 21,
    "start_time": "2024-03-30T21:19:57.902Z"
   },
   {
    "duration": 0,
    "start_time": "2024-03-30T21:19:57.924Z"
   },
   {
    "duration": 4,
    "start_time": "2024-03-30T21:21:52.675Z"
   },
   {
    "duration": 2,
    "start_time": "2024-03-30T21:22:43.546Z"
   },
   {
    "duration": 21,
    "start_time": "2024-03-30T21:22:44.493Z"
   },
   {
    "duration": 3,
    "start_time": "2024-03-30T21:23:00.560Z"
   },
   {
    "duration": 15,
    "start_time": "2024-03-30T21:23:02.208Z"
   },
   {
    "duration": 3,
    "start_time": "2024-03-30T21:23:35.353Z"
   },
   {
    "duration": 14,
    "start_time": "2024-03-30T21:23:36.368Z"
   },
   {
    "duration": 23,
    "start_time": "2024-03-30T21:23:42.288Z"
   },
   {
    "duration": 15,
    "start_time": "2024-03-30T21:23:43.180Z"
   },
   {
    "duration": 14,
    "start_time": "2024-03-30T21:26:48.342Z"
   },
   {
    "duration": 14,
    "start_time": "2024-03-30T21:27:21.763Z"
   },
   {
    "duration": 15,
    "start_time": "2024-03-30T21:27:34.532Z"
   },
   {
    "duration": 4,
    "start_time": "2024-03-30T21:34:34.118Z"
   },
   {
    "duration": 2241,
    "start_time": "2024-03-30T21:38:00.189Z"
   },
   {
    "duration": 3,
    "start_time": "2024-03-30T21:38:02.432Z"
   },
   {
    "duration": 46,
    "start_time": "2024-03-30T21:38:02.436Z"
   },
   {
    "duration": 27,
    "start_time": "2024-03-30T21:38:02.484Z"
   },
   {
    "duration": 27,
    "start_time": "2024-03-30T21:38:02.512Z"
   },
   {
    "duration": 10,
    "start_time": "2024-03-30T21:38:02.541Z"
   },
   {
    "duration": 15,
    "start_time": "2024-03-30T21:38:02.553Z"
   },
   {
    "duration": 15,
    "start_time": "2024-03-30T21:38:02.569Z"
   },
   {
    "duration": 48,
    "start_time": "2024-03-30T21:38:02.585Z"
   },
   {
    "duration": 35,
    "start_time": "2024-03-30T21:38:02.635Z"
   },
   {
    "duration": 36,
    "start_time": "2024-03-30T21:38:02.671Z"
   },
   {
    "duration": 34,
    "start_time": "2024-03-30T21:38:02.709Z"
   },
   {
    "duration": 47,
    "start_time": "2024-03-30T21:38:02.745Z"
   },
   {
    "duration": 16,
    "start_time": "2024-03-30T21:38:02.793Z"
   },
   {
    "duration": 263,
    "start_time": "2024-03-30T21:38:02.810Z"
   },
   {
    "duration": 58,
    "start_time": "2024-03-30T21:38:03.075Z"
   },
   {
    "duration": 186,
    "start_time": "2024-03-30T21:38:03.144Z"
   },
   {
    "duration": 58,
    "start_time": "2024-03-30T21:38:03.331Z"
   },
   {
    "duration": 195,
    "start_time": "2024-03-30T21:38:03.390Z"
   },
   {
    "duration": 59,
    "start_time": "2024-03-30T21:38:03.587Z"
   },
   {
    "duration": 43,
    "start_time": "2024-03-30T21:38:03.647Z"
   },
   {
    "duration": 882,
    "start_time": "2024-03-30T21:38:03.692Z"
   },
   {
    "duration": 6,
    "start_time": "2024-03-30T21:38:04.576Z"
   },
   {
    "duration": 577,
    "start_time": "2024-03-30T21:38:04.584Z"
   },
   {
    "duration": 660,
    "start_time": "2024-03-30T21:38:05.162Z"
   },
   {
    "duration": 5,
    "start_time": "2024-03-30T21:38:05.824Z"
   },
   {
    "duration": 33124,
    "start_time": "2024-03-30T21:38:05.830Z"
   },
   {
    "duration": 849,
    "start_time": "2024-03-30T21:38:38.957Z"
   },
   {
    "duration": 5,
    "start_time": "2024-03-30T21:38:39.808Z"
   },
   {
    "duration": 517,
    "start_time": "2024-03-30T21:38:39.814Z"
   },
   {
    "duration": 118,
    "start_time": "2024-03-30T21:38:40.332Z"
   },
   {
    "duration": 201,
    "start_time": "2024-03-30T21:38:40.452Z"
   },
   {
    "duration": 190,
    "start_time": "2024-03-30T21:38:40.655Z"
   },
   {
    "duration": 6,
    "start_time": "2024-03-30T21:38:40.850Z"
   },
   {
    "duration": 103,
    "start_time": "2024-03-30T21:38:40.858Z"
   },
   {
    "duration": 15,
    "start_time": "2024-03-30T21:38:40.963Z"
   },
   {
    "duration": 16,
    "start_time": "2024-03-30T21:38:40.979Z"
   },
   {
    "duration": 191,
    "start_time": "2024-03-30T21:38:40.996Z"
   },
   {
    "duration": 58,
    "start_time": "2024-03-30T21:38:41.188Z"
   },
   {
    "duration": 0,
    "start_time": "2024-03-30T21:38:41.248Z"
   },
   {
    "duration": 222,
    "start_time": "2024-03-30T21:40:32.658Z"
   },
   {
    "duration": 15,
    "start_time": "2024-03-30T21:40:37.366Z"
   },
   {
    "duration": 215,
    "start_time": "2024-03-30T21:41:35.864Z"
   },
   {
    "duration": 52,
    "start_time": "2024-03-31T19:23:26.484Z"
   },
   {
    "duration": 3424,
    "start_time": "2024-03-31T19:23:35.789Z"
   },
   {
    "duration": 546,
    "start_time": "2024-03-31T19:23:39.215Z"
   },
   {
    "duration": 3,
    "start_time": "2024-03-31T19:23:39.763Z"
   },
   {
    "duration": 205,
    "start_time": "2024-03-31T19:23:39.768Z"
   },
   {
    "duration": 496,
    "start_time": "2024-03-31T19:23:39.975Z"
   },
   {
    "duration": 60,
    "start_time": "2024-03-31T19:23:40.472Z"
   },
   {
    "duration": 210,
    "start_time": "2024-03-31T19:23:40.533Z"
   },
   {
    "duration": 3,
    "start_time": "2024-03-31T19:23:40.744Z"
   },
   {
    "duration": 4,
    "start_time": "2024-03-31T19:23:40.749Z"
   },
   {
    "duration": 3,
    "start_time": "2024-03-31T19:23:40.756Z"
   },
   {
    "duration": 4,
    "start_time": "2024-03-31T19:23:40.761Z"
   },
   {
    "duration": 4,
    "start_time": "2024-03-31T19:23:40.767Z"
   },
   {
    "duration": 7,
    "start_time": "2024-03-31T19:23:40.773Z"
   },
   {
    "duration": 11,
    "start_time": "2024-03-31T19:23:40.782Z"
   },
   {
    "duration": 352,
    "start_time": "2024-03-31T19:23:40.794Z"
   },
   {
    "duration": 92,
    "start_time": "2024-03-31T19:23:41.148Z"
   },
   {
    "duration": 305,
    "start_time": "2024-03-31T19:23:41.242Z"
   },
   {
    "duration": 63,
    "start_time": "2024-03-31T19:23:41.559Z"
   },
   {
    "duration": 303,
    "start_time": "2024-03-31T19:23:41.624Z"
   },
   {
    "duration": 81,
    "start_time": "2024-03-31T19:23:41.929Z"
   },
   {
    "duration": 56,
    "start_time": "2024-03-31T19:23:42.012Z"
   },
   {
    "duration": 1135,
    "start_time": "2024-03-31T19:23:42.070Z"
   },
   {
    "duration": 6,
    "start_time": "2024-03-31T19:23:43.206Z"
   },
   {
    "duration": 681,
    "start_time": "2024-03-31T19:23:43.214Z"
   },
   {
    "duration": 721,
    "start_time": "2024-03-31T19:23:43.896Z"
   },
   {
    "duration": 6,
    "start_time": "2024-03-31T19:23:44.619Z"
   },
   {
    "duration": 29361,
    "start_time": "2024-03-31T19:23:44.627Z"
   },
   {
    "duration": 981,
    "start_time": "2024-03-31T19:24:13.992Z"
   },
   {
    "duration": 6,
    "start_time": "2024-03-31T19:24:14.974Z"
   },
   {
    "duration": 585,
    "start_time": "2024-03-31T19:24:14.982Z"
   },
   {
    "duration": 190,
    "start_time": "2024-03-31T19:24:15.569Z"
   },
   {
    "duration": 106,
    "start_time": "2024-03-31T19:24:15.761Z"
   },
   {
    "duration": 200,
    "start_time": "2024-03-31T19:24:15.959Z"
   },
   {
    "duration": 3,
    "start_time": "2024-03-31T19:24:16.161Z"
   },
   {
    "duration": 7,
    "start_time": "2024-03-31T19:24:16.166Z"
   },
   {
    "duration": 4,
    "start_time": "2024-03-31T19:24:16.175Z"
   },
   {
    "duration": 7,
    "start_time": "2024-03-31T19:24:16.180Z"
   },
   {
    "duration": 224,
    "start_time": "2024-03-31T19:24:16.189Z"
   },
   {
    "duration": 285,
    "start_time": "2024-03-31T19:24:16.415Z"
   },
   {
    "duration": 200,
    "start_time": "2024-03-31T19:24:16.702Z"
   },
   {
    "duration": 16,
    "start_time": "2024-03-31T19:24:16.904Z"
   },
   {
    "duration": 4,
    "start_time": "2024-03-31T19:25:16.410Z"
   },
   {
    "duration": 72,
    "start_time": "2024-03-31T19:25:42.636Z"
   },
   {
    "duration": 4,
    "start_time": "2024-03-31T19:25:48.130Z"
   },
   {
    "duration": 9,
    "start_time": "2024-03-31T19:25:59.817Z"
   },
   {
    "duration": 9,
    "start_time": "2024-03-31T19:26:09.085Z"
   },
   {
    "duration": 10,
    "start_time": "2024-03-31T19:26:12.646Z"
   },
   {
    "duration": 9,
    "start_time": "2024-03-31T19:26:40.961Z"
   },
   {
    "duration": 9,
    "start_time": "2024-03-31T19:26:50.201Z"
   },
   {
    "duration": 10,
    "start_time": "2024-03-31T19:26:53.086Z"
   },
   {
    "duration": 9,
    "start_time": "2024-03-31T19:28:36.533Z"
   },
   {
    "duration": 6,
    "start_time": "2024-03-31T19:29:06.242Z"
   },
   {
    "duration": 10,
    "start_time": "2024-03-31T19:50:56.169Z"
   },
   {
    "duration": 3,
    "start_time": "2024-03-31T19:51:07.893Z"
   },
   {
    "duration": 3,
    "start_time": "2024-03-31T19:51:10.580Z"
   },
   {
    "duration": 10,
    "start_time": "2024-03-31T20:00:50.080Z"
   },
   {
    "duration": 5,
    "start_time": "2024-03-31T20:01:18.184Z"
   },
   {
    "duration": 69,
    "start_time": "2024-03-31T20:08:37.697Z"
   },
   {
    "duration": 2130,
    "start_time": "2024-03-31T20:09:07.466Z"
   },
   {
    "duration": 6194,
    "start_time": "2024-03-31T20:13:14.374Z"
   },
   {
    "duration": 6356,
    "start_time": "2024-03-31T20:13:38.706Z"
   },
   {
    "duration": 75,
    "start_time": "2024-03-31T20:20:44.795Z"
   },
   {
    "duration": 64,
    "start_time": "2024-03-31T20:22:43.729Z"
   },
   {
    "duration": 107,
    "start_time": "2024-03-31T20:26:23.816Z"
   },
   {
    "duration": 66,
    "start_time": "2024-03-31T20:26:41.519Z"
   },
   {
    "duration": 69,
    "start_time": "2024-03-31T20:29:25.460Z"
   },
   {
    "duration": 5,
    "start_time": "2024-03-31T20:33:16.206Z"
   },
   {
    "duration": 6397,
    "start_time": "2024-03-31T20:34:03.896Z"
   },
   {
    "duration": 6490,
    "start_time": "2024-03-31T20:34:59.973Z"
   },
   {
    "duration": 66,
    "start_time": "2024-03-31T20:36:13.006Z"
   },
   {
    "duration": 4,
    "start_time": "2024-03-31T20:58:23.787Z"
   },
   {
    "duration": 81,
    "start_time": "2024-03-31T20:58:30.508Z"
   },
   {
    "duration": 67,
    "start_time": "2024-03-31T20:58:36.933Z"
   },
   {
    "duration": 2138,
    "start_time": "2024-03-31T20:58:50.945Z"
   },
   {
    "duration": 6189,
    "start_time": "2024-03-31T20:59:12.450Z"
   },
   {
    "duration": 6133,
    "start_time": "2024-03-31T21:14:25.196Z"
   },
   {
    "duration": 2392,
    "start_time": "2024-03-31T21:29:48.687Z"
   },
   {
    "duration": 420,
    "start_time": "2024-03-31T21:29:51.082Z"
   },
   {
    "duration": 3,
    "start_time": "2024-03-31T21:29:51.504Z"
   },
   {
    "duration": 13,
    "start_time": "2024-03-31T21:29:51.509Z"
   },
   {
    "duration": 222,
    "start_time": "2024-03-31T21:29:51.524Z"
   },
   {
    "duration": 520,
    "start_time": "2024-03-31T21:29:51.748Z"
   },
   {
    "duration": 61,
    "start_time": "2024-03-31T21:29:52.270Z"
   },
   {
    "duration": 217,
    "start_time": "2024-03-31T21:29:52.333Z"
   },
   {
    "duration": 3,
    "start_time": "2024-03-31T21:29:52.551Z"
   },
   {
    "duration": 38,
    "start_time": "2024-03-31T21:29:52.557Z"
   },
   {
    "duration": 23,
    "start_time": "2024-03-31T21:29:52.596Z"
   },
   {
    "duration": 12,
    "start_time": "2024-03-31T21:29:52.620Z"
   },
   {
    "duration": 5,
    "start_time": "2024-03-31T21:29:52.634Z"
   },
   {
    "duration": 22,
    "start_time": "2024-03-31T21:29:52.640Z"
   },
   {
    "duration": 28,
    "start_time": "2024-03-31T21:29:52.663Z"
   },
   {
    "duration": 261,
    "start_time": "2024-03-31T21:29:52.693Z"
   },
   {
    "duration": 68,
    "start_time": "2024-03-31T21:29:52.959Z"
   },
   {
    "duration": 242,
    "start_time": "2024-03-31T21:29:53.028Z"
   },
   {
    "duration": 71,
    "start_time": "2024-03-31T21:29:53.271Z"
   },
   {
    "duration": 234,
    "start_time": "2024-03-31T21:29:53.359Z"
   },
   {
    "duration": 74,
    "start_time": "2024-03-31T21:29:53.594Z"
   },
   {
    "duration": 54,
    "start_time": "2024-03-31T21:29:53.670Z"
   },
   {
    "duration": 1100,
    "start_time": "2024-03-31T21:29:53.725Z"
   },
   {
    "duration": 7,
    "start_time": "2024-03-31T21:29:54.827Z"
   },
   {
    "duration": 604,
    "start_time": "2024-03-31T21:29:54.835Z"
   },
   {
    "duration": 715,
    "start_time": "2024-03-31T21:29:55.441Z"
   },
   {
    "duration": 7,
    "start_time": "2024-03-31T21:29:56.158Z"
   },
   {
    "duration": 28724,
    "start_time": "2024-03-31T21:29:56.169Z"
   },
   {
    "duration": 965,
    "start_time": "2024-03-31T21:30:24.894Z"
   },
   {
    "duration": 5,
    "start_time": "2024-03-31T21:30:25.861Z"
   },
   {
    "duration": 570,
    "start_time": "2024-03-31T21:30:25.868Z"
   },
   {
    "duration": 218,
    "start_time": "2024-03-31T21:30:26.440Z"
   },
   {
    "duration": 103,
    "start_time": "2024-03-31T21:30:26.660Z"
   },
   {
    "duration": 204,
    "start_time": "2024-03-31T21:30:26.765Z"
   },
   {
    "duration": 3,
    "start_time": "2024-03-31T21:30:27.060Z"
   },
   {
    "duration": 5,
    "start_time": "2024-03-31T21:30:27.065Z"
   },
   {
    "duration": 13,
    "start_time": "2024-03-31T21:30:27.072Z"
   },
   {
    "duration": 10,
    "start_time": "2024-03-31T21:30:27.086Z"
   },
   {
    "duration": 205,
    "start_time": "2024-03-31T21:30:27.097Z"
   },
   {
    "duration": 195,
    "start_time": "2024-03-31T21:30:27.303Z"
   },
   {
    "duration": 202,
    "start_time": "2024-03-31T21:30:27.500Z"
   },
   {
    "duration": 5929,
    "start_time": "2024-03-31T21:30:27.704Z"
   },
   {
    "duration": 3147,
    "start_time": "2024-04-01T15:50:39.468Z"
   },
   {
    "duration": 569,
    "start_time": "2024-04-01T15:50:42.617Z"
   },
   {
    "duration": 2,
    "start_time": "2024-04-01T15:50:43.188Z"
   },
   {
    "duration": 10,
    "start_time": "2024-04-01T15:50:43.192Z"
   },
   {
    "duration": 179,
    "start_time": "2024-04-01T15:50:43.203Z"
   },
   {
    "duration": 492,
    "start_time": "2024-04-01T15:50:43.383Z"
   },
   {
    "duration": 66,
    "start_time": "2024-04-01T15:50:43.877Z"
   },
   {
    "duration": 325,
    "start_time": "2024-04-01T15:50:43.945Z"
   },
   {
    "duration": 2,
    "start_time": "2024-04-01T15:50:44.271Z"
   },
   {
    "duration": 9,
    "start_time": "2024-04-01T15:50:44.275Z"
   },
   {
    "duration": 4,
    "start_time": "2024-04-01T15:50:44.285Z"
   },
   {
    "duration": 16,
    "start_time": "2024-04-01T15:50:44.291Z"
   },
   {
    "duration": 4,
    "start_time": "2024-04-01T15:50:44.308Z"
   },
   {
    "duration": 9,
    "start_time": "2024-04-01T15:50:44.313Z"
   },
   {
    "duration": 8,
    "start_time": "2024-04-01T15:50:44.323Z"
   },
   {
    "duration": 284,
    "start_time": "2024-04-01T15:50:44.332Z"
   },
   {
    "duration": 53,
    "start_time": "2024-04-01T15:50:44.618Z"
   },
   {
    "duration": 263,
    "start_time": "2024-04-01T15:50:44.672Z"
   },
   {
    "duration": 56,
    "start_time": "2024-04-01T15:50:44.937Z"
   },
   {
    "duration": 286,
    "start_time": "2024-04-01T15:50:44.994Z"
   },
   {
    "duration": 40,
    "start_time": "2024-04-01T15:50:45.282Z"
   },
   {
    "duration": 54,
    "start_time": "2024-04-01T15:50:45.323Z"
   },
   {
    "duration": 867,
    "start_time": "2024-04-01T15:50:45.378Z"
   },
   {
    "duration": 7,
    "start_time": "2024-04-01T15:50:46.246Z"
   },
   {
    "duration": 538,
    "start_time": "2024-04-01T15:50:46.255Z"
   },
   {
    "duration": 549,
    "start_time": "2024-04-01T15:50:46.794Z"
   },
   {
    "duration": 5,
    "start_time": "2024-04-01T15:50:47.345Z"
   },
   {
    "duration": 24926,
    "start_time": "2024-04-01T15:50:47.353Z"
   },
   {
    "duration": 108,
    "start_time": "2024-04-01T15:51:12.280Z"
   },
   {
    "duration": 0,
    "start_time": "2024-04-01T15:51:12.389Z"
   },
   {
    "duration": 0,
    "start_time": "2024-04-01T15:51:12.390Z"
   },
   {
    "duration": 0,
    "start_time": "2024-04-01T15:51:12.391Z"
   },
   {
    "duration": 0,
    "start_time": "2024-04-01T15:51:12.392Z"
   },
   {
    "duration": 0,
    "start_time": "2024-04-01T15:51:12.393Z"
   },
   {
    "duration": 0,
    "start_time": "2024-04-01T15:51:12.401Z"
   },
   {
    "duration": 0,
    "start_time": "2024-04-01T15:51:12.402Z"
   },
   {
    "duration": 0,
    "start_time": "2024-04-01T15:51:12.403Z"
   },
   {
    "duration": 0,
    "start_time": "2024-04-01T15:51:12.404Z"
   },
   {
    "duration": 0,
    "start_time": "2024-04-01T15:51:12.405Z"
   },
   {
    "duration": 0,
    "start_time": "2024-04-01T15:51:12.406Z"
   },
   {
    "duration": 0,
    "start_time": "2024-04-01T15:51:12.407Z"
   },
   {
    "duration": 0,
    "start_time": "2024-04-01T15:51:12.408Z"
   },
   {
    "duration": 0,
    "start_time": "2024-04-01T15:51:12.408Z"
   },
   {
    "duration": 10,
    "start_time": "2024-04-01T15:52:42.569Z"
   },
   {
    "duration": 2471,
    "start_time": "2024-04-01T15:53:18.173Z"
   },
   {
    "duration": 369,
    "start_time": "2024-04-01T15:53:20.646Z"
   },
   {
    "duration": 2,
    "start_time": "2024-04-01T15:53:21.016Z"
   },
   {
    "duration": 26,
    "start_time": "2024-04-01T15:53:21.019Z"
   },
   {
    "duration": 203,
    "start_time": "2024-04-01T15:53:21.047Z"
   },
   {
    "duration": 521,
    "start_time": "2024-04-01T15:53:21.252Z"
   },
   {
    "duration": 51,
    "start_time": "2024-04-01T15:53:21.774Z"
   },
   {
    "duration": 410,
    "start_time": "2024-04-01T15:53:21.827Z"
   },
   {
    "duration": 2,
    "start_time": "2024-04-01T15:53:22.239Z"
   },
   {
    "duration": 7,
    "start_time": "2024-04-01T15:53:22.242Z"
   },
   {
    "duration": 11,
    "start_time": "2024-04-01T15:53:22.250Z"
   },
   {
    "duration": 8,
    "start_time": "2024-04-01T15:53:22.262Z"
   },
   {
    "duration": 10,
    "start_time": "2024-04-01T15:53:22.271Z"
   },
   {
    "duration": 6,
    "start_time": "2024-04-01T15:53:22.283Z"
   },
   {
    "duration": 9,
    "start_time": "2024-04-01T15:53:22.290Z"
   },
   {
    "duration": 211,
    "start_time": "2024-04-01T15:53:22.300Z"
   },
   {
    "duration": 44,
    "start_time": "2024-04-01T15:53:22.513Z"
   },
   {
    "duration": 183,
    "start_time": "2024-04-01T15:53:22.558Z"
   },
   {
    "duration": 42,
    "start_time": "2024-04-01T15:53:22.742Z"
   },
   {
    "duration": 187,
    "start_time": "2024-04-01T15:53:22.785Z"
   },
   {
    "duration": 55,
    "start_time": "2024-04-01T15:53:22.974Z"
   },
   {
    "duration": 35,
    "start_time": "2024-04-01T15:53:23.030Z"
   },
   {
    "duration": 826,
    "start_time": "2024-04-01T15:53:23.067Z"
   },
   {
    "duration": 8,
    "start_time": "2024-04-01T15:53:23.894Z"
   },
   {
    "duration": 468,
    "start_time": "2024-04-01T15:53:23.903Z"
   },
   {
    "duration": 570,
    "start_time": "2024-04-01T15:53:24.373Z"
   },
   {
    "duration": 6,
    "start_time": "2024-04-01T15:53:24.944Z"
   },
   {
    "duration": 9,
    "start_time": "2024-04-01T15:53:24.951Z"
   },
   {
    "duration": 471,
    "start_time": "2024-04-01T15:53:24.961Z"
   },
   {
    "duration": 827,
    "start_time": "2024-04-01T15:53:25.433Z"
   },
   {
    "duration": 5,
    "start_time": "2024-04-01T15:53:26.262Z"
   },
   {
    "duration": 489,
    "start_time": "2024-04-01T15:53:26.269Z"
   },
   {
    "duration": 52,
    "start_time": "2024-04-01T15:53:26.760Z"
   },
   {
    "duration": 219,
    "start_time": "2024-04-01T15:53:26.813Z"
   },
   {
    "duration": 189,
    "start_time": "2024-04-01T15:53:27.034Z"
   },
   {
    "duration": 77,
    "start_time": "2024-04-01T15:53:27.225Z"
   },
   {
    "duration": 99,
    "start_time": "2024-04-01T15:53:27.303Z"
   },
   {
    "duration": 3,
    "start_time": "2024-04-01T15:53:27.403Z"
   },
   {
    "duration": 3,
    "start_time": "2024-04-01T15:53:27.408Z"
   },
   {
    "duration": 238,
    "start_time": "2024-04-01T15:53:27.413Z"
   },
   {
    "duration": 280,
    "start_time": "2024-04-01T15:53:27.655Z"
   },
   {
    "duration": 204,
    "start_time": "2024-04-01T15:53:27.936Z"
   },
   {
    "duration": 4836,
    "start_time": "2024-04-01T15:53:28.141Z"
   },
   {
    "duration": 64,
    "start_time": "2024-04-01T19:21:40.266Z"
   },
   {
    "duration": 0,
    "start_time": "2024-04-01T19:21:40.332Z"
   },
   {
    "duration": 0,
    "start_time": "2024-04-01T19:21:40.333Z"
   },
   {
    "duration": 0,
    "start_time": "2024-04-01T19:21:40.334Z"
   },
   {
    "duration": 0,
    "start_time": "2024-04-01T19:21:40.335Z"
   },
   {
    "duration": 0,
    "start_time": "2024-04-01T19:21:40.336Z"
   },
   {
    "duration": 0,
    "start_time": "2024-04-01T19:21:40.337Z"
   },
   {
    "duration": 0,
    "start_time": "2024-04-01T19:21:40.338Z"
   },
   {
    "duration": 0,
    "start_time": "2024-04-01T19:21:40.339Z"
   },
   {
    "duration": 0,
    "start_time": "2024-04-01T19:21:40.340Z"
   },
   {
    "duration": 41,
    "start_time": "2024-04-01T19:21:40.349Z"
   },
   {
    "duration": 0,
    "start_time": "2024-04-01T19:21:40.392Z"
   },
   {
    "duration": 0,
    "start_time": "2024-04-01T19:21:40.393Z"
   },
   {
    "duration": 0,
    "start_time": "2024-04-01T19:21:40.394Z"
   },
   {
    "duration": 0,
    "start_time": "2024-04-01T19:21:40.395Z"
   },
   {
    "duration": 0,
    "start_time": "2024-04-01T19:21:40.396Z"
   },
   {
    "duration": 0,
    "start_time": "2024-04-01T19:21:40.397Z"
   },
   {
    "duration": 0,
    "start_time": "2024-04-01T19:21:40.398Z"
   },
   {
    "duration": 0,
    "start_time": "2024-04-01T19:21:40.399Z"
   },
   {
    "duration": 0,
    "start_time": "2024-04-01T19:21:40.400Z"
   },
   {
    "duration": 0,
    "start_time": "2024-04-01T19:21:40.401Z"
   },
   {
    "duration": 0,
    "start_time": "2024-04-01T19:21:40.402Z"
   },
   {
    "duration": 0,
    "start_time": "2024-04-01T19:21:40.403Z"
   },
   {
    "duration": 0,
    "start_time": "2024-04-01T19:21:40.404Z"
   },
   {
    "duration": 0,
    "start_time": "2024-04-01T19:21:40.405Z"
   },
   {
    "duration": 0,
    "start_time": "2024-04-01T19:21:40.406Z"
   },
   {
    "duration": 75,
    "start_time": "2024-04-01T19:22:42.622Z"
   },
   {
    "duration": 0,
    "start_time": "2024-04-01T19:22:42.698Z"
   },
   {
    "duration": 0,
    "start_time": "2024-04-01T19:22:42.700Z"
   },
   {
    "duration": 0,
    "start_time": "2024-04-01T19:22:42.701Z"
   },
   {
    "duration": 0,
    "start_time": "2024-04-01T19:22:42.702Z"
   },
   {
    "duration": 0,
    "start_time": "2024-04-01T19:22:42.702Z"
   },
   {
    "duration": 0,
    "start_time": "2024-04-01T19:22:42.704Z"
   },
   {
    "duration": 0,
    "start_time": "2024-04-01T19:22:42.705Z"
   },
   {
    "duration": 0,
    "start_time": "2024-04-01T19:22:42.706Z"
   },
   {
    "duration": 0,
    "start_time": "2024-04-01T19:22:42.707Z"
   },
   {
    "duration": 0,
    "start_time": "2024-04-01T19:22:42.708Z"
   },
   {
    "duration": 5,
    "start_time": "2024-04-01T19:22:42.824Z"
   },
   {
    "duration": 0,
    "start_time": "2024-04-01T19:22:42.830Z"
   },
   {
    "duration": 0,
    "start_time": "2024-04-01T19:22:42.831Z"
   },
   {
    "duration": 6,
    "start_time": "2024-04-01T19:22:42.857Z"
   },
   {
    "duration": 0,
    "start_time": "2024-04-01T19:22:42.864Z"
   },
   {
    "duration": 0,
    "start_time": "2024-04-01T19:22:42.865Z"
   },
   {
    "duration": 0,
    "start_time": "2024-04-01T19:22:42.866Z"
   },
   {
    "duration": 0,
    "start_time": "2024-04-01T19:22:42.867Z"
   },
   {
    "duration": 0,
    "start_time": "2024-04-01T19:22:42.868Z"
   },
   {
    "duration": 0,
    "start_time": "2024-04-01T19:22:42.870Z"
   },
   {
    "duration": 0,
    "start_time": "2024-04-01T19:22:42.871Z"
   },
   {
    "duration": 0,
    "start_time": "2024-04-01T19:22:42.872Z"
   },
   {
    "duration": 0,
    "start_time": "2024-04-01T19:22:42.873Z"
   },
   {
    "duration": 0,
    "start_time": "2024-04-01T19:22:42.874Z"
   },
   {
    "duration": 0,
    "start_time": "2024-04-01T19:22:42.874Z"
   },
   {
    "duration": 3171,
    "start_time": "2024-04-01T19:23:44.819Z"
   },
   {
    "duration": 2241,
    "start_time": "2024-04-01T19:24:02.384Z"
   },
   {
    "duration": 1511,
    "start_time": "2024-04-01T19:24:04.627Z"
   },
   {
    "duration": 2,
    "start_time": "2024-04-01T19:24:06.140Z"
   },
   {
    "duration": 6,
    "start_time": "2024-04-01T19:24:06.144Z"
   },
   {
    "duration": 14,
    "start_time": "2024-04-01T19:24:06.151Z"
   },
   {
    "duration": 10,
    "start_time": "2024-04-01T19:24:06.166Z"
   },
   {
    "duration": 6,
    "start_time": "2024-04-01T19:24:06.177Z"
   },
   {
    "duration": 301,
    "start_time": "2024-04-01T19:24:06.184Z"
   },
   {
    "duration": 66,
    "start_time": "2024-04-01T19:24:06.486Z"
   },
   {
    "duration": 276,
    "start_time": "2024-04-01T19:24:06.555Z"
   },
   {
    "duration": 61,
    "start_time": "2024-04-01T19:24:06.833Z"
   },
   {
    "duration": 277,
    "start_time": "2024-04-01T19:24:06.896Z"
   },
   {
    "duration": 54,
    "start_time": "2024-04-01T19:24:07.174Z"
   },
   {
    "duration": 56,
    "start_time": "2024-04-01T19:24:07.229Z"
   },
   {
    "duration": 950,
    "start_time": "2024-04-01T19:24:07.286Z"
   },
   {
    "duration": 11,
    "start_time": "2024-04-01T19:24:08.238Z"
   },
   {
    "duration": 612,
    "start_time": "2024-04-01T19:24:08.250Z"
   },
   {
    "duration": 630,
    "start_time": "2024-04-01T19:24:08.863Z"
   },
   {
    "duration": 5,
    "start_time": "2024-04-01T19:24:09.495Z"
   },
   {
    "duration": 2,
    "start_time": "2024-04-01T19:24:09.501Z"
   },
   {
    "duration": 522,
    "start_time": "2024-04-01T19:24:09.504Z"
   },
   {
    "duration": 999,
    "start_time": "2024-04-01T19:24:10.028Z"
   },
   {
    "duration": 5,
    "start_time": "2024-04-01T19:24:11.029Z"
   },
   {
    "duration": 568,
    "start_time": "2024-04-01T19:24:11.035Z"
   },
   {
    "duration": 145,
    "start_time": "2024-04-01T19:24:11.604Z"
   },
   {
    "duration": 197,
    "start_time": "2024-04-01T19:24:11.752Z"
   },
   {
    "duration": 297,
    "start_time": "2024-04-01T19:24:11.951Z"
   },
   {
    "duration": 2,
    "start_time": "2024-04-01T19:32:28.778Z"
   },
   {
    "duration": 3,
    "start_time": "2024-04-01T19:32:36.752Z"
   },
   {
    "duration": 4,
    "start_time": "2024-04-01T19:32:47.958Z"
   },
   {
    "duration": 2,
    "start_time": "2024-04-01T19:45:53.228Z"
   },
   {
    "duration": 276,
    "start_time": "2024-04-01T19:46:01.082Z"
   },
   {
    "duration": 3,
    "start_time": "2024-04-01T19:51:58.492Z"
   },
   {
    "duration": 219,
    "start_time": "2024-04-01T19:52:00.736Z"
   },
   {
    "duration": 3,
    "start_time": "2024-04-01T19:54:11.088Z"
   },
   {
    "duration": 80,
    "start_time": "2024-04-01T19:54:12.570Z"
   },
   {
    "duration": 3,
    "start_time": "2024-04-01T19:55:34.863Z"
   },
   {
    "duration": 246,
    "start_time": "2024-04-01T19:55:36.554Z"
   },
   {
    "duration": 9,
    "start_time": "2024-04-01T20:01:05.094Z"
   },
   {
    "duration": 225,
    "start_time": "2024-04-01T20:01:12.665Z"
   },
   {
    "duration": 79,
    "start_time": "2024-04-01T20:07:43.961Z"
   },
   {
    "duration": 229,
    "start_time": "2024-04-01T20:08:03.823Z"
   },
   {
    "duration": 193,
    "start_time": "2024-04-01T20:08:17.403Z"
   },
   {
    "duration": 8,
    "start_time": "2024-04-01T20:22:02.384Z"
   },
   {
    "duration": 945,
    "start_time": "2024-04-01T20:22:09.892Z"
   },
   {
    "duration": 13,
    "start_time": "2024-04-01T20:26:04.847Z"
   },
   {
    "duration": 77,
    "start_time": "2024-04-01T21:09:23.748Z"
   },
   {
    "duration": 77,
    "start_time": "2024-04-01T21:10:07.629Z"
   },
   {
    "duration": 3,
    "start_time": "2024-04-01T21:10:41.386Z"
   },
   {
    "duration": 155,
    "start_time": "2024-04-01T21:10:46.209Z"
   },
   {
    "duration": 17,
    "start_time": "2024-04-01T21:10:47.669Z"
   },
   {
    "duration": 17,
    "start_time": "2024-04-01T21:12:43.204Z"
   },
   {
    "duration": 2272,
    "start_time": "2024-04-01T21:12:50.859Z"
   },
   {
    "duration": 4,
    "start_time": "2024-04-01T21:12:53.133Z"
   },
   {
    "duration": 9,
    "start_time": "2024-04-01T21:12:53.138Z"
   },
   {
    "duration": 4,
    "start_time": "2024-04-01T21:12:53.149Z"
   },
   {
    "duration": 4,
    "start_time": "2024-04-01T21:12:53.154Z"
   },
   {
    "duration": 12,
    "start_time": "2024-04-01T21:12:53.159Z"
   },
   {
    "duration": 5,
    "start_time": "2024-04-01T21:12:53.172Z"
   },
   {
    "duration": 234,
    "start_time": "2024-04-01T21:12:53.178Z"
   },
   {
    "duration": 64,
    "start_time": "2024-04-01T21:12:53.414Z"
   },
   {
    "duration": 200,
    "start_time": "2024-04-01T21:12:53.481Z"
   },
   {
    "duration": 48,
    "start_time": "2024-04-01T21:12:53.683Z"
   },
   {
    "duration": 204,
    "start_time": "2024-04-01T21:12:53.732Z"
   },
   {
    "duration": 52,
    "start_time": "2024-04-01T21:12:53.948Z"
   },
   {
    "duration": 51,
    "start_time": "2024-04-01T21:12:54.001Z"
   },
   {
    "duration": 1099,
    "start_time": "2024-04-01T21:12:54.053Z"
   },
   {
    "duration": 5,
    "start_time": "2024-04-01T21:12:55.154Z"
   },
   {
    "duration": 615,
    "start_time": "2024-04-01T21:12:55.161Z"
   },
   {
    "duration": 667,
    "start_time": "2024-04-01T21:12:55.777Z"
   },
   {
    "duration": 6,
    "start_time": "2024-04-01T21:12:56.447Z"
   },
   {
    "duration": 2,
    "start_time": "2024-04-01T21:12:56.455Z"
   },
   {
    "duration": 576,
    "start_time": "2024-04-01T21:12:56.458Z"
   },
   {
    "duration": 1058,
    "start_time": "2024-04-01T21:12:57.035Z"
   },
   {
    "duration": 5,
    "start_time": "2024-04-01T21:12:58.094Z"
   },
   {
    "duration": 532,
    "start_time": "2024-04-01T21:12:58.100Z"
   },
   {
    "duration": 218,
    "start_time": "2024-04-01T21:12:58.633Z"
   },
   {
    "duration": 197,
    "start_time": "2024-04-01T21:12:58.852Z"
   },
   {
    "duration": 105,
    "start_time": "2024-04-01T21:12:59.050Z"
   },
   {
    "duration": 90,
    "start_time": "2024-04-01T21:12:59.159Z"
   },
   {
    "duration": 6,
    "start_time": "2024-04-01T21:12:59.251Z"
   },
   {
    "duration": 4,
    "start_time": "2024-04-01T21:12:59.259Z"
   },
   {
    "duration": 4,
    "start_time": "2024-04-01T21:12:59.264Z"
   },
   {
    "duration": 194,
    "start_time": "2024-04-01T21:12:59.270Z"
   },
   {
    "duration": 20,
    "start_time": "2024-04-01T21:13:06.230Z"
   },
   {
    "duration": 19,
    "start_time": "2024-04-01T21:13:26.448Z"
   },
   {
    "duration": 2331,
    "start_time": "2024-04-01T21:14:35.362Z"
   },
   {
    "duration": 4,
    "start_time": "2024-04-01T21:14:37.696Z"
   },
   {
    "duration": 7,
    "start_time": "2024-04-01T21:14:37.701Z"
   },
   {
    "duration": 5,
    "start_time": "2024-04-01T21:14:37.709Z"
   },
   {
    "duration": 4,
    "start_time": "2024-04-01T21:14:37.716Z"
   },
   {
    "duration": 6,
    "start_time": "2024-04-01T21:14:37.721Z"
   },
   {
    "duration": 12,
    "start_time": "2024-04-01T21:14:37.728Z"
   },
   {
    "duration": 229,
    "start_time": "2024-04-01T21:14:37.742Z"
   },
   {
    "duration": 58,
    "start_time": "2024-04-01T21:14:37.972Z"
   },
   {
    "duration": 221,
    "start_time": "2024-04-01T21:14:38.031Z"
   },
   {
    "duration": 65,
    "start_time": "2024-04-01T21:14:38.253Z"
   },
   {
    "duration": 229,
    "start_time": "2024-04-01T21:14:38.320Z"
   },
   {
    "duration": 65,
    "start_time": "2024-04-01T21:14:38.551Z"
   },
   {
    "duration": 64,
    "start_time": "2024-04-01T21:14:38.620Z"
   },
   {
    "duration": 939,
    "start_time": "2024-04-01T21:14:38.686Z"
   },
   {
    "duration": 7,
    "start_time": "2024-04-01T21:14:39.626Z"
   },
   {
    "duration": 638,
    "start_time": "2024-04-01T21:14:39.634Z"
   },
   {
    "duration": 927,
    "start_time": "2024-04-01T21:14:40.274Z"
   },
   {
    "duration": 6,
    "start_time": "2024-04-01T21:14:41.203Z"
   },
   {
    "duration": 2,
    "start_time": "2024-04-01T21:14:41.211Z"
   },
   {
    "duration": 516,
    "start_time": "2024-04-01T21:14:41.215Z"
   },
   {
    "duration": 922,
    "start_time": "2024-04-01T21:14:41.733Z"
   },
   {
    "duration": 7,
    "start_time": "2024-04-01T21:14:42.656Z"
   },
   {
    "duration": 755,
    "start_time": "2024-04-01T21:14:42.664Z"
   },
   {
    "duration": 137,
    "start_time": "2024-04-01T21:14:43.420Z"
   },
   {
    "duration": 194,
    "start_time": "2024-04-01T21:14:43.559Z"
   },
   {
    "duration": 200,
    "start_time": "2024-04-01T21:14:43.755Z"
   },
   {
    "duration": 4,
    "start_time": "2024-04-01T21:14:43.956Z"
   },
   {
    "duration": 5,
    "start_time": "2024-04-01T21:14:44.049Z"
   },
   {
    "duration": 4,
    "start_time": "2024-04-01T21:14:44.055Z"
   },
   {
    "duration": 3,
    "start_time": "2024-04-01T21:14:44.060Z"
   },
   {
    "duration": 202,
    "start_time": "2024-04-01T21:14:44.065Z"
   },
   {
    "duration": 217,
    "start_time": "2024-04-01T21:15:04.946Z"
   },
   {
    "duration": 158,
    "start_time": "2024-04-01T21:15:12.908Z"
   },
   {
    "duration": 20,
    "start_time": "2024-04-01T21:28:07.207Z"
   },
   {
    "duration": 2222,
    "start_time": "2024-04-01T21:50:57.119Z"
   },
   {
    "duration": 1367,
    "start_time": "2024-04-01T21:50:59.343Z"
   },
   {
    "duration": 3,
    "start_time": "2024-04-01T21:51:00.711Z"
   },
   {
    "duration": 36,
    "start_time": "2024-04-01T21:51:00.716Z"
   },
   {
    "duration": 55,
    "start_time": "2024-04-01T21:51:00.753Z"
   },
   {
    "duration": 46,
    "start_time": "2024-04-01T21:51:00.810Z"
   },
   {
    "duration": 28,
    "start_time": "2024-04-01T21:51:00.857Z"
   },
   {
    "duration": 287,
    "start_time": "2024-04-01T21:51:00.886Z"
   },
   {
    "duration": 57,
    "start_time": "2024-04-01T21:51:01.175Z"
   },
   {
    "duration": 232,
    "start_time": "2024-04-01T21:51:01.235Z"
   },
   {
    "duration": 54,
    "start_time": "2024-04-01T21:51:01.469Z"
   },
   {
    "duration": 225,
    "start_time": "2024-04-01T21:51:01.524Z"
   },
   {
    "duration": 58,
    "start_time": "2024-04-01T21:51:01.750Z"
   },
   {
    "duration": 59,
    "start_time": "2024-04-01T21:51:01.810Z"
   },
   {
    "duration": 983,
    "start_time": "2024-04-01T21:51:01.871Z"
   },
   {
    "duration": 5,
    "start_time": "2024-04-01T21:51:02.855Z"
   },
   {
    "duration": 589,
    "start_time": "2024-04-01T21:51:02.862Z"
   },
   {
    "duration": 646,
    "start_time": "2024-04-01T21:51:03.452Z"
   },
   {
    "duration": 5,
    "start_time": "2024-04-01T21:51:04.100Z"
   },
   {
    "duration": 6,
    "start_time": "2024-04-01T21:51:04.107Z"
   },
   {
    "duration": 517,
    "start_time": "2024-04-01T21:51:04.114Z"
   },
   {
    "duration": 986,
    "start_time": "2024-04-01T21:51:04.632Z"
   },
   {
    "duration": 6,
    "start_time": "2024-04-01T21:51:05.620Z"
   },
   {
    "duration": 499,
    "start_time": "2024-04-01T21:51:05.628Z"
   },
   {
    "duration": 122,
    "start_time": "2024-04-01T21:51:06.129Z"
   },
   {
    "duration": 200,
    "start_time": "2024-04-01T21:51:06.254Z"
   },
   {
    "duration": 204,
    "start_time": "2024-04-01T21:51:06.457Z"
   },
   {
    "duration": 3,
    "start_time": "2024-04-01T21:51:06.750Z"
   },
   {
    "duration": 9,
    "start_time": "2024-04-01T21:51:06.754Z"
   },
   {
    "duration": 4,
    "start_time": "2024-04-01T21:51:06.764Z"
   },
   {
    "duration": 3,
    "start_time": "2024-04-01T21:51:06.770Z"
   },
   {
    "duration": 188,
    "start_time": "2024-04-01T21:51:06.774Z"
   },
   {
    "duration": 198,
    "start_time": "2024-04-01T21:51:06.963Z"
   },
   {
    "duration": 198,
    "start_time": "2024-04-01T21:51:07.163Z"
   },
   {
    "duration": 126,
    "start_time": "2024-04-01T21:51:07.363Z"
   },
   {
    "duration": 9,
    "start_time": "2024-04-01T21:53:19.398Z"
   },
   {
    "duration": 3236,
    "start_time": "2024-04-02T08:46:16.125Z"
   },
   {
    "duration": 1571,
    "start_time": "2024-04-02T08:46:19.364Z"
   },
   {
    "duration": 3,
    "start_time": "2024-04-02T08:46:20.937Z"
   },
   {
    "duration": 24,
    "start_time": "2024-04-02T08:46:20.942Z"
   },
   {
    "duration": 5,
    "start_time": "2024-04-02T08:46:20.967Z"
   },
   {
    "duration": 9,
    "start_time": "2024-04-02T08:46:20.973Z"
   },
   {
    "duration": 15,
    "start_time": "2024-04-02T08:46:20.983Z"
   },
   {
    "duration": 336,
    "start_time": "2024-04-02T08:46:20.999Z"
   },
   {
    "duration": 63,
    "start_time": "2024-04-02T08:46:21.337Z"
   },
   {
    "duration": 299,
    "start_time": "2024-04-02T08:46:21.402Z"
   },
   {
    "duration": 67,
    "start_time": "2024-04-02T08:46:21.702Z"
   },
   {
    "duration": 311,
    "start_time": "2024-04-02T08:46:21.771Z"
   },
   {
    "duration": 59,
    "start_time": "2024-04-02T08:46:22.083Z"
   },
   {
    "duration": 63,
    "start_time": "2024-04-02T08:46:22.143Z"
   },
   {
    "duration": 1095,
    "start_time": "2024-04-02T08:46:22.208Z"
   },
   {
    "duration": 6,
    "start_time": "2024-04-02T08:46:23.305Z"
   },
   {
    "duration": 673,
    "start_time": "2024-04-02T08:46:23.312Z"
   },
   {
    "duration": 708,
    "start_time": "2024-04-02T08:46:23.987Z"
   },
   {
    "duration": 6,
    "start_time": "2024-04-02T08:46:24.697Z"
   },
   {
    "duration": 6,
    "start_time": "2024-04-02T08:46:24.705Z"
   },
   {
    "duration": 538,
    "start_time": "2024-04-02T08:46:24.713Z"
   },
   {
    "duration": 1157,
    "start_time": "2024-04-02T08:46:25.257Z"
   },
   {
    "duration": 7,
    "start_time": "2024-04-02T08:46:26.416Z"
   },
   {
    "duration": 627,
    "start_time": "2024-04-02T08:46:26.424Z"
   },
   {
    "duration": 108,
    "start_time": "2024-04-02T08:46:27.058Z"
   },
   {
    "duration": 192,
    "start_time": "2024-04-02T08:46:27.168Z"
   },
   {
    "duration": 198,
    "start_time": "2024-04-02T08:46:27.362Z"
   },
   {
    "duration": 4,
    "start_time": "2024-04-02T08:46:27.564Z"
   },
   {
    "duration": 14,
    "start_time": "2024-04-02T08:46:27.659Z"
   },
   {
    "duration": 16,
    "start_time": "2024-04-02T08:46:27.675Z"
   },
   {
    "duration": 8,
    "start_time": "2024-04-02T08:46:27.693Z"
   },
   {
    "duration": 175,
    "start_time": "2024-04-02T08:46:27.702Z"
   },
   {
    "duration": 195,
    "start_time": "2024-04-02T08:46:27.879Z"
   },
   {
    "duration": 200,
    "start_time": "2024-04-02T08:46:28.075Z"
   },
   {
    "duration": 4329,
    "start_time": "2024-04-02T08:46:28.276Z"
   },
   {
    "duration": 3628,
    "start_time": "2024-04-02T11:33:46.423Z"
   },
   {
    "duration": 1905,
    "start_time": "2024-04-02T11:33:50.055Z"
   },
   {
    "duration": 3,
    "start_time": "2024-04-02T11:33:51.962Z"
   },
   {
    "duration": 16,
    "start_time": "2024-04-02T11:33:51.967Z"
   },
   {
    "duration": 12,
    "start_time": "2024-04-02T11:33:51.986Z"
   },
   {
    "duration": 37,
    "start_time": "2024-04-02T11:33:52.000Z"
   },
   {
    "duration": 10,
    "start_time": "2024-04-02T11:33:52.038Z"
   },
   {
    "duration": 765,
    "start_time": "2024-04-02T11:33:52.050Z"
   },
   {
    "duration": 164,
    "start_time": "2024-04-02T11:33:52.817Z"
   },
   {
    "duration": 633,
    "start_time": "2024-04-02T11:33:52.983Z"
   },
   {
    "duration": 78,
    "start_time": "2024-04-02T11:33:53.618Z"
   },
   {
    "duration": 694,
    "start_time": "2024-04-02T11:33:53.698Z"
   },
   {
    "duration": 69,
    "start_time": "2024-04-02T11:33:54.394Z"
   },
   {
    "duration": 50,
    "start_time": "2024-04-02T11:33:54.481Z"
   },
   {
    "duration": 1090,
    "start_time": "2024-04-02T11:33:54.532Z"
   },
   {
    "duration": 6,
    "start_time": "2024-04-02T11:33:55.624Z"
   },
   {
    "duration": 686,
    "start_time": "2024-04-02T11:33:55.632Z"
   },
   {
    "duration": 903,
    "start_time": "2024-04-02T11:33:56.320Z"
   },
   {
    "duration": 7,
    "start_time": "2024-04-02T11:33:57.225Z"
   },
   {
    "duration": 647,
    "start_time": "2024-04-02T11:33:57.233Z"
   },
   {
    "duration": 1145,
    "start_time": "2024-04-02T11:33:57.882Z"
   },
   {
    "duration": 6,
    "start_time": "2024-04-02T11:33:59.029Z"
   },
   {
    "duration": 635,
    "start_time": "2024-04-02T11:33:59.037Z"
   },
   {
    "duration": 108,
    "start_time": "2024-04-02T11:33:59.679Z"
   },
   {
    "duration": 102,
    "start_time": "2024-04-02T11:33:59.879Z"
   },
   {
    "duration": 205,
    "start_time": "2024-04-02T11:33:59.984Z"
   },
   {
    "duration": 3,
    "start_time": "2024-04-02T11:34:00.281Z"
   },
   {
    "duration": 190,
    "start_time": "2024-04-02T11:34:00.286Z"
   },
   {
    "duration": 155,
    "start_time": "2024-04-02T11:34:00.478Z"
   },
   {
    "duration": 46,
    "start_time": "2024-04-02T11:34:00.635Z"
   },
   {
    "duration": 216,
    "start_time": "2024-04-02T11:34:00.682Z"
   },
   {
    "duration": 203,
    "start_time": "2024-04-02T11:34:00.900Z"
   },
   {
    "duration": 199,
    "start_time": "2024-04-02T11:34:01.105Z"
   },
   {
    "duration": 4853,
    "start_time": "2024-04-02T11:34:01.306Z"
   }
  ],
  "kernelspec": {
   "display_name": "Python 3 (ipykernel)",
   "language": "python",
   "name": "python3"
  },
  "language_info": {
   "codemirror_mode": {
    "name": "ipython",
    "version": 3
   },
   "file_extension": ".py",
   "mimetype": "text/x-python",
   "name": "python",
   "nbconvert_exporter": "python",
   "pygments_lexer": "ipython3",
   "version": "3.9.19"
  },
  "toc": {
   "base_numbering": 1,
   "nav_menu": {
    "height": "190px",
    "width": "244px"
   },
   "number_sections": true,
   "sideBar": true,
   "skip_h1_title": true,
   "title_cell": "Table of Contents",
   "title_sidebar": "Contents",
   "toc_cell": false,
   "toc_position": {
    "height": "calc(100% - 180px)",
    "left": "10px",
    "top": "150px",
    "width": "230.4px"
   },
   "toc_section_display": true,
   "toc_window_display": false
  }
 },
 "nbformat": 4,
 "nbformat_minor": 4
}
